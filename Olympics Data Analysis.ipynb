{
 "cells": [
  {
   "cell_type": "code",
   "execution_count": 192,
   "id": "381b0aea",
   "metadata": {},
   "outputs": [],
   "source": [
    "import numpy as np\n",
    "import pandas as pd"
   ]
  },
  {
   "cell_type": "code",
   "execution_count": 193,
   "id": "286f8ac0",
   "metadata": {},
   "outputs": [],
   "source": [
    "df = pd.read_csv('athlete_events.csv')\n",
    "region_df = pd.read_csv('noc_regions.csv')"
   ]
  },
  {
   "cell_type": "code",
   "execution_count": 194,
   "id": "4e253643",
   "metadata": {},
   "outputs": [
    {
     "data": {
      "text/html": [
       "<div>\n",
       "<style scoped>\n",
       "    .dataframe tbody tr th:only-of-type {\n",
       "        vertical-align: middle;\n",
       "    }\n",
       "\n",
       "    .dataframe tbody tr th {\n",
       "        vertical-align: top;\n",
       "    }\n",
       "\n",
       "    .dataframe thead th {\n",
       "        text-align: right;\n",
       "    }\n",
       "</style>\n",
       "<table border=\"1\" class=\"dataframe\">\n",
       "  <thead>\n",
       "    <tr style=\"text-align: right;\">\n",
       "      <th></th>\n",
       "      <th>ID</th>\n",
       "      <th>Name</th>\n",
       "      <th>Sex</th>\n",
       "      <th>Age</th>\n",
       "      <th>Height</th>\n",
       "      <th>Weight</th>\n",
       "      <th>Team</th>\n",
       "      <th>NOC</th>\n",
       "      <th>Games</th>\n",
       "      <th>Year</th>\n",
       "      <th>Season</th>\n",
       "      <th>City</th>\n",
       "      <th>Sport</th>\n",
       "      <th>Event</th>\n",
       "      <th>Medal</th>\n",
       "    </tr>\n",
       "  </thead>\n",
       "  <tbody>\n",
       "    <tr>\n",
       "      <th>271111</th>\n",
       "      <td>135569</td>\n",
       "      <td>Andrzej ya</td>\n",
       "      <td>M</td>\n",
       "      <td>29.0</td>\n",
       "      <td>179.0</td>\n",
       "      <td>89.0</td>\n",
       "      <td>Poland-1</td>\n",
       "      <td>POL</td>\n",
       "      <td>1976 Winter</td>\n",
       "      <td>1976</td>\n",
       "      <td>Winter</td>\n",
       "      <td>Innsbruck</td>\n",
       "      <td>Luge</td>\n",
       "      <td>Luge Mixed (Men)'s Doubles</td>\n",
       "      <td>NaN</td>\n",
       "    </tr>\n",
       "    <tr>\n",
       "      <th>271112</th>\n",
       "      <td>135570</td>\n",
       "      <td>Piotr ya</td>\n",
       "      <td>M</td>\n",
       "      <td>27.0</td>\n",
       "      <td>176.0</td>\n",
       "      <td>59.0</td>\n",
       "      <td>Poland</td>\n",
       "      <td>POL</td>\n",
       "      <td>2014 Winter</td>\n",
       "      <td>2014</td>\n",
       "      <td>Winter</td>\n",
       "      <td>Sochi</td>\n",
       "      <td>Ski Jumping</td>\n",
       "      <td>Ski Jumping Men's Large Hill, Individual</td>\n",
       "      <td>NaN</td>\n",
       "    </tr>\n",
       "    <tr>\n",
       "      <th>271113</th>\n",
       "      <td>135570</td>\n",
       "      <td>Piotr ya</td>\n",
       "      <td>M</td>\n",
       "      <td>27.0</td>\n",
       "      <td>176.0</td>\n",
       "      <td>59.0</td>\n",
       "      <td>Poland</td>\n",
       "      <td>POL</td>\n",
       "      <td>2014 Winter</td>\n",
       "      <td>2014</td>\n",
       "      <td>Winter</td>\n",
       "      <td>Sochi</td>\n",
       "      <td>Ski Jumping</td>\n",
       "      <td>Ski Jumping Men's Large Hill, Team</td>\n",
       "      <td>NaN</td>\n",
       "    </tr>\n",
       "    <tr>\n",
       "      <th>271114</th>\n",
       "      <td>135571</td>\n",
       "      <td>Tomasz Ireneusz ya</td>\n",
       "      <td>M</td>\n",
       "      <td>30.0</td>\n",
       "      <td>185.0</td>\n",
       "      <td>96.0</td>\n",
       "      <td>Poland</td>\n",
       "      <td>POL</td>\n",
       "      <td>1998 Winter</td>\n",
       "      <td>1998</td>\n",
       "      <td>Winter</td>\n",
       "      <td>Nagano</td>\n",
       "      <td>Bobsleigh</td>\n",
       "      <td>Bobsleigh Men's Four</td>\n",
       "      <td>NaN</td>\n",
       "    </tr>\n",
       "    <tr>\n",
       "      <th>271115</th>\n",
       "      <td>135571</td>\n",
       "      <td>Tomasz Ireneusz ya</td>\n",
       "      <td>M</td>\n",
       "      <td>34.0</td>\n",
       "      <td>185.0</td>\n",
       "      <td>96.0</td>\n",
       "      <td>Poland</td>\n",
       "      <td>POL</td>\n",
       "      <td>2002 Winter</td>\n",
       "      <td>2002</td>\n",
       "      <td>Winter</td>\n",
       "      <td>Salt Lake City</td>\n",
       "      <td>Bobsleigh</td>\n",
       "      <td>Bobsleigh Men's Four</td>\n",
       "      <td>NaN</td>\n",
       "    </tr>\n",
       "  </tbody>\n",
       "</table>\n",
       "</div>"
      ],
      "text/plain": [
       "            ID                Name Sex   Age  Height  Weight      Team  NOC  \\\n",
       "271111  135569          Andrzej ya   M  29.0   179.0    89.0  Poland-1  POL   \n",
       "271112  135570            Piotr ya   M  27.0   176.0    59.0    Poland  POL   \n",
       "271113  135570            Piotr ya   M  27.0   176.0    59.0    Poland  POL   \n",
       "271114  135571  Tomasz Ireneusz ya   M  30.0   185.0    96.0    Poland  POL   \n",
       "271115  135571  Tomasz Ireneusz ya   M  34.0   185.0    96.0    Poland  POL   \n",
       "\n",
       "              Games  Year  Season            City        Sport  \\\n",
       "271111  1976 Winter  1976  Winter       Innsbruck         Luge   \n",
       "271112  2014 Winter  2014  Winter           Sochi  Ski Jumping   \n",
       "271113  2014 Winter  2014  Winter           Sochi  Ski Jumping   \n",
       "271114  1998 Winter  1998  Winter          Nagano    Bobsleigh   \n",
       "271115  2002 Winter  2002  Winter  Salt Lake City    Bobsleigh   \n",
       "\n",
       "                                           Event Medal  \n",
       "271111                Luge Mixed (Men)'s Doubles   NaN  \n",
       "271112  Ski Jumping Men's Large Hill, Individual   NaN  \n",
       "271113        Ski Jumping Men's Large Hill, Team   NaN  \n",
       "271114                      Bobsleigh Men's Four   NaN  \n",
       "271115                      Bobsleigh Men's Four   NaN  "
      ]
     },
     "execution_count": 194,
     "metadata": {},
     "output_type": "execute_result"
    }
   ],
   "source": [
    "df.tail()"
   ]
  },
  {
   "cell_type": "code",
   "execution_count": 195,
   "id": "99aedfc7",
   "metadata": {},
   "outputs": [
    {
     "data": {
      "text/plain": [
       "(271116, 15)"
      ]
     },
     "execution_count": 195,
     "metadata": {},
     "output_type": "execute_result"
    }
   ],
   "source": [
    "df.shape"
   ]
  },
  {
   "cell_type": "code",
   "execution_count": 196,
   "id": "d9cc05ac",
   "metadata": {},
   "outputs": [
    {
     "data": {
      "text/plain": [
       "(222552, 15)"
      ]
     },
     "execution_count": 196,
     "metadata": {},
     "output_type": "execute_result"
    }
   ],
   "source": [
    "df = df[df['Season'] == 'Summer']\n",
    "df.shape"
   ]
  },
  {
   "cell_type": "code",
   "execution_count": 197,
   "id": "e5117bd1",
   "metadata": {},
   "outputs": [
    {
     "data": {
      "text/html": [
       "<div>\n",
       "<style scoped>\n",
       "    .dataframe tbody tr th:only-of-type {\n",
       "        vertical-align: middle;\n",
       "    }\n",
       "\n",
       "    .dataframe tbody tr th {\n",
       "        vertical-align: top;\n",
       "    }\n",
       "\n",
       "    .dataframe thead th {\n",
       "        text-align: right;\n",
       "    }\n",
       "</style>\n",
       "<table border=\"1\" class=\"dataframe\">\n",
       "  <thead>\n",
       "    <tr style=\"text-align: right;\">\n",
       "      <th></th>\n",
       "      <th>ID</th>\n",
       "      <th>Name</th>\n",
       "      <th>Sex</th>\n",
       "      <th>Age</th>\n",
       "      <th>Height</th>\n",
       "      <th>Weight</th>\n",
       "      <th>Team</th>\n",
       "      <th>NOC</th>\n",
       "      <th>Games</th>\n",
       "      <th>Year</th>\n",
       "      <th>Season</th>\n",
       "      <th>City</th>\n",
       "      <th>Sport</th>\n",
       "      <th>Event</th>\n",
       "      <th>Medal</th>\n",
       "      <th>region</th>\n",
       "      <th>notes</th>\n",
       "    </tr>\n",
       "  </thead>\n",
       "  <tbody>\n",
       "    <tr>\n",
       "      <th>222547</th>\n",
       "      <td>135565</td>\n",
       "      <td>Fernando scar Zylberberg</td>\n",
       "      <td>M</td>\n",
       "      <td>27.0</td>\n",
       "      <td>168.0</td>\n",
       "      <td>76.0</td>\n",
       "      <td>Argentina</td>\n",
       "      <td>ARG</td>\n",
       "      <td>2004 Summer</td>\n",
       "      <td>2004</td>\n",
       "      <td>Summer</td>\n",
       "      <td>Athina</td>\n",
       "      <td>Hockey</td>\n",
       "      <td>Hockey Men's Hockey</td>\n",
       "      <td>NaN</td>\n",
       "      <td>Argentina</td>\n",
       "      <td>NaN</td>\n",
       "    </tr>\n",
       "    <tr>\n",
       "      <th>222548</th>\n",
       "      <td>135566</td>\n",
       "      <td>James Francis \"Jim\" Zylker</td>\n",
       "      <td>M</td>\n",
       "      <td>21.0</td>\n",
       "      <td>175.0</td>\n",
       "      <td>75.0</td>\n",
       "      <td>United States</td>\n",
       "      <td>USA</td>\n",
       "      <td>1972 Summer</td>\n",
       "      <td>1972</td>\n",
       "      <td>Summer</td>\n",
       "      <td>Munich</td>\n",
       "      <td>Football</td>\n",
       "      <td>Football Men's Football</td>\n",
       "      <td>NaN</td>\n",
       "      <td>USA</td>\n",
       "      <td>NaN</td>\n",
       "    </tr>\n",
       "    <tr>\n",
       "      <th>222549</th>\n",
       "      <td>135567</td>\n",
       "      <td>Aleksandr Viktorovich Zyuzin</td>\n",
       "      <td>M</td>\n",
       "      <td>24.0</td>\n",
       "      <td>183.0</td>\n",
       "      <td>72.0</td>\n",
       "      <td>Russia</td>\n",
       "      <td>RUS</td>\n",
       "      <td>2000 Summer</td>\n",
       "      <td>2000</td>\n",
       "      <td>Summer</td>\n",
       "      <td>Sydney</td>\n",
       "      <td>Rowing</td>\n",
       "      <td>Rowing Men's Lightweight Coxless Fours</td>\n",
       "      <td>NaN</td>\n",
       "      <td>Russia</td>\n",
       "      <td>NaN</td>\n",
       "    </tr>\n",
       "    <tr>\n",
       "      <th>222550</th>\n",
       "      <td>135567</td>\n",
       "      <td>Aleksandr Viktorovich Zyuzin</td>\n",
       "      <td>M</td>\n",
       "      <td>28.0</td>\n",
       "      <td>183.0</td>\n",
       "      <td>72.0</td>\n",
       "      <td>Russia</td>\n",
       "      <td>RUS</td>\n",
       "      <td>2004 Summer</td>\n",
       "      <td>2004</td>\n",
       "      <td>Summer</td>\n",
       "      <td>Athina</td>\n",
       "      <td>Rowing</td>\n",
       "      <td>Rowing Men's Lightweight Coxless Fours</td>\n",
       "      <td>NaN</td>\n",
       "      <td>Russia</td>\n",
       "      <td>NaN</td>\n",
       "    </tr>\n",
       "    <tr>\n",
       "      <th>222551</th>\n",
       "      <td>135568</td>\n",
       "      <td>Olga Igorevna Zyuzkova</td>\n",
       "      <td>F</td>\n",
       "      <td>33.0</td>\n",
       "      <td>171.0</td>\n",
       "      <td>69.0</td>\n",
       "      <td>Belarus</td>\n",
       "      <td>BLR</td>\n",
       "      <td>2016 Summer</td>\n",
       "      <td>2016</td>\n",
       "      <td>Summer</td>\n",
       "      <td>Rio de Janeiro</td>\n",
       "      <td>Basketball</td>\n",
       "      <td>Basketball Women's Basketball</td>\n",
       "      <td>NaN</td>\n",
       "      <td>Belarus</td>\n",
       "      <td>NaN</td>\n",
       "    </tr>\n",
       "  </tbody>\n",
       "</table>\n",
       "</div>"
      ],
      "text/plain": [
       "            ID                          Name Sex   Age  Height  Weight  \\\n",
       "222547  135565      Fernando scar Zylberberg   M  27.0   168.0    76.0   \n",
       "222548  135566    James Francis \"Jim\" Zylker   M  21.0   175.0    75.0   \n",
       "222549  135567  Aleksandr Viktorovich Zyuzin   M  24.0   183.0    72.0   \n",
       "222550  135567  Aleksandr Viktorovich Zyuzin   M  28.0   183.0    72.0   \n",
       "222551  135568        Olga Igorevna Zyuzkova   F  33.0   171.0    69.0   \n",
       "\n",
       "                 Team  NOC        Games  Year  Season            City  \\\n",
       "222547      Argentina  ARG  2004 Summer  2004  Summer          Athina   \n",
       "222548  United States  USA  1972 Summer  1972  Summer          Munich   \n",
       "222549         Russia  RUS  2000 Summer  2000  Summer          Sydney   \n",
       "222550         Russia  RUS  2004 Summer  2004  Summer          Athina   \n",
       "222551        Belarus  BLR  2016 Summer  2016  Summer  Rio de Janeiro   \n",
       "\n",
       "             Sport                                   Event Medal     region  \\\n",
       "222547      Hockey                     Hockey Men's Hockey   NaN  Argentina   \n",
       "222548    Football                 Football Men's Football   NaN        USA   \n",
       "222549      Rowing  Rowing Men's Lightweight Coxless Fours   NaN     Russia   \n",
       "222550      Rowing  Rowing Men's Lightweight Coxless Fours   NaN     Russia   \n",
       "222551  Basketball           Basketball Women's Basketball   NaN    Belarus   \n",
       "\n",
       "       notes  \n",
       "222547   NaN  \n",
       "222548   NaN  \n",
       "222549   NaN  \n",
       "222550   NaN  \n",
       "222551   NaN  "
      ]
     },
     "execution_count": 197,
     "metadata": {},
     "output_type": "execute_result"
    }
   ],
   "source": [
    "df = df.merge(region_df, on='NOC', how='left')\n",
    "df.tail()"
   ]
  },
  {
   "cell_type": "code",
   "execution_count": 198,
   "id": "ceef4eb4",
   "metadata": {},
   "outputs": [
    {
     "data": {
      "text/plain": [
       "(222552, 17)"
      ]
     },
     "execution_count": 198,
     "metadata": {},
     "output_type": "execute_result"
    }
   ],
   "source": [
    "df.shape"
   ]
  },
  {
   "cell_type": "code",
   "execution_count": 199,
   "id": "dd34c015",
   "metadata": {},
   "outputs": [
    {
     "data": {
      "text/plain": [
       "array(['China', 'Denmark', 'Netherlands', 'Finland', 'Norway', 'Romania',\n",
       "       'Estonia', 'France', 'Morocco', 'Spain', 'Egypt', 'Iran',\n",
       "       'Bulgaria', 'Italy', 'Chad', 'Azerbaijan', 'Sudan', 'Russia',\n",
       "       'Argentina', 'Cuba', 'Belarus', 'Greece', 'Cameroon', 'Turkey',\n",
       "       'Chile', 'Mexico', 'USA', 'Nicaragua', 'Hungary', 'Nigeria',\n",
       "       'Algeria', 'Kuwait', 'Bahrain', 'Pakistan', 'Iraq', 'Syria',\n",
       "       'Lebanon', 'Qatar', 'Malaysia', 'Germany', 'Canada', 'Ireland',\n",
       "       'Australia', 'South Africa', 'Eritrea', 'Tanzania', 'Jordan',\n",
       "       'Tunisia', 'Libya', 'Belgium', 'Djibouti', 'Palestine', 'Comoros',\n",
       "       'Kazakhstan', 'Brunei', 'India', 'Saudi Arabia', 'Maldives',\n",
       "       'Ethiopia', 'United Arab Emirates', 'Yemen', 'Indonesia',\n",
       "       'Philippines', nan, 'Uzbekistan', 'Kyrgyzstan', 'Tajikistan',\n",
       "       'Japan', 'Republic of Congo', 'Switzerland', 'Brazil', 'Monaco',\n",
       "       'Israel', 'Uruguay', 'Sweden', 'Sri Lanka', 'Armenia',\n",
       "       'Ivory Coast', 'Kenya', 'Benin', 'UK', 'Ghana', 'Somalia', 'Niger',\n",
       "       'Mali', 'Afghanistan', 'Poland', 'Costa Rica', 'Panama', 'Georgia',\n",
       "       'Slovenia', 'Guyana', 'New Zealand', 'Portugal', 'Paraguay',\n",
       "       'Angola', 'Venezuela', 'Colombia', 'Bangladesh', 'Peru',\n",
       "       'El Salvador', 'Puerto Rico', 'Uganda', 'Honduras', 'Ecuador',\n",
       "       'Turkmenistan', 'Mauritius', 'Seychelles', 'Czech Republic',\n",
       "       'Luxembourg', 'Mauritania', 'Saint Kitts', 'Trinidad',\n",
       "       'Dominican Republic', 'Saint Vincent', 'Jamaica', 'Liberia',\n",
       "       'Suriname', 'Nepal', 'Mongolia', 'Austria', 'Palau', 'Lithuania',\n",
       "       'Togo', 'Namibia', 'Curacao', 'Ukraine', 'Iceland',\n",
       "       'American Samoa', 'Samoa', 'Rwanda', 'Croatia', 'Dominica',\n",
       "       'Haiti', 'Malta', 'Cyprus', 'Guinea', 'Belize', 'Thailand',\n",
       "       'Bermuda', 'Serbia', 'Sierra Leone', 'Papua New Guinea',\n",
       "       'Individual Olympic Athletes', 'Oman', 'Fiji', 'Vanuatu',\n",
       "       'Moldova', 'Bahamas', 'Guatemala', 'Latvia',\n",
       "       'Virgin Islands, British', 'Mozambique', 'Virgin Islands, US',\n",
       "       'Central African Republic', 'Madagascar', 'Bosnia and Herzegovina',\n",
       "       'Guam', 'Cayman Islands', 'Slovakia', 'Barbados', 'Guinea-Bissau',\n",
       "       'Timor-Leste', 'Democratic Republic of the Congo', 'Gabon',\n",
       "       'San Marino', 'Laos', 'Botswana', 'South Korea', 'Cambodia',\n",
       "       'North Korea', 'Solomon Islands', 'Senegal', 'Cape Verde',\n",
       "       'Equatorial Guinea', 'Boliva', 'Antigua', 'Andorra', 'Zimbabwe',\n",
       "       'Grenada', 'Saint Lucia', 'Micronesia', 'Myanmar', 'Malawi',\n",
       "       'Zambia', 'Taiwan', 'Sao Tome and Principe', 'Macedonia',\n",
       "       'Liechtenstein', 'Montenegro', 'Gambia', 'Cook Islands', 'Albania',\n",
       "       'Swaziland', 'Burkina Faso', 'Burundi', 'Aruba', 'Nauru',\n",
       "       'Vietnam', 'Bhutan', 'Marshall Islands', 'Kiribati', 'Tonga',\n",
       "       'Kosovo', 'South Sudan', 'Lesotho'], dtype=object)"
      ]
     },
     "execution_count": 199,
     "metadata": {},
     "output_type": "execute_result"
    }
   ],
   "source": [
    "df['region'].unique()"
   ]
  },
  {
   "cell_type": "code",
   "execution_count": 200,
   "id": "6fc76e1a",
   "metadata": {},
   "outputs": [
    {
     "data": {
      "text/plain": [
       "1385"
      ]
     },
     "execution_count": 200,
     "metadata": {},
     "output_type": "execute_result"
    }
   ],
   "source": [
    "df.duplicated().sum()"
   ]
  },
  {
   "cell_type": "code",
   "execution_count": 201,
   "id": "a40d4085",
   "metadata": {},
   "outputs": [],
   "source": [
    "df.drop_duplicates(inplace=True)"
   ]
  },
  {
   "cell_type": "code",
   "execution_count": 202,
   "id": "bdca1815",
   "metadata": {},
   "outputs": [
    {
     "data": {
      "text/plain": [
       "0"
      ]
     },
     "execution_count": 202,
     "metadata": {},
     "output_type": "execute_result"
    }
   ],
   "source": [
    "df.duplicated().sum()"
   ]
  },
  {
   "cell_type": "code",
   "execution_count": 203,
   "id": "abb1b44c",
   "metadata": {},
   "outputs": [
    {
     "data": {
      "text/plain": [
       "Gold      11456\n",
       "Bronze    11409\n",
       "Silver    11212\n",
       "Name: Medal, dtype: int64"
      ]
     },
     "execution_count": 203,
     "metadata": {},
     "output_type": "execute_result"
    }
   ],
   "source": [
    "df['Medal'].value_counts()"
   ]
  },
  {
   "cell_type": "code",
   "execution_count": 204,
   "id": "02fd6508",
   "metadata": {},
   "outputs": [
    {
     "data": {
      "text/html": [
       "<div>\n",
       "<style scoped>\n",
       "    .dataframe tbody tr th:only-of-type {\n",
       "        vertical-align: middle;\n",
       "    }\n",
       "\n",
       "    .dataframe tbody tr th {\n",
       "        vertical-align: top;\n",
       "    }\n",
       "\n",
       "    .dataframe thead th {\n",
       "        text-align: right;\n",
       "    }\n",
       "</style>\n",
       "<table border=\"1\" class=\"dataframe\">\n",
       "  <thead>\n",
       "    <tr style=\"text-align: right;\">\n",
       "      <th></th>\n",
       "      <th>ID</th>\n",
       "      <th>Name</th>\n",
       "      <th>Sex</th>\n",
       "      <th>Age</th>\n",
       "      <th>Height</th>\n",
       "      <th>Weight</th>\n",
       "      <th>Team</th>\n",
       "      <th>NOC</th>\n",
       "      <th>Games</th>\n",
       "      <th>Year</th>\n",
       "      <th>Season</th>\n",
       "      <th>City</th>\n",
       "      <th>Sport</th>\n",
       "      <th>Event</th>\n",
       "      <th>Medal</th>\n",
       "      <th>region</th>\n",
       "      <th>notes</th>\n",
       "      <th>Bronze</th>\n",
       "      <th>Gold</th>\n",
       "      <th>Silver</th>\n",
       "    </tr>\n",
       "  </thead>\n",
       "  <tbody>\n",
       "    <tr>\n",
       "      <th>0</th>\n",
       "      <td>1</td>\n",
       "      <td>A Dijiang</td>\n",
       "      <td>M</td>\n",
       "      <td>24.0</td>\n",
       "      <td>180.0</td>\n",
       "      <td>80.0</td>\n",
       "      <td>China</td>\n",
       "      <td>CHN</td>\n",
       "      <td>1992 Summer</td>\n",
       "      <td>1992</td>\n",
       "      <td>Summer</td>\n",
       "      <td>Barcelona</td>\n",
       "      <td>Basketball</td>\n",
       "      <td>Basketball Men's Basketball</td>\n",
       "      <td>NaN</td>\n",
       "      <td>China</td>\n",
       "      <td>NaN</td>\n",
       "      <td>0</td>\n",
       "      <td>0</td>\n",
       "      <td>0</td>\n",
       "    </tr>\n",
       "    <tr>\n",
       "      <th>1</th>\n",
       "      <td>2</td>\n",
       "      <td>A Lamusi</td>\n",
       "      <td>M</td>\n",
       "      <td>23.0</td>\n",
       "      <td>170.0</td>\n",
       "      <td>60.0</td>\n",
       "      <td>China</td>\n",
       "      <td>CHN</td>\n",
       "      <td>2012 Summer</td>\n",
       "      <td>2012</td>\n",
       "      <td>Summer</td>\n",
       "      <td>London</td>\n",
       "      <td>Judo</td>\n",
       "      <td>Judo Men's Extra-Lightweight</td>\n",
       "      <td>NaN</td>\n",
       "      <td>China</td>\n",
       "      <td>NaN</td>\n",
       "      <td>0</td>\n",
       "      <td>0</td>\n",
       "      <td>0</td>\n",
       "    </tr>\n",
       "    <tr>\n",
       "      <th>2</th>\n",
       "      <td>3</td>\n",
       "      <td>Gunnar Nielsen Aaby</td>\n",
       "      <td>M</td>\n",
       "      <td>24.0</td>\n",
       "      <td>NaN</td>\n",
       "      <td>NaN</td>\n",
       "      <td>Denmark</td>\n",
       "      <td>DEN</td>\n",
       "      <td>1920 Summer</td>\n",
       "      <td>1920</td>\n",
       "      <td>Summer</td>\n",
       "      <td>Antwerpen</td>\n",
       "      <td>Football</td>\n",
       "      <td>Football Men's Football</td>\n",
       "      <td>NaN</td>\n",
       "      <td>Denmark</td>\n",
       "      <td>NaN</td>\n",
       "      <td>0</td>\n",
       "      <td>0</td>\n",
       "      <td>0</td>\n",
       "    </tr>\n",
       "    <tr>\n",
       "      <th>3</th>\n",
       "      <td>4</td>\n",
       "      <td>Edgar Lindenau Aabye</td>\n",
       "      <td>M</td>\n",
       "      <td>34.0</td>\n",
       "      <td>NaN</td>\n",
       "      <td>NaN</td>\n",
       "      <td>Denmark/Sweden</td>\n",
       "      <td>DEN</td>\n",
       "      <td>1900 Summer</td>\n",
       "      <td>1900</td>\n",
       "      <td>Summer</td>\n",
       "      <td>Paris</td>\n",
       "      <td>Tug-Of-War</td>\n",
       "      <td>Tug-Of-War Men's Tug-Of-War</td>\n",
       "      <td>Gold</td>\n",
       "      <td>Denmark</td>\n",
       "      <td>NaN</td>\n",
       "      <td>0</td>\n",
       "      <td>1</td>\n",
       "      <td>0</td>\n",
       "    </tr>\n",
       "    <tr>\n",
       "      <th>4</th>\n",
       "      <td>8</td>\n",
       "      <td>Cornelia \"Cor\" Aalten (-Strannood)</td>\n",
       "      <td>F</td>\n",
       "      <td>18.0</td>\n",
       "      <td>168.0</td>\n",
       "      <td>NaN</td>\n",
       "      <td>Netherlands</td>\n",
       "      <td>NED</td>\n",
       "      <td>1932 Summer</td>\n",
       "      <td>1932</td>\n",
       "      <td>Summer</td>\n",
       "      <td>Los Angeles</td>\n",
       "      <td>Athletics</td>\n",
       "      <td>Athletics Women's 100 metres</td>\n",
       "      <td>NaN</td>\n",
       "      <td>Netherlands</td>\n",
       "      <td>NaN</td>\n",
       "      <td>0</td>\n",
       "      <td>0</td>\n",
       "      <td>0</td>\n",
       "    </tr>\n",
       "  </tbody>\n",
       "</table>\n",
       "</div>"
      ],
      "text/plain": [
       "   ID                                Name Sex   Age  Height  Weight  \\\n",
       "0   1                           A Dijiang   M  24.0   180.0    80.0   \n",
       "1   2                            A Lamusi   M  23.0   170.0    60.0   \n",
       "2   3                 Gunnar Nielsen Aaby   M  24.0     NaN     NaN   \n",
       "3   4                Edgar Lindenau Aabye   M  34.0     NaN     NaN   \n",
       "4   8  Cornelia \"Cor\" Aalten (-Strannood)   F  18.0   168.0     NaN   \n",
       "\n",
       "             Team  NOC        Games  Year  Season         City       Sport  \\\n",
       "0           China  CHN  1992 Summer  1992  Summer    Barcelona  Basketball   \n",
       "1           China  CHN  2012 Summer  2012  Summer       London        Judo   \n",
       "2         Denmark  DEN  1920 Summer  1920  Summer    Antwerpen    Football   \n",
       "3  Denmark/Sweden  DEN  1900 Summer  1900  Summer        Paris  Tug-Of-War   \n",
       "4     Netherlands  NED  1932 Summer  1932  Summer  Los Angeles   Athletics   \n",
       "\n",
       "                          Event Medal       region notes  Bronze  Gold  Silver  \n",
       "0   Basketball Men's Basketball   NaN        China   NaN       0     0       0  \n",
       "1  Judo Men's Extra-Lightweight   NaN        China   NaN       0     0       0  \n",
       "2       Football Men's Football   NaN      Denmark   NaN       0     0       0  \n",
       "3   Tug-Of-War Men's Tug-Of-War  Gold      Denmark   NaN       0     1       0  \n",
       "4  Athletics Women's 100 metres   NaN  Netherlands   NaN       0     0       0  "
      ]
     },
     "execution_count": 204,
     "metadata": {},
     "output_type": "execute_result"
    }
   ],
   "source": [
    "df = pd.concat([df, pd.get_dummies(df['Medal'])], axis=1)\n",
    "df.head()"
   ]
  },
  {
   "cell_type": "code",
   "execution_count": 205,
   "id": "b2d99ac3",
   "metadata": {
    "scrolled": true
   },
   "outputs": [
    {
     "data": {
      "text/html": [
       "<div>\n",
       "<style scoped>\n",
       "    .dataframe tbody tr th:only-of-type {\n",
       "        vertical-align: middle;\n",
       "    }\n",
       "\n",
       "    .dataframe tbody tr th {\n",
       "        vertical-align: top;\n",
       "    }\n",
       "\n",
       "    .dataframe thead th {\n",
       "        text-align: right;\n",
       "    }\n",
       "</style>\n",
       "<table border=\"1\" class=\"dataframe\">\n",
       "  <thead>\n",
       "    <tr style=\"text-align: right;\">\n",
       "      <th></th>\n",
       "      <th>Gold</th>\n",
       "      <th>Silver</th>\n",
       "      <th>Bronze</th>\n",
       "    </tr>\n",
       "    <tr>\n",
       "      <th>NOC</th>\n",
       "      <th></th>\n",
       "      <th></th>\n",
       "      <th></th>\n",
       "    </tr>\n",
       "  </thead>\n",
       "  <tbody>\n",
       "    <tr>\n",
       "      <th>USA</th>\n",
       "      <td>2460.0</td>\n",
       "      <td>1327.0</td>\n",
       "      <td>1191.0</td>\n",
       "    </tr>\n",
       "    <tr>\n",
       "      <th>URS</th>\n",
       "      <td>832.0</td>\n",
       "      <td>635.0</td>\n",
       "      <td>596.0</td>\n",
       "    </tr>\n",
       "    <tr>\n",
       "      <th>GBR</th>\n",
       "      <td>626.0</td>\n",
       "      <td>707.0</td>\n",
       "      <td>612.0</td>\n",
       "    </tr>\n",
       "    <tr>\n",
       "      <th>GER</th>\n",
       "      <td>578.0</td>\n",
       "      <td>528.0</td>\n",
       "      <td>643.0</td>\n",
       "    </tr>\n",
       "    <tr>\n",
       "      <th>ITA</th>\n",
       "      <td>497.0</td>\n",
       "      <td>466.0</td>\n",
       "      <td>427.0</td>\n",
       "    </tr>\n",
       "    <tr>\n",
       "      <th>...</th>\n",
       "      <td>...</td>\n",
       "      <td>...</td>\n",
       "      <td>...</td>\n",
       "    </tr>\n",
       "    <tr>\n",
       "      <th>LBR</th>\n",
       "      <td>0.0</td>\n",
       "      <td>0.0</td>\n",
       "      <td>0.0</td>\n",
       "    </tr>\n",
       "    <tr>\n",
       "      <th>LCA</th>\n",
       "      <td>0.0</td>\n",
       "      <td>0.0</td>\n",
       "      <td>0.0</td>\n",
       "    </tr>\n",
       "    <tr>\n",
       "      <th>LES</th>\n",
       "      <td>0.0</td>\n",
       "      <td>0.0</td>\n",
       "      <td>0.0</td>\n",
       "    </tr>\n",
       "    <tr>\n",
       "      <th>LIB</th>\n",
       "      <td>0.0</td>\n",
       "      <td>2.0</td>\n",
       "      <td>2.0</td>\n",
       "    </tr>\n",
       "    <tr>\n",
       "      <th>LBA</th>\n",
       "      <td>0.0</td>\n",
       "      <td>0.0</td>\n",
       "      <td>0.0</td>\n",
       "    </tr>\n",
       "  </tbody>\n",
       "</table>\n",
       "<p>229 rows × 3 columns</p>\n",
       "</div>"
      ],
      "text/plain": [
       "       Gold  Silver  Bronze\n",
       "NOC                        \n",
       "USA  2460.0  1327.0  1191.0\n",
       "URS   832.0   635.0   596.0\n",
       "GBR   626.0   707.0   612.0\n",
       "GER   578.0   528.0   643.0\n",
       "ITA   497.0   466.0   427.0\n",
       "..      ...     ...     ...\n",
       "LBR     0.0     0.0     0.0\n",
       "LCA     0.0     0.0     0.0\n",
       "LES     0.0     0.0     0.0\n",
       "LIB     0.0     2.0     2.0\n",
       "LBA     0.0     0.0     0.0\n",
       "\n",
       "[229 rows x 3 columns]"
      ]
     },
     "execution_count": 205,
     "metadata": {},
     "output_type": "execute_result"
    }
   ],
   "source": [
    "df.drop(df[df['Year']==1906].index, inplace=True)\n",
    "df.groupby('NOC').sum()[['Gold', 'Silver', 'Bronze']].sort_values('Gold',ascending=False)"
   ]
  },
  {
   "cell_type": "code",
   "execution_count": 206,
   "id": "7edbcfb0",
   "metadata": {},
   "outputs": [],
   "source": [
    "medal_tally = df.drop_duplicates(subset=['Team','NOC','Games','Year','City','Sport','Event','Medal'])"
   ]
  },
  {
   "cell_type": "code",
   "execution_count": 207,
   "id": "8a26fef9",
   "metadata": {},
   "outputs": [],
   "source": [
    "medal_tally = medal_tally.groupby('region').sum()[['Gold', 'Silver', 'Bronze']].sort_values('Gold',ascending=False).reset_index()"
   ]
  },
  {
   "cell_type": "code",
   "execution_count": 208,
   "id": "3edeae2f",
   "metadata": {},
   "outputs": [],
   "source": [
    "medal_tally['Total'] = medal_tally['Gold'] + medal_tally['Silver'] + medal_tally['Bronze']"
   ]
  },
  {
   "cell_type": "code",
   "execution_count": 209,
   "id": "cec20646",
   "metadata": {},
   "outputs": [
    {
     "data": {
      "text/html": [
       "<div>\n",
       "<style scoped>\n",
       "    .dataframe tbody tr th:only-of-type {\n",
       "        vertical-align: middle;\n",
       "    }\n",
       "\n",
       "    .dataframe tbody tr th {\n",
       "        vertical-align: top;\n",
       "    }\n",
       "\n",
       "    .dataframe thead th {\n",
       "        text-align: right;\n",
       "    }\n",
       "</style>\n",
       "<table border=\"1\" class=\"dataframe\">\n",
       "  <thead>\n",
       "    <tr style=\"text-align: right;\">\n",
       "      <th></th>\n",
       "      <th>region</th>\n",
       "      <th>Gold</th>\n",
       "      <th>Silver</th>\n",
       "      <th>Bronze</th>\n",
       "      <th>Total</th>\n",
       "    </tr>\n",
       "  </thead>\n",
       "  <tbody>\n",
       "    <tr>\n",
       "      <th>43</th>\n",
       "      <td>India</td>\n",
       "      <td>9.0</td>\n",
       "      <td>7.0</td>\n",
       "      <td>12.0</td>\n",
       "      <td>28.0</td>\n",
       "    </tr>\n",
       "  </tbody>\n",
       "</table>\n",
       "</div>"
      ],
      "text/plain": [
       "   region  Gold  Silver  Bronze  Total\n",
       "43  India   9.0     7.0    12.0   28.0"
      ]
     },
     "execution_count": 209,
     "metadata": {},
     "output_type": "execute_result"
    }
   ],
   "source": [
    "medal_tally[medal_tally['region']=='India']"
   ]
  },
  {
   "cell_type": "code",
   "execution_count": 210,
   "id": "d7d654cd",
   "metadata": {},
   "outputs": [],
   "source": [
    "country = np.unique(df['region'].dropna().values).tolist()"
   ]
  },
  {
   "cell_type": "code",
   "execution_count": 211,
   "id": "2e369863",
   "metadata": {},
   "outputs": [],
   "source": [
    "country.sort()"
   ]
  },
  {
   "cell_type": "code",
   "execution_count": 212,
   "id": "6ca00717",
   "metadata": {},
   "outputs": [
    {
     "data": {
      "text/plain": [
       "['Overall',\n",
       " 'Afghanistan',\n",
       " 'Albania',\n",
       " 'Algeria',\n",
       " 'American Samoa',\n",
       " 'Andorra',\n",
       " 'Angola',\n",
       " 'Antigua',\n",
       " 'Argentina',\n",
       " 'Armenia',\n",
       " 'Aruba',\n",
       " 'Australia',\n",
       " 'Austria',\n",
       " 'Azerbaijan',\n",
       " 'Bahamas',\n",
       " 'Bahrain',\n",
       " 'Bangladesh',\n",
       " 'Barbados',\n",
       " 'Belarus',\n",
       " 'Belgium',\n",
       " 'Belize',\n",
       " 'Benin',\n",
       " 'Bermuda',\n",
       " 'Bhutan',\n",
       " 'Boliva',\n",
       " 'Bosnia and Herzegovina',\n",
       " 'Botswana',\n",
       " 'Brazil',\n",
       " 'Brunei',\n",
       " 'Bulgaria',\n",
       " 'Burkina Faso',\n",
       " 'Burundi',\n",
       " 'Cambodia',\n",
       " 'Cameroon',\n",
       " 'Canada',\n",
       " 'Cape Verde',\n",
       " 'Cayman Islands',\n",
       " 'Central African Republic',\n",
       " 'Chad',\n",
       " 'Chile',\n",
       " 'China',\n",
       " 'Colombia',\n",
       " 'Comoros',\n",
       " 'Cook Islands',\n",
       " 'Costa Rica',\n",
       " 'Croatia',\n",
       " 'Cuba',\n",
       " 'Curacao',\n",
       " 'Cyprus',\n",
       " 'Czech Republic',\n",
       " 'Democratic Republic of the Congo',\n",
       " 'Denmark',\n",
       " 'Djibouti',\n",
       " 'Dominica',\n",
       " 'Dominican Republic',\n",
       " 'Ecuador',\n",
       " 'Egypt',\n",
       " 'El Salvador',\n",
       " 'Equatorial Guinea',\n",
       " 'Eritrea',\n",
       " 'Estonia',\n",
       " 'Ethiopia',\n",
       " 'Fiji',\n",
       " 'Finland',\n",
       " 'France',\n",
       " 'Gabon',\n",
       " 'Gambia',\n",
       " 'Georgia',\n",
       " 'Germany',\n",
       " 'Ghana',\n",
       " 'Greece',\n",
       " 'Grenada',\n",
       " 'Guam',\n",
       " 'Guatemala',\n",
       " 'Guinea',\n",
       " 'Guinea-Bissau',\n",
       " 'Guyana',\n",
       " 'Haiti',\n",
       " 'Honduras',\n",
       " 'Hungary',\n",
       " 'Iceland',\n",
       " 'India',\n",
       " 'Individual Olympic Athletes',\n",
       " 'Indonesia',\n",
       " 'Iran',\n",
       " 'Iraq',\n",
       " 'Ireland',\n",
       " 'Israel',\n",
       " 'Italy',\n",
       " 'Ivory Coast',\n",
       " 'Jamaica',\n",
       " 'Japan',\n",
       " 'Jordan',\n",
       " 'Kazakhstan',\n",
       " 'Kenya',\n",
       " 'Kiribati',\n",
       " 'Kosovo',\n",
       " 'Kuwait',\n",
       " 'Kyrgyzstan',\n",
       " 'Laos',\n",
       " 'Latvia',\n",
       " 'Lebanon',\n",
       " 'Lesotho',\n",
       " 'Liberia',\n",
       " 'Libya',\n",
       " 'Liechtenstein',\n",
       " 'Lithuania',\n",
       " 'Luxembourg',\n",
       " 'Macedonia',\n",
       " 'Madagascar',\n",
       " 'Malawi',\n",
       " 'Malaysia',\n",
       " 'Maldives',\n",
       " 'Mali',\n",
       " 'Malta',\n",
       " 'Marshall Islands',\n",
       " 'Mauritania',\n",
       " 'Mauritius',\n",
       " 'Mexico',\n",
       " 'Micronesia',\n",
       " 'Moldova',\n",
       " 'Monaco',\n",
       " 'Mongolia',\n",
       " 'Montenegro',\n",
       " 'Morocco',\n",
       " 'Mozambique',\n",
       " 'Myanmar',\n",
       " 'Namibia',\n",
       " 'Nauru',\n",
       " 'Nepal',\n",
       " 'Netherlands',\n",
       " 'New Zealand',\n",
       " 'Nicaragua',\n",
       " 'Niger',\n",
       " 'Nigeria',\n",
       " 'North Korea',\n",
       " 'Norway',\n",
       " 'Oman',\n",
       " 'Pakistan',\n",
       " 'Palau',\n",
       " 'Palestine',\n",
       " 'Panama',\n",
       " 'Papua New Guinea',\n",
       " 'Paraguay',\n",
       " 'Peru',\n",
       " 'Philippines',\n",
       " 'Poland',\n",
       " 'Portugal',\n",
       " 'Puerto Rico',\n",
       " 'Qatar',\n",
       " 'Republic of Congo',\n",
       " 'Romania',\n",
       " 'Russia',\n",
       " 'Rwanda',\n",
       " 'Saint Kitts',\n",
       " 'Saint Lucia',\n",
       " 'Saint Vincent',\n",
       " 'Samoa',\n",
       " 'San Marino',\n",
       " 'Sao Tome and Principe',\n",
       " 'Saudi Arabia',\n",
       " 'Senegal',\n",
       " 'Serbia',\n",
       " 'Seychelles',\n",
       " 'Sierra Leone',\n",
       " 'Slovakia',\n",
       " 'Slovenia',\n",
       " 'Solomon Islands',\n",
       " 'Somalia',\n",
       " 'South Africa',\n",
       " 'South Korea',\n",
       " 'South Sudan',\n",
       " 'Spain',\n",
       " 'Sri Lanka',\n",
       " 'Sudan',\n",
       " 'Suriname',\n",
       " 'Swaziland',\n",
       " 'Sweden',\n",
       " 'Switzerland',\n",
       " 'Syria',\n",
       " 'Taiwan',\n",
       " 'Tajikistan',\n",
       " 'Tanzania',\n",
       " 'Thailand',\n",
       " 'Timor-Leste',\n",
       " 'Togo',\n",
       " 'Tonga',\n",
       " 'Trinidad',\n",
       " 'Tunisia',\n",
       " 'Turkey',\n",
       " 'Turkmenistan',\n",
       " 'UK',\n",
       " 'USA',\n",
       " 'Uganda',\n",
       " 'Ukraine',\n",
       " 'United Arab Emirates',\n",
       " 'Uruguay',\n",
       " 'Uzbekistan',\n",
       " 'Vanuatu',\n",
       " 'Venezuela',\n",
       " 'Vietnam',\n",
       " 'Virgin Islands, British',\n",
       " 'Virgin Islands, US',\n",
       " 'Yemen',\n",
       " 'Zambia',\n",
       " 'Zimbabwe']"
      ]
     },
     "execution_count": 212,
     "metadata": {},
     "output_type": "execute_result"
    }
   ],
   "source": [
    "country.insert(0, 'Overall')\n",
    "country"
   ]
  },
  {
   "cell_type": "code",
   "execution_count": 213,
   "id": "e1fa43f0",
   "metadata": {},
   "outputs": [],
   "source": [
    "year = df['Year'].unique().tolist()"
   ]
  },
  {
   "cell_type": "code",
   "execution_count": 214,
   "id": "06ae43a1",
   "metadata": {},
   "outputs": [
    {
     "data": {
      "text/plain": [
       "['Overall',\n",
       " 1896,\n",
       " 1900,\n",
       " 1904,\n",
       " 1908,\n",
       " 1912,\n",
       " 1920,\n",
       " 1924,\n",
       " 1928,\n",
       " 1932,\n",
       " 1936,\n",
       " 1948,\n",
       " 1952,\n",
       " 1956,\n",
       " 1960,\n",
       " 1964,\n",
       " 1968,\n",
       " 1972,\n",
       " 1976,\n",
       " 1980,\n",
       " 1984,\n",
       " 1988,\n",
       " 1992,\n",
       " 1996,\n",
       " 2000,\n",
       " 2004,\n",
       " 2008,\n",
       " 2012,\n",
       " 2016]"
      ]
     },
     "execution_count": 214,
     "metadata": {},
     "output_type": "execute_result"
    }
   ],
   "source": [
    "year.sort()\n",
    "year.insert(0, 'Overall')\n",
    "year"
   ]
  },
  {
   "cell_type": "code",
   "execution_count": 215,
   "id": "3bc93374",
   "metadata": {},
   "outputs": [],
   "source": [
    "def fetch_medal_tally(df, year, country):\n",
    "    medal_df = df.drop_duplicates(subset=['Team', 'NOC', 'Games', 'Year', 'City', 'Sport', 'Event', 'Medal'])\n",
    "    flag = 0\n",
    "    if year == 'Overall' and country == 'Overall':\n",
    "        temp_df = medal_df\n",
    "    if year == 'Overall' and country != 'Overall':\n",
    "        flag = 1\n",
    "        temp_df = medal_df[medal_df['region'] == country]\n",
    "    if year != 'Overall' and country == 'Overall':\n",
    "        temp_df = medal_df[medal_df['Year'] == int(year)]\n",
    "    if year != 'Overall' and country != 'Overall':\n",
    "        temp_df = medal_df[(medal_df['Year'] == year) & (medal_df['region'] == country)]\n",
    "\n",
    "    if flag == 1:\n",
    "        x = temp_df.groupby('Year').sum()[['Gold', 'Silver', 'Bronze']].sort_values('Year').reset_index()\n",
    "    else:\n",
    "        x = temp_df.groupby('region').sum()[['Gold', 'Silver', 'Bronze']].sort_values('Gold',\n",
    "                                                                                      ascending=False).reset_index()\n",
    "\n",
    "    x['total'] = x['Gold'] + x['Silver'] + x['Bronze']\n",
    "\n",
    "    x['Gold'] = x['Gold'].astype('int')\n",
    "    x['Silver'] = x['Silver'].astype('int')\n",
    "    x['Bronze'] = x['Bronze'].astype('int')\n",
    "    x['total'] = x['total'].astype('int')\n",
    "\n",
    "    print(x)"
   ]
  },
  {
   "cell_type": "code",
   "execution_count": 216,
   "id": "8627e367",
   "metadata": {},
   "outputs": [
    {
     "name": "stdout",
     "output_type": "stream",
     "text": [
      "    Year  Gold  Silver  Bronze  total\n",
      "0   1900     0       2       0      2\n",
      "1   1920     0       0       0      0\n",
      "2   1924     0       0       0      0\n",
      "3   1928     1       0       0      1\n",
      "4   1932     1       0       0      1\n",
      "5   1936     1       0       0      1\n",
      "6   1948     1       0       0      1\n",
      "7   1952     1       0       1      2\n",
      "8   1956     1       0       0      1\n",
      "9   1960     0       1       0      1\n",
      "10  1964     1       0       0      1\n",
      "11  1968     0       0       1      1\n",
      "12  1972     0       0       1      1\n",
      "13  1976     0       0       0      0\n",
      "14  1980     1       0       0      1\n",
      "15  1984     0       0       0      0\n",
      "16  1988     0       0       0      0\n",
      "17  1992     0       0       0      0\n",
      "18  1996     0       0       1      1\n",
      "19  2000     0       0       1      1\n",
      "20  2004     0       1       0      1\n",
      "21  2008     1       0       2      3\n",
      "22  2012     0       2       4      6\n",
      "23  2016     0       1       1      2\n"
     ]
    }
   ],
   "source": [
    "fetch_medal_tally(df=df, year='Overall', country='India')"
   ]
  },
  {
   "cell_type": "code",
   "execution_count": 217,
   "id": "03295c28",
   "metadata": {},
   "outputs": [
    {
     "data": {
      "text/plain": [
       "27"
      ]
     },
     "execution_count": 217,
     "metadata": {},
     "output_type": "execute_result"
    }
   ],
   "source": [
    "editions = df['Year'].unique().shape[0] - 1\n",
    "editions"
   ]
  },
  {
   "cell_type": "code",
   "execution_count": 218,
   "id": "7365d9b4",
   "metadata": {},
   "outputs": [
    {
     "data": {
      "text/plain": [
       "23"
      ]
     },
     "execution_count": 218,
     "metadata": {},
     "output_type": "execute_result"
    }
   ],
   "source": [
    "cities = df['City'].unique().shape[0]\n",
    "cities"
   ]
  },
  {
   "cell_type": "code",
   "execution_count": 219,
   "id": "4bd8e5a8",
   "metadata": {},
   "outputs": [
    {
     "data": {
      "text/plain": [
       "52"
      ]
     },
     "execution_count": 219,
     "metadata": {},
     "output_type": "execute_result"
    }
   ],
   "source": [
    "sports = df['Sport'].unique().shape[0]\n",
    "sports"
   ]
  },
  {
   "cell_type": "code",
   "execution_count": 220,
   "id": "0f028ef8",
   "metadata": {},
   "outputs": [
    {
     "data": {
      "text/plain": [
       "630"
      ]
     },
     "execution_count": 220,
     "metadata": {},
     "output_type": "execute_result"
    }
   ],
   "source": [
    "events = df['Event'].unique().shape[0]\n",
    "events"
   ]
  },
  {
   "cell_type": "code",
   "execution_count": 221,
   "id": "8ed201ec",
   "metadata": {},
   "outputs": [
    {
     "data": {
      "text/plain": [
       "115525"
      ]
     },
     "execution_count": 221,
     "metadata": {},
     "output_type": "execute_result"
    }
   ],
   "source": [
    "athletes = df['Name'].unique().shape[0]\n",
    "athletes"
   ]
  },
  {
   "cell_type": "code",
   "execution_count": 222,
   "id": "16309ff6",
   "metadata": {},
   "outputs": [
    {
     "data": {
      "text/plain": [
       "206"
      ]
     },
     "execution_count": 222,
     "metadata": {},
     "output_type": "execute_result"
    }
   ],
   "source": [
    "nations = df['region'].unique().shape[0]\n",
    "nations"
   ]
  },
  {
   "cell_type": "code",
   "execution_count": 223,
   "id": "d2b37b78",
   "metadata": {},
   "outputs": [
    {
     "data": {
      "text/html": [
       "<div>\n",
       "<style scoped>\n",
       "    .dataframe tbody tr th:only-of-type {\n",
       "        vertical-align: middle;\n",
       "    }\n",
       "\n",
       "    .dataframe tbody tr th {\n",
       "        vertical-align: top;\n",
       "    }\n",
       "\n",
       "    .dataframe thead th {\n",
       "        text-align: right;\n",
       "    }\n",
       "</style>\n",
       "<table border=\"1\" class=\"dataframe\">\n",
       "  <thead>\n",
       "    <tr style=\"text-align: right;\">\n",
       "      <th></th>\n",
       "      <th>Edition</th>\n",
       "      <th>No. of Countries</th>\n",
       "    </tr>\n",
       "  </thead>\n",
       "  <tbody>\n",
       "    <tr>\n",
       "      <th>27</th>\n",
       "      <td>1896</td>\n",
       "      <td>12</td>\n",
       "    </tr>\n",
       "    <tr>\n",
       "      <th>22</th>\n",
       "      <td>1900</td>\n",
       "      <td>31</td>\n",
       "    </tr>\n",
       "    <tr>\n",
       "      <th>26</th>\n",
       "      <td>1904</td>\n",
       "      <td>14</td>\n",
       "    </tr>\n",
       "    <tr>\n",
       "      <th>25</th>\n",
       "      <td>1908</td>\n",
       "      <td>22</td>\n",
       "    </tr>\n",
       "    <tr>\n",
       "      <th>24</th>\n",
       "      <td>1912</td>\n",
       "      <td>29</td>\n",
       "    </tr>\n",
       "    <tr>\n",
       "      <th>23</th>\n",
       "      <td>1920</td>\n",
       "      <td>29</td>\n",
       "    </tr>\n",
       "    <tr>\n",
       "      <th>21</th>\n",
       "      <td>1924</td>\n",
       "      <td>45</td>\n",
       "    </tr>\n",
       "    <tr>\n",
       "      <th>20</th>\n",
       "      <td>1928</td>\n",
       "      <td>46</td>\n",
       "    </tr>\n",
       "    <tr>\n",
       "      <th>19</th>\n",
       "      <td>1932</td>\n",
       "      <td>47</td>\n",
       "    </tr>\n",
       "    <tr>\n",
       "      <th>18</th>\n",
       "      <td>1936</td>\n",
       "      <td>49</td>\n",
       "    </tr>\n",
       "    <tr>\n",
       "      <th>17</th>\n",
       "      <td>1948</td>\n",
       "      <td>59</td>\n",
       "    </tr>\n",
       "    <tr>\n",
       "      <th>16</th>\n",
       "      <td>1952</td>\n",
       "      <td>67</td>\n",
       "    </tr>\n",
       "    <tr>\n",
       "      <th>15</th>\n",
       "      <td>1956</td>\n",
       "      <td>71</td>\n",
       "    </tr>\n",
       "    <tr>\n",
       "      <th>13</th>\n",
       "      <td>1960</td>\n",
       "      <td>83</td>\n",
       "    </tr>\n",
       "    <tr>\n",
       "      <th>11</th>\n",
       "      <td>1964</td>\n",
       "      <td>93</td>\n",
       "    </tr>\n",
       "    <tr>\n",
       "      <th>10</th>\n",
       "      <td>1968</td>\n",
       "      <td>111</td>\n",
       "    </tr>\n",
       "    <tr>\n",
       "      <th>9</th>\n",
       "      <td>1972</td>\n",
       "      <td>120</td>\n",
       "    </tr>\n",
       "    <tr>\n",
       "      <th>12</th>\n",
       "      <td>1976</td>\n",
       "      <td>91</td>\n",
       "    </tr>\n",
       "    <tr>\n",
       "      <th>14</th>\n",
       "      <td>1980</td>\n",
       "      <td>80</td>\n",
       "    </tr>\n",
       "    <tr>\n",
       "      <th>8</th>\n",
       "      <td>1984</td>\n",
       "      <td>139</td>\n",
       "    </tr>\n",
       "    <tr>\n",
       "      <th>7</th>\n",
       "      <td>1988</td>\n",
       "      <td>156</td>\n",
       "    </tr>\n",
       "    <tr>\n",
       "      <th>6</th>\n",
       "      <td>1992</td>\n",
       "      <td>168</td>\n",
       "    </tr>\n",
       "    <tr>\n",
       "      <th>5</th>\n",
       "      <td>1996</td>\n",
       "      <td>196</td>\n",
       "    </tr>\n",
       "    <tr>\n",
       "      <th>4</th>\n",
       "      <td>2000</td>\n",
       "      <td>199</td>\n",
       "    </tr>\n",
       "    <tr>\n",
       "      <th>3</th>\n",
       "      <td>2004</td>\n",
       "      <td>200</td>\n",
       "    </tr>\n",
       "    <tr>\n",
       "      <th>2</th>\n",
       "      <td>2008</td>\n",
       "      <td>202</td>\n",
       "    </tr>\n",
       "    <tr>\n",
       "      <th>1</th>\n",
       "      <td>2012</td>\n",
       "      <td>203</td>\n",
       "    </tr>\n",
       "    <tr>\n",
       "      <th>0</th>\n",
       "      <td>2016</td>\n",
       "      <td>204</td>\n",
       "    </tr>\n",
       "  </tbody>\n",
       "</table>\n",
       "</div>"
      ],
      "text/plain": [
       "    Edition  No. of Countries\n",
       "27     1896                12\n",
       "22     1900                31\n",
       "26     1904                14\n",
       "25     1908                22\n",
       "24     1912                29\n",
       "23     1920                29\n",
       "21     1924                45\n",
       "20     1928                46\n",
       "19     1932                47\n",
       "18     1936                49\n",
       "17     1948                59\n",
       "16     1952                67\n",
       "15     1956                71\n",
       "13     1960                83\n",
       "11     1964                93\n",
       "10     1968               111\n",
       "9      1972               120\n",
       "12     1976                91\n",
       "14     1980                80\n",
       "8      1984               139\n",
       "7      1988               156\n",
       "6      1992               168\n",
       "5      1996               196\n",
       "4      2000               199\n",
       "3      2004               200\n",
       "2      2008               202\n",
       "1      2012               203\n",
       "0      2016               204"
      ]
     },
     "execution_count": 223,
     "metadata": {},
     "output_type": "execute_result"
    }
   ],
   "source": [
    "nations_over_time = df.drop_duplicates(['Year', 'region'])['Year'].value_counts().reset_index().sort_values('index')\n",
    "nations_over_time.rename(columns={'index': 'Edition', 'Year': 'No. of Countries'}, inplace=True)\n",
    "nations_over_time"
   ]
  },
  {
   "cell_type": "code",
   "execution_count": 224,
   "id": "a7e2d255",
   "metadata": {},
   "outputs": [],
   "source": [
    "import plotly.express as px"
   ]
  },
  {
   "cell_type": "code",
   "execution_count": 225,
   "id": "ddc4b0db",
   "metadata": {},
   "outputs": [
    {
     "data": {
      "text/html": [
       "<div>\n",
       "<style scoped>\n",
       "    .dataframe tbody tr th:only-of-type {\n",
       "        vertical-align: middle;\n",
       "    }\n",
       "\n",
       "    .dataframe tbody tr th {\n",
       "        vertical-align: top;\n",
       "    }\n",
       "\n",
       "    .dataframe thead th {\n",
       "        text-align: right;\n",
       "    }\n",
       "</style>\n",
       "<table border=\"1\" class=\"dataframe\">\n",
       "  <thead>\n",
       "    <tr style=\"text-align: right;\">\n",
       "      <th></th>\n",
       "      <th>Edition</th>\n",
       "      <th>Countries</th>\n",
       "    </tr>\n",
       "  </thead>\n",
       "  <tbody>\n",
       "    <tr>\n",
       "      <th>27</th>\n",
       "      <td>1896</td>\n",
       "      <td>12</td>\n",
       "    </tr>\n",
       "    <tr>\n",
       "      <th>22</th>\n",
       "      <td>1900</td>\n",
       "      <td>31</td>\n",
       "    </tr>\n",
       "    <tr>\n",
       "      <th>26</th>\n",
       "      <td>1904</td>\n",
       "      <td>14</td>\n",
       "    </tr>\n",
       "    <tr>\n",
       "      <th>25</th>\n",
       "      <td>1908</td>\n",
       "      <td>22</td>\n",
       "    </tr>\n",
       "    <tr>\n",
       "      <th>24</th>\n",
       "      <td>1912</td>\n",
       "      <td>29</td>\n",
       "    </tr>\n",
       "    <tr>\n",
       "      <th>23</th>\n",
       "      <td>1920</td>\n",
       "      <td>29</td>\n",
       "    </tr>\n",
       "    <tr>\n",
       "      <th>21</th>\n",
       "      <td>1924</td>\n",
       "      <td>45</td>\n",
       "    </tr>\n",
       "    <tr>\n",
       "      <th>20</th>\n",
       "      <td>1928</td>\n",
       "      <td>46</td>\n",
       "    </tr>\n",
       "    <tr>\n",
       "      <th>19</th>\n",
       "      <td>1932</td>\n",
       "      <td>47</td>\n",
       "    </tr>\n",
       "    <tr>\n",
       "      <th>18</th>\n",
       "      <td>1936</td>\n",
       "      <td>49</td>\n",
       "    </tr>\n",
       "    <tr>\n",
       "      <th>17</th>\n",
       "      <td>1948</td>\n",
       "      <td>59</td>\n",
       "    </tr>\n",
       "    <tr>\n",
       "      <th>16</th>\n",
       "      <td>1952</td>\n",
       "      <td>67</td>\n",
       "    </tr>\n",
       "    <tr>\n",
       "      <th>15</th>\n",
       "      <td>1956</td>\n",
       "      <td>71</td>\n",
       "    </tr>\n",
       "    <tr>\n",
       "      <th>13</th>\n",
       "      <td>1960</td>\n",
       "      <td>83</td>\n",
       "    </tr>\n",
       "    <tr>\n",
       "      <th>11</th>\n",
       "      <td>1964</td>\n",
       "      <td>93</td>\n",
       "    </tr>\n",
       "    <tr>\n",
       "      <th>10</th>\n",
       "      <td>1968</td>\n",
       "      <td>111</td>\n",
       "    </tr>\n",
       "    <tr>\n",
       "      <th>9</th>\n",
       "      <td>1972</td>\n",
       "      <td>120</td>\n",
       "    </tr>\n",
       "    <tr>\n",
       "      <th>12</th>\n",
       "      <td>1976</td>\n",
       "      <td>91</td>\n",
       "    </tr>\n",
       "    <tr>\n",
       "      <th>14</th>\n",
       "      <td>1980</td>\n",
       "      <td>80</td>\n",
       "    </tr>\n",
       "    <tr>\n",
       "      <th>8</th>\n",
       "      <td>1984</td>\n",
       "      <td>139</td>\n",
       "    </tr>\n",
       "    <tr>\n",
       "      <th>7</th>\n",
       "      <td>1988</td>\n",
       "      <td>156</td>\n",
       "    </tr>\n",
       "    <tr>\n",
       "      <th>6</th>\n",
       "      <td>1992</td>\n",
       "      <td>168</td>\n",
       "    </tr>\n",
       "    <tr>\n",
       "      <th>5</th>\n",
       "      <td>1996</td>\n",
       "      <td>196</td>\n",
       "    </tr>\n",
       "    <tr>\n",
       "      <th>4</th>\n",
       "      <td>2000</td>\n",
       "      <td>199</td>\n",
       "    </tr>\n",
       "    <tr>\n",
       "      <th>3</th>\n",
       "      <td>2004</td>\n",
       "      <td>200</td>\n",
       "    </tr>\n",
       "    <tr>\n",
       "      <th>2</th>\n",
       "      <td>2008</td>\n",
       "      <td>202</td>\n",
       "    </tr>\n",
       "    <tr>\n",
       "      <th>1</th>\n",
       "      <td>2012</td>\n",
       "      <td>203</td>\n",
       "    </tr>\n",
       "    <tr>\n",
       "      <th>0</th>\n",
       "      <td>2016</td>\n",
       "      <td>204</td>\n",
       "    </tr>\n",
       "  </tbody>\n",
       "</table>\n",
       "</div>"
      ],
      "text/plain": [
       "    Edition  Countries\n",
       "27     1896         12\n",
       "22     1900         31\n",
       "26     1904         14\n",
       "25     1908         22\n",
       "24     1912         29\n",
       "23     1920         29\n",
       "21     1924         45\n",
       "20     1928         46\n",
       "19     1932         47\n",
       "18     1936         49\n",
       "17     1948         59\n",
       "16     1952         67\n",
       "15     1956         71\n",
       "13     1960         83\n",
       "11     1964         93\n",
       "10     1968        111\n",
       "9      1972        120\n",
       "12     1976         91\n",
       "14     1980         80\n",
       "8      1984        139\n",
       "7      1988        156\n",
       "6      1992        168\n",
       "5      1996        196\n",
       "4      2000        199\n",
       "3      2004        200\n",
       "2      2008        202\n",
       "1      2012        203\n",
       "0      2016        204"
      ]
     },
     "execution_count": 225,
     "metadata": {},
     "output_type": "execute_result"
    }
   ],
   "source": [
    "nations_over_time = df.drop_duplicates(['Year', 'region'])['Year'].value_counts().reset_index().sort_values('index')\n",
    "nations_over_time.rename(columns={'index': 'Edition', 'Year': 'Countries'}, inplace=True)\n",
    "nations_over_time"
   ]
  },
  {
   "cell_type": "code",
   "execution_count": 226,
   "id": "9981aa18",
   "metadata": {},
   "outputs": [
    {
     "data": {
      "application/vnd.plotly.v1+json": {
       "config": {
        "plotlyServerURL": "https://plot.ly"
       },
       "data": [
        {
         "hovertemplate": "Edition=%{x}<br>Countries=%{y}<extra></extra>",
         "legendgroup": "",
         "line": {
          "color": "#636efa",
          "dash": "solid"
         },
         "marker": {
          "symbol": "circle"
         },
         "mode": "lines",
         "name": "",
         "orientation": "v",
         "showlegend": false,
         "type": "scatter",
         "x": [
          1896,
          1900,
          1904,
          1908,
          1912,
          1920,
          1924,
          1928,
          1932,
          1936,
          1948,
          1952,
          1956,
          1960,
          1964,
          1968,
          1972,
          1976,
          1980,
          1984,
          1988,
          1992,
          1996,
          2000,
          2004,
          2008,
          2012,
          2016
         ],
         "xaxis": "x",
         "y": [
          12,
          31,
          14,
          22,
          29,
          29,
          45,
          46,
          47,
          49,
          59,
          67,
          71,
          83,
          93,
          111,
          120,
          91,
          80,
          139,
          156,
          168,
          196,
          199,
          200,
          202,
          203,
          204
         ],
         "yaxis": "y"
        }
       ],
       "layout": {
        "legend": {
         "tracegroupgap": 0
        },
        "margin": {
         "t": 60
        },
        "template": {
         "data": {
          "bar": [
           {
            "error_x": {
             "color": "#2a3f5f"
            },
            "error_y": {
             "color": "#2a3f5f"
            },
            "marker": {
             "line": {
              "color": "#E5ECF6",
              "width": 0.5
             },
             "pattern": {
              "fillmode": "overlay",
              "size": 10,
              "solidity": 0.2
             }
            },
            "type": "bar"
           }
          ],
          "barpolar": [
           {
            "marker": {
             "line": {
              "color": "#E5ECF6",
              "width": 0.5
             },
             "pattern": {
              "fillmode": "overlay",
              "size": 10,
              "solidity": 0.2
             }
            },
            "type": "barpolar"
           }
          ],
          "carpet": [
           {
            "aaxis": {
             "endlinecolor": "#2a3f5f",
             "gridcolor": "white",
             "linecolor": "white",
             "minorgridcolor": "white",
             "startlinecolor": "#2a3f5f"
            },
            "baxis": {
             "endlinecolor": "#2a3f5f",
             "gridcolor": "white",
             "linecolor": "white",
             "minorgridcolor": "white",
             "startlinecolor": "#2a3f5f"
            },
            "type": "carpet"
           }
          ],
          "choropleth": [
           {
            "colorbar": {
             "outlinewidth": 0,
             "ticks": ""
            },
            "type": "choropleth"
           }
          ],
          "contour": [
           {
            "colorbar": {
             "outlinewidth": 0,
             "ticks": ""
            },
            "colorscale": [
             [
              0,
              "#0d0887"
             ],
             [
              0.1111111111111111,
              "#46039f"
             ],
             [
              0.2222222222222222,
              "#7201a8"
             ],
             [
              0.3333333333333333,
              "#9c179e"
             ],
             [
              0.4444444444444444,
              "#bd3786"
             ],
             [
              0.5555555555555556,
              "#d8576b"
             ],
             [
              0.6666666666666666,
              "#ed7953"
             ],
             [
              0.7777777777777778,
              "#fb9f3a"
             ],
             [
              0.8888888888888888,
              "#fdca26"
             ],
             [
              1,
              "#f0f921"
             ]
            ],
            "type": "contour"
           }
          ],
          "contourcarpet": [
           {
            "colorbar": {
             "outlinewidth": 0,
             "ticks": ""
            },
            "type": "contourcarpet"
           }
          ],
          "heatmap": [
           {
            "colorbar": {
             "outlinewidth": 0,
             "ticks": ""
            },
            "colorscale": [
             [
              0,
              "#0d0887"
             ],
             [
              0.1111111111111111,
              "#46039f"
             ],
             [
              0.2222222222222222,
              "#7201a8"
             ],
             [
              0.3333333333333333,
              "#9c179e"
             ],
             [
              0.4444444444444444,
              "#bd3786"
             ],
             [
              0.5555555555555556,
              "#d8576b"
             ],
             [
              0.6666666666666666,
              "#ed7953"
             ],
             [
              0.7777777777777778,
              "#fb9f3a"
             ],
             [
              0.8888888888888888,
              "#fdca26"
             ],
             [
              1,
              "#f0f921"
             ]
            ],
            "type": "heatmap"
           }
          ],
          "heatmapgl": [
           {
            "colorbar": {
             "outlinewidth": 0,
             "ticks": ""
            },
            "colorscale": [
             [
              0,
              "#0d0887"
             ],
             [
              0.1111111111111111,
              "#46039f"
             ],
             [
              0.2222222222222222,
              "#7201a8"
             ],
             [
              0.3333333333333333,
              "#9c179e"
             ],
             [
              0.4444444444444444,
              "#bd3786"
             ],
             [
              0.5555555555555556,
              "#d8576b"
             ],
             [
              0.6666666666666666,
              "#ed7953"
             ],
             [
              0.7777777777777778,
              "#fb9f3a"
             ],
             [
              0.8888888888888888,
              "#fdca26"
             ],
             [
              1,
              "#f0f921"
             ]
            ],
            "type": "heatmapgl"
           }
          ],
          "histogram": [
           {
            "marker": {
             "pattern": {
              "fillmode": "overlay",
              "size": 10,
              "solidity": 0.2
             }
            },
            "type": "histogram"
           }
          ],
          "histogram2d": [
           {
            "colorbar": {
             "outlinewidth": 0,
             "ticks": ""
            },
            "colorscale": [
             [
              0,
              "#0d0887"
             ],
             [
              0.1111111111111111,
              "#46039f"
             ],
             [
              0.2222222222222222,
              "#7201a8"
             ],
             [
              0.3333333333333333,
              "#9c179e"
             ],
             [
              0.4444444444444444,
              "#bd3786"
             ],
             [
              0.5555555555555556,
              "#d8576b"
             ],
             [
              0.6666666666666666,
              "#ed7953"
             ],
             [
              0.7777777777777778,
              "#fb9f3a"
             ],
             [
              0.8888888888888888,
              "#fdca26"
             ],
             [
              1,
              "#f0f921"
             ]
            ],
            "type": "histogram2d"
           }
          ],
          "histogram2dcontour": [
           {
            "colorbar": {
             "outlinewidth": 0,
             "ticks": ""
            },
            "colorscale": [
             [
              0,
              "#0d0887"
             ],
             [
              0.1111111111111111,
              "#46039f"
             ],
             [
              0.2222222222222222,
              "#7201a8"
             ],
             [
              0.3333333333333333,
              "#9c179e"
             ],
             [
              0.4444444444444444,
              "#bd3786"
             ],
             [
              0.5555555555555556,
              "#d8576b"
             ],
             [
              0.6666666666666666,
              "#ed7953"
             ],
             [
              0.7777777777777778,
              "#fb9f3a"
             ],
             [
              0.8888888888888888,
              "#fdca26"
             ],
             [
              1,
              "#f0f921"
             ]
            ],
            "type": "histogram2dcontour"
           }
          ],
          "mesh3d": [
           {
            "colorbar": {
             "outlinewidth": 0,
             "ticks": ""
            },
            "type": "mesh3d"
           }
          ],
          "parcoords": [
           {
            "line": {
             "colorbar": {
              "outlinewidth": 0,
              "ticks": ""
             }
            },
            "type": "parcoords"
           }
          ],
          "pie": [
           {
            "automargin": true,
            "type": "pie"
           }
          ],
          "scatter": [
           {
            "marker": {
             "colorbar": {
              "outlinewidth": 0,
              "ticks": ""
             }
            },
            "type": "scatter"
           }
          ],
          "scatter3d": [
           {
            "line": {
             "colorbar": {
              "outlinewidth": 0,
              "ticks": ""
             }
            },
            "marker": {
             "colorbar": {
              "outlinewidth": 0,
              "ticks": ""
             }
            },
            "type": "scatter3d"
           }
          ],
          "scattercarpet": [
           {
            "marker": {
             "colorbar": {
              "outlinewidth": 0,
              "ticks": ""
             }
            },
            "type": "scattercarpet"
           }
          ],
          "scattergeo": [
           {
            "marker": {
             "colorbar": {
              "outlinewidth": 0,
              "ticks": ""
             }
            },
            "type": "scattergeo"
           }
          ],
          "scattergl": [
           {
            "marker": {
             "colorbar": {
              "outlinewidth": 0,
              "ticks": ""
             }
            },
            "type": "scattergl"
           }
          ],
          "scattermapbox": [
           {
            "marker": {
             "colorbar": {
              "outlinewidth": 0,
              "ticks": ""
             }
            },
            "type": "scattermapbox"
           }
          ],
          "scatterpolar": [
           {
            "marker": {
             "colorbar": {
              "outlinewidth": 0,
              "ticks": ""
             }
            },
            "type": "scatterpolar"
           }
          ],
          "scatterpolargl": [
           {
            "marker": {
             "colorbar": {
              "outlinewidth": 0,
              "ticks": ""
             }
            },
            "type": "scatterpolargl"
           }
          ],
          "scatterternary": [
           {
            "marker": {
             "colorbar": {
              "outlinewidth": 0,
              "ticks": ""
             }
            },
            "type": "scatterternary"
           }
          ],
          "surface": [
           {
            "colorbar": {
             "outlinewidth": 0,
             "ticks": ""
            },
            "colorscale": [
             [
              0,
              "#0d0887"
             ],
             [
              0.1111111111111111,
              "#46039f"
             ],
             [
              0.2222222222222222,
              "#7201a8"
             ],
             [
              0.3333333333333333,
              "#9c179e"
             ],
             [
              0.4444444444444444,
              "#bd3786"
             ],
             [
              0.5555555555555556,
              "#d8576b"
             ],
             [
              0.6666666666666666,
              "#ed7953"
             ],
             [
              0.7777777777777778,
              "#fb9f3a"
             ],
             [
              0.8888888888888888,
              "#fdca26"
             ],
             [
              1,
              "#f0f921"
             ]
            ],
            "type": "surface"
           }
          ],
          "table": [
           {
            "cells": {
             "fill": {
              "color": "#EBF0F8"
             },
             "line": {
              "color": "white"
             }
            },
            "header": {
             "fill": {
              "color": "#C8D4E3"
             },
             "line": {
              "color": "white"
             }
            },
            "type": "table"
           }
          ]
         },
         "layout": {
          "annotationdefaults": {
           "arrowcolor": "#2a3f5f",
           "arrowhead": 0,
           "arrowwidth": 1
          },
          "autotypenumbers": "strict",
          "coloraxis": {
           "colorbar": {
            "outlinewidth": 0,
            "ticks": ""
           }
          },
          "colorscale": {
           "diverging": [
            [
             0,
             "#8e0152"
            ],
            [
             0.1,
             "#c51b7d"
            ],
            [
             0.2,
             "#de77ae"
            ],
            [
             0.3,
             "#f1b6da"
            ],
            [
             0.4,
             "#fde0ef"
            ],
            [
             0.5,
             "#f7f7f7"
            ],
            [
             0.6,
             "#e6f5d0"
            ],
            [
             0.7,
             "#b8e186"
            ],
            [
             0.8,
             "#7fbc41"
            ],
            [
             0.9,
             "#4d9221"
            ],
            [
             1,
             "#276419"
            ]
           ],
           "sequential": [
            [
             0,
             "#0d0887"
            ],
            [
             0.1111111111111111,
             "#46039f"
            ],
            [
             0.2222222222222222,
             "#7201a8"
            ],
            [
             0.3333333333333333,
             "#9c179e"
            ],
            [
             0.4444444444444444,
             "#bd3786"
            ],
            [
             0.5555555555555556,
             "#d8576b"
            ],
            [
             0.6666666666666666,
             "#ed7953"
            ],
            [
             0.7777777777777778,
             "#fb9f3a"
            ],
            [
             0.8888888888888888,
             "#fdca26"
            ],
            [
             1,
             "#f0f921"
            ]
           ],
           "sequentialminus": [
            [
             0,
             "#0d0887"
            ],
            [
             0.1111111111111111,
             "#46039f"
            ],
            [
             0.2222222222222222,
             "#7201a8"
            ],
            [
             0.3333333333333333,
             "#9c179e"
            ],
            [
             0.4444444444444444,
             "#bd3786"
            ],
            [
             0.5555555555555556,
             "#d8576b"
            ],
            [
             0.6666666666666666,
             "#ed7953"
            ],
            [
             0.7777777777777778,
             "#fb9f3a"
            ],
            [
             0.8888888888888888,
             "#fdca26"
            ],
            [
             1,
             "#f0f921"
            ]
           ]
          },
          "colorway": [
           "#636efa",
           "#EF553B",
           "#00cc96",
           "#ab63fa",
           "#FFA15A",
           "#19d3f3",
           "#FF6692",
           "#B6E880",
           "#FF97FF",
           "#FECB52"
          ],
          "font": {
           "color": "#2a3f5f"
          },
          "geo": {
           "bgcolor": "white",
           "lakecolor": "white",
           "landcolor": "#E5ECF6",
           "showlakes": true,
           "showland": true,
           "subunitcolor": "white"
          },
          "hoverlabel": {
           "align": "left"
          },
          "hovermode": "closest",
          "mapbox": {
           "style": "light"
          },
          "paper_bgcolor": "white",
          "plot_bgcolor": "#E5ECF6",
          "polar": {
           "angularaxis": {
            "gridcolor": "white",
            "linecolor": "white",
            "ticks": ""
           },
           "bgcolor": "#E5ECF6",
           "radialaxis": {
            "gridcolor": "white",
            "linecolor": "white",
            "ticks": ""
           }
          },
          "scene": {
           "xaxis": {
            "backgroundcolor": "#E5ECF6",
            "gridcolor": "white",
            "gridwidth": 2,
            "linecolor": "white",
            "showbackground": true,
            "ticks": "",
            "zerolinecolor": "white"
           },
           "yaxis": {
            "backgroundcolor": "#E5ECF6",
            "gridcolor": "white",
            "gridwidth": 2,
            "linecolor": "white",
            "showbackground": true,
            "ticks": "",
            "zerolinecolor": "white"
           },
           "zaxis": {
            "backgroundcolor": "#E5ECF6",
            "gridcolor": "white",
            "gridwidth": 2,
            "linecolor": "white",
            "showbackground": true,
            "ticks": "",
            "zerolinecolor": "white"
           }
          },
          "shapedefaults": {
           "line": {
            "color": "#2a3f5f"
           }
          },
          "ternary": {
           "aaxis": {
            "gridcolor": "white",
            "linecolor": "white",
            "ticks": ""
           },
           "baxis": {
            "gridcolor": "white",
            "linecolor": "white",
            "ticks": ""
           },
           "bgcolor": "#E5ECF6",
           "caxis": {
            "gridcolor": "white",
            "linecolor": "white",
            "ticks": ""
           }
          },
          "title": {
           "x": 0.05
          },
          "xaxis": {
           "automargin": true,
           "gridcolor": "white",
           "linecolor": "white",
           "ticks": "",
           "title": {
            "standoff": 15
           },
           "zerolinecolor": "white",
           "zerolinewidth": 2
          },
          "yaxis": {
           "automargin": true,
           "gridcolor": "white",
           "linecolor": "white",
           "ticks": "",
           "title": {
            "standoff": 15
           },
           "zerolinecolor": "white",
           "zerolinewidth": 2
          }
         }
        },
        "xaxis": {
         "anchor": "y",
         "domain": [
          0,
          1
         ],
         "title": {
          "text": "Edition"
         }
        },
        "yaxis": {
         "anchor": "x",
         "domain": [
          0,
          1
         ],
         "title": {
          "text": "Countries"
         }
        }
       }
      },
      "text/html": [
       "<div>                            <div id=\"c16032d0-dede-4fb2-ba55-7408a7430cd5\" class=\"plotly-graph-div\" style=\"height:525px; width:100%;\"></div>            <script type=\"text/javascript\">                require([\"plotly\"], function(Plotly) {                    window.PLOTLYENV=window.PLOTLYENV || {};                                    if (document.getElementById(\"c16032d0-dede-4fb2-ba55-7408a7430cd5\")) {                    Plotly.newPlot(                        \"c16032d0-dede-4fb2-ba55-7408a7430cd5\",                        [{\"hovertemplate\":\"Edition=%{x}<br>Countries=%{y}<extra></extra>\",\"legendgroup\":\"\",\"line\":{\"color\":\"#636efa\",\"dash\":\"solid\"},\"marker\":{\"symbol\":\"circle\"},\"mode\":\"lines\",\"name\":\"\",\"orientation\":\"v\",\"showlegend\":false,\"x\":[1896,1900,1904,1908,1912,1920,1924,1928,1932,1936,1948,1952,1956,1960,1964,1968,1972,1976,1980,1984,1988,1992,1996,2000,2004,2008,2012,2016],\"xaxis\":\"x\",\"y\":[12,31,14,22,29,29,45,46,47,49,59,67,71,83,93,111,120,91,80,139,156,168,196,199,200,202,203,204],\"yaxis\":\"y\",\"type\":\"scatter\"}],                        {\"template\":{\"data\":{\"bar\":[{\"error_x\":{\"color\":\"#2a3f5f\"},\"error_y\":{\"color\":\"#2a3f5f\"},\"marker\":{\"line\":{\"color\":\"#E5ECF6\",\"width\":0.5},\"pattern\":{\"fillmode\":\"overlay\",\"size\":10,\"solidity\":0.2}},\"type\":\"bar\"}],\"barpolar\":[{\"marker\":{\"line\":{\"color\":\"#E5ECF6\",\"width\":0.5},\"pattern\":{\"fillmode\":\"overlay\",\"size\":10,\"solidity\":0.2}},\"type\":\"barpolar\"}],\"carpet\":[{\"aaxis\":{\"endlinecolor\":\"#2a3f5f\",\"gridcolor\":\"white\",\"linecolor\":\"white\",\"minorgridcolor\":\"white\",\"startlinecolor\":\"#2a3f5f\"},\"baxis\":{\"endlinecolor\":\"#2a3f5f\",\"gridcolor\":\"white\",\"linecolor\":\"white\",\"minorgridcolor\":\"white\",\"startlinecolor\":\"#2a3f5f\"},\"type\":\"carpet\"}],\"choropleth\":[{\"colorbar\":{\"outlinewidth\":0,\"ticks\":\"\"},\"type\":\"choropleth\"}],\"contour\":[{\"colorbar\":{\"outlinewidth\":0,\"ticks\":\"\"},\"colorscale\":[[0.0,\"#0d0887\"],[0.1111111111111111,\"#46039f\"],[0.2222222222222222,\"#7201a8\"],[0.3333333333333333,\"#9c179e\"],[0.4444444444444444,\"#bd3786\"],[0.5555555555555556,\"#d8576b\"],[0.6666666666666666,\"#ed7953\"],[0.7777777777777778,\"#fb9f3a\"],[0.8888888888888888,\"#fdca26\"],[1.0,\"#f0f921\"]],\"type\":\"contour\"}],\"contourcarpet\":[{\"colorbar\":{\"outlinewidth\":0,\"ticks\":\"\"},\"type\":\"contourcarpet\"}],\"heatmap\":[{\"colorbar\":{\"outlinewidth\":0,\"ticks\":\"\"},\"colorscale\":[[0.0,\"#0d0887\"],[0.1111111111111111,\"#46039f\"],[0.2222222222222222,\"#7201a8\"],[0.3333333333333333,\"#9c179e\"],[0.4444444444444444,\"#bd3786\"],[0.5555555555555556,\"#d8576b\"],[0.6666666666666666,\"#ed7953\"],[0.7777777777777778,\"#fb9f3a\"],[0.8888888888888888,\"#fdca26\"],[1.0,\"#f0f921\"]],\"type\":\"heatmap\"}],\"heatmapgl\":[{\"colorbar\":{\"outlinewidth\":0,\"ticks\":\"\"},\"colorscale\":[[0.0,\"#0d0887\"],[0.1111111111111111,\"#46039f\"],[0.2222222222222222,\"#7201a8\"],[0.3333333333333333,\"#9c179e\"],[0.4444444444444444,\"#bd3786\"],[0.5555555555555556,\"#d8576b\"],[0.6666666666666666,\"#ed7953\"],[0.7777777777777778,\"#fb9f3a\"],[0.8888888888888888,\"#fdca26\"],[1.0,\"#f0f921\"]],\"type\":\"heatmapgl\"}],\"histogram\":[{\"marker\":{\"pattern\":{\"fillmode\":\"overlay\",\"size\":10,\"solidity\":0.2}},\"type\":\"histogram\"}],\"histogram2d\":[{\"colorbar\":{\"outlinewidth\":0,\"ticks\":\"\"},\"colorscale\":[[0.0,\"#0d0887\"],[0.1111111111111111,\"#46039f\"],[0.2222222222222222,\"#7201a8\"],[0.3333333333333333,\"#9c179e\"],[0.4444444444444444,\"#bd3786\"],[0.5555555555555556,\"#d8576b\"],[0.6666666666666666,\"#ed7953\"],[0.7777777777777778,\"#fb9f3a\"],[0.8888888888888888,\"#fdca26\"],[1.0,\"#f0f921\"]],\"type\":\"histogram2d\"}],\"histogram2dcontour\":[{\"colorbar\":{\"outlinewidth\":0,\"ticks\":\"\"},\"colorscale\":[[0.0,\"#0d0887\"],[0.1111111111111111,\"#46039f\"],[0.2222222222222222,\"#7201a8\"],[0.3333333333333333,\"#9c179e\"],[0.4444444444444444,\"#bd3786\"],[0.5555555555555556,\"#d8576b\"],[0.6666666666666666,\"#ed7953\"],[0.7777777777777778,\"#fb9f3a\"],[0.8888888888888888,\"#fdca26\"],[1.0,\"#f0f921\"]],\"type\":\"histogram2dcontour\"}],\"mesh3d\":[{\"colorbar\":{\"outlinewidth\":0,\"ticks\":\"\"},\"type\":\"mesh3d\"}],\"parcoords\":[{\"line\":{\"colorbar\":{\"outlinewidth\":0,\"ticks\":\"\"}},\"type\":\"parcoords\"}],\"pie\":[{\"automargin\":true,\"type\":\"pie\"}],\"scatter\":[{\"marker\":{\"colorbar\":{\"outlinewidth\":0,\"ticks\":\"\"}},\"type\":\"scatter\"}],\"scatter3d\":[{\"line\":{\"colorbar\":{\"outlinewidth\":0,\"ticks\":\"\"}},\"marker\":{\"colorbar\":{\"outlinewidth\":0,\"ticks\":\"\"}},\"type\":\"scatter3d\"}],\"scattercarpet\":[{\"marker\":{\"colorbar\":{\"outlinewidth\":0,\"ticks\":\"\"}},\"type\":\"scattercarpet\"}],\"scattergeo\":[{\"marker\":{\"colorbar\":{\"outlinewidth\":0,\"ticks\":\"\"}},\"type\":\"scattergeo\"}],\"scattergl\":[{\"marker\":{\"colorbar\":{\"outlinewidth\":0,\"ticks\":\"\"}},\"type\":\"scattergl\"}],\"scattermapbox\":[{\"marker\":{\"colorbar\":{\"outlinewidth\":0,\"ticks\":\"\"}},\"type\":\"scattermapbox\"}],\"scatterpolar\":[{\"marker\":{\"colorbar\":{\"outlinewidth\":0,\"ticks\":\"\"}},\"type\":\"scatterpolar\"}],\"scatterpolargl\":[{\"marker\":{\"colorbar\":{\"outlinewidth\":0,\"ticks\":\"\"}},\"type\":\"scatterpolargl\"}],\"scatterternary\":[{\"marker\":{\"colorbar\":{\"outlinewidth\":0,\"ticks\":\"\"}},\"type\":\"scatterternary\"}],\"surface\":[{\"colorbar\":{\"outlinewidth\":0,\"ticks\":\"\"},\"colorscale\":[[0.0,\"#0d0887\"],[0.1111111111111111,\"#46039f\"],[0.2222222222222222,\"#7201a8\"],[0.3333333333333333,\"#9c179e\"],[0.4444444444444444,\"#bd3786\"],[0.5555555555555556,\"#d8576b\"],[0.6666666666666666,\"#ed7953\"],[0.7777777777777778,\"#fb9f3a\"],[0.8888888888888888,\"#fdca26\"],[1.0,\"#f0f921\"]],\"type\":\"surface\"}],\"table\":[{\"cells\":{\"fill\":{\"color\":\"#EBF0F8\"},\"line\":{\"color\":\"white\"}},\"header\":{\"fill\":{\"color\":\"#C8D4E3\"},\"line\":{\"color\":\"white\"}},\"type\":\"table\"}]},\"layout\":{\"annotationdefaults\":{\"arrowcolor\":\"#2a3f5f\",\"arrowhead\":0,\"arrowwidth\":1},\"autotypenumbers\":\"strict\",\"coloraxis\":{\"colorbar\":{\"outlinewidth\":0,\"ticks\":\"\"}},\"colorscale\":{\"diverging\":[[0,\"#8e0152\"],[0.1,\"#c51b7d\"],[0.2,\"#de77ae\"],[0.3,\"#f1b6da\"],[0.4,\"#fde0ef\"],[0.5,\"#f7f7f7\"],[0.6,\"#e6f5d0\"],[0.7,\"#b8e186\"],[0.8,\"#7fbc41\"],[0.9,\"#4d9221\"],[1,\"#276419\"]],\"sequential\":[[0.0,\"#0d0887\"],[0.1111111111111111,\"#46039f\"],[0.2222222222222222,\"#7201a8\"],[0.3333333333333333,\"#9c179e\"],[0.4444444444444444,\"#bd3786\"],[0.5555555555555556,\"#d8576b\"],[0.6666666666666666,\"#ed7953\"],[0.7777777777777778,\"#fb9f3a\"],[0.8888888888888888,\"#fdca26\"],[1.0,\"#f0f921\"]],\"sequentialminus\":[[0.0,\"#0d0887\"],[0.1111111111111111,\"#46039f\"],[0.2222222222222222,\"#7201a8\"],[0.3333333333333333,\"#9c179e\"],[0.4444444444444444,\"#bd3786\"],[0.5555555555555556,\"#d8576b\"],[0.6666666666666666,\"#ed7953\"],[0.7777777777777778,\"#fb9f3a\"],[0.8888888888888888,\"#fdca26\"],[1.0,\"#f0f921\"]]},\"colorway\":[\"#636efa\",\"#EF553B\",\"#00cc96\",\"#ab63fa\",\"#FFA15A\",\"#19d3f3\",\"#FF6692\",\"#B6E880\",\"#FF97FF\",\"#FECB52\"],\"font\":{\"color\":\"#2a3f5f\"},\"geo\":{\"bgcolor\":\"white\",\"lakecolor\":\"white\",\"landcolor\":\"#E5ECF6\",\"showlakes\":true,\"showland\":true,\"subunitcolor\":\"white\"},\"hoverlabel\":{\"align\":\"left\"},\"hovermode\":\"closest\",\"mapbox\":{\"style\":\"light\"},\"paper_bgcolor\":\"white\",\"plot_bgcolor\":\"#E5ECF6\",\"polar\":{\"angularaxis\":{\"gridcolor\":\"white\",\"linecolor\":\"white\",\"ticks\":\"\"},\"bgcolor\":\"#E5ECF6\",\"radialaxis\":{\"gridcolor\":\"white\",\"linecolor\":\"white\",\"ticks\":\"\"}},\"scene\":{\"xaxis\":{\"backgroundcolor\":\"#E5ECF6\",\"gridcolor\":\"white\",\"gridwidth\":2,\"linecolor\":\"white\",\"showbackground\":true,\"ticks\":\"\",\"zerolinecolor\":\"white\"},\"yaxis\":{\"backgroundcolor\":\"#E5ECF6\",\"gridcolor\":\"white\",\"gridwidth\":2,\"linecolor\":\"white\",\"showbackground\":true,\"ticks\":\"\",\"zerolinecolor\":\"white\"},\"zaxis\":{\"backgroundcolor\":\"#E5ECF6\",\"gridcolor\":\"white\",\"gridwidth\":2,\"linecolor\":\"white\",\"showbackground\":true,\"ticks\":\"\",\"zerolinecolor\":\"white\"}},\"shapedefaults\":{\"line\":{\"color\":\"#2a3f5f\"}},\"ternary\":{\"aaxis\":{\"gridcolor\":\"white\",\"linecolor\":\"white\",\"ticks\":\"\"},\"baxis\":{\"gridcolor\":\"white\",\"linecolor\":\"white\",\"ticks\":\"\"},\"bgcolor\":\"#E5ECF6\",\"caxis\":{\"gridcolor\":\"white\",\"linecolor\":\"white\",\"ticks\":\"\"}},\"title\":{\"x\":0.05},\"xaxis\":{\"automargin\":true,\"gridcolor\":\"white\",\"linecolor\":\"white\",\"ticks\":\"\",\"title\":{\"standoff\":15},\"zerolinecolor\":\"white\",\"zerolinewidth\":2},\"yaxis\":{\"automargin\":true,\"gridcolor\":\"white\",\"linecolor\":\"white\",\"ticks\":\"\",\"title\":{\"standoff\":15},\"zerolinecolor\":\"white\",\"zerolinewidth\":2}}},\"xaxis\":{\"anchor\":\"y\",\"domain\":[0.0,1.0],\"title\":{\"text\":\"Edition\"}},\"yaxis\":{\"anchor\":\"x\",\"domain\":[0.0,1.0],\"title\":{\"text\":\"Countries\"}},\"legend\":{\"tracegroupgap\":0},\"margin\":{\"t\":60}},                        {\"responsive\": true}                    ).then(function(){\n",
       "                            \n",
       "var gd = document.getElementById('c16032d0-dede-4fb2-ba55-7408a7430cd5');\n",
       "var x = new MutationObserver(function (mutations, observer) {{\n",
       "        var display = window.getComputedStyle(gd).display;\n",
       "        if (!display || display === 'none') {{\n",
       "            console.log([gd, 'removed!']);\n",
       "            Plotly.purge(gd);\n",
       "            observer.disconnect();\n",
       "        }}\n",
       "}});\n",
       "\n",
       "// Listen for the removal of the full notebook cells\n",
       "var notebookContainer = gd.closest('#notebook-container');\n",
       "if (notebookContainer) {{\n",
       "    x.observe(notebookContainer, {childList: true});\n",
       "}}\n",
       "\n",
       "// Listen for the clearing of the current output cell\n",
       "var outputEl = gd.closest('.output');\n",
       "if (outputEl) {{\n",
       "    x.observe(outputEl, {childList: true});\n",
       "}}\n",
       "\n",
       "                        })                };                });            </script>        </div>"
      ]
     },
     "metadata": {},
     "output_type": "display_data"
    }
   ],
   "source": [
    "fig = px.line(nations_over_time, x=\"Edition\", y=\"Countries\")\n",
    "fig.show()"
   ]
  },
  {
   "cell_type": "code",
   "execution_count": 227,
   "id": "c55d4341",
   "metadata": {
    "scrolled": true
   },
   "outputs": [
    {
     "data": {
      "text/html": [
       "<div>\n",
       "<style scoped>\n",
       "    .dataframe tbody tr th:only-of-type {\n",
       "        vertical-align: middle;\n",
       "    }\n",
       "\n",
       "    .dataframe tbody tr th {\n",
       "        vertical-align: top;\n",
       "    }\n",
       "\n",
       "    .dataframe thead th {\n",
       "        text-align: right;\n",
       "    }\n",
       "</style>\n",
       "<table border=\"1\" class=\"dataframe\">\n",
       "  <thead>\n",
       "    <tr style=\"text-align: right;\">\n",
       "      <th></th>\n",
       "      <th>ID</th>\n",
       "      <th>Name</th>\n",
       "      <th>Sex</th>\n",
       "      <th>Age</th>\n",
       "      <th>Height</th>\n",
       "      <th>Weight</th>\n",
       "      <th>Team</th>\n",
       "      <th>NOC</th>\n",
       "      <th>Games</th>\n",
       "      <th>Year</th>\n",
       "      <th>Season</th>\n",
       "      <th>City</th>\n",
       "      <th>Sport</th>\n",
       "      <th>Event</th>\n",
       "      <th>Medal</th>\n",
       "      <th>region</th>\n",
       "      <th>notes</th>\n",
       "      <th>Bronze</th>\n",
       "      <th>Gold</th>\n",
       "      <th>Silver</th>\n",
       "    </tr>\n",
       "  </thead>\n",
       "  <tbody>\n",
       "    <tr>\n",
       "      <th>0</th>\n",
       "      <td>1</td>\n",
       "      <td>A Dijiang</td>\n",
       "      <td>M</td>\n",
       "      <td>24.0</td>\n",
       "      <td>180.0</td>\n",
       "      <td>80.0</td>\n",
       "      <td>China</td>\n",
       "      <td>CHN</td>\n",
       "      <td>1992 Summer</td>\n",
       "      <td>1992</td>\n",
       "      <td>Summer</td>\n",
       "      <td>Barcelona</td>\n",
       "      <td>Basketball</td>\n",
       "      <td>Basketball Men's Basketball</td>\n",
       "      <td>NaN</td>\n",
       "      <td>China</td>\n",
       "      <td>NaN</td>\n",
       "      <td>0</td>\n",
       "      <td>0</td>\n",
       "      <td>0</td>\n",
       "    </tr>\n",
       "    <tr>\n",
       "      <th>1</th>\n",
       "      <td>2</td>\n",
       "      <td>A Lamusi</td>\n",
       "      <td>M</td>\n",
       "      <td>23.0</td>\n",
       "      <td>170.0</td>\n",
       "      <td>60.0</td>\n",
       "      <td>China</td>\n",
       "      <td>CHN</td>\n",
       "      <td>2012 Summer</td>\n",
       "      <td>2012</td>\n",
       "      <td>Summer</td>\n",
       "      <td>London</td>\n",
       "      <td>Judo</td>\n",
       "      <td>Judo Men's Extra-Lightweight</td>\n",
       "      <td>NaN</td>\n",
       "      <td>China</td>\n",
       "      <td>NaN</td>\n",
       "      <td>0</td>\n",
       "      <td>0</td>\n",
       "      <td>0</td>\n",
       "    </tr>\n",
       "    <tr>\n",
       "      <th>2</th>\n",
       "      <td>3</td>\n",
       "      <td>Gunnar Nielsen Aaby</td>\n",
       "      <td>M</td>\n",
       "      <td>24.0</td>\n",
       "      <td>NaN</td>\n",
       "      <td>NaN</td>\n",
       "      <td>Denmark</td>\n",
       "      <td>DEN</td>\n",
       "      <td>1920 Summer</td>\n",
       "      <td>1920</td>\n",
       "      <td>Summer</td>\n",
       "      <td>Antwerpen</td>\n",
       "      <td>Football</td>\n",
       "      <td>Football Men's Football</td>\n",
       "      <td>NaN</td>\n",
       "      <td>Denmark</td>\n",
       "      <td>NaN</td>\n",
       "      <td>0</td>\n",
       "      <td>0</td>\n",
       "      <td>0</td>\n",
       "    </tr>\n",
       "    <tr>\n",
       "      <th>3</th>\n",
       "      <td>4</td>\n",
       "      <td>Edgar Lindenau Aabye</td>\n",
       "      <td>M</td>\n",
       "      <td>34.0</td>\n",
       "      <td>NaN</td>\n",
       "      <td>NaN</td>\n",
       "      <td>Denmark/Sweden</td>\n",
       "      <td>DEN</td>\n",
       "      <td>1900 Summer</td>\n",
       "      <td>1900</td>\n",
       "      <td>Summer</td>\n",
       "      <td>Paris</td>\n",
       "      <td>Tug-Of-War</td>\n",
       "      <td>Tug-Of-War Men's Tug-Of-War</td>\n",
       "      <td>Gold</td>\n",
       "      <td>Denmark</td>\n",
       "      <td>NaN</td>\n",
       "      <td>0</td>\n",
       "      <td>1</td>\n",
       "      <td>0</td>\n",
       "    </tr>\n",
       "    <tr>\n",
       "      <th>4</th>\n",
       "      <td>8</td>\n",
       "      <td>Cornelia \"Cor\" Aalten (-Strannood)</td>\n",
       "      <td>F</td>\n",
       "      <td>18.0</td>\n",
       "      <td>168.0</td>\n",
       "      <td>NaN</td>\n",
       "      <td>Netherlands</td>\n",
       "      <td>NED</td>\n",
       "      <td>1932 Summer</td>\n",
       "      <td>1932</td>\n",
       "      <td>Summer</td>\n",
       "      <td>Los Angeles</td>\n",
       "      <td>Athletics</td>\n",
       "      <td>Athletics Women's 100 metres</td>\n",
       "      <td>NaN</td>\n",
       "      <td>Netherlands</td>\n",
       "      <td>NaN</td>\n",
       "      <td>0</td>\n",
       "      <td>0</td>\n",
       "      <td>0</td>\n",
       "    </tr>\n",
       "    <tr>\n",
       "      <th>...</th>\n",
       "      <td>...</td>\n",
       "      <td>...</td>\n",
       "      <td>...</td>\n",
       "      <td>...</td>\n",
       "      <td>...</td>\n",
       "      <td>...</td>\n",
       "      <td>...</td>\n",
       "      <td>...</td>\n",
       "      <td>...</td>\n",
       "      <td>...</td>\n",
       "      <td>...</td>\n",
       "      <td>...</td>\n",
       "      <td>...</td>\n",
       "      <td>...</td>\n",
       "      <td>...</td>\n",
       "      <td>...</td>\n",
       "      <td>...</td>\n",
       "      <td>...</td>\n",
       "      <td>...</td>\n",
       "      <td>...</td>\n",
       "    </tr>\n",
       "    <tr>\n",
       "      <th>222547</th>\n",
       "      <td>135565</td>\n",
       "      <td>Fernando scar Zylberberg</td>\n",
       "      <td>M</td>\n",
       "      <td>27.0</td>\n",
       "      <td>168.0</td>\n",
       "      <td>76.0</td>\n",
       "      <td>Argentina</td>\n",
       "      <td>ARG</td>\n",
       "      <td>2004 Summer</td>\n",
       "      <td>2004</td>\n",
       "      <td>Summer</td>\n",
       "      <td>Athina</td>\n",
       "      <td>Hockey</td>\n",
       "      <td>Hockey Men's Hockey</td>\n",
       "      <td>NaN</td>\n",
       "      <td>Argentina</td>\n",
       "      <td>NaN</td>\n",
       "      <td>0</td>\n",
       "      <td>0</td>\n",
       "      <td>0</td>\n",
       "    </tr>\n",
       "    <tr>\n",
       "      <th>222548</th>\n",
       "      <td>135566</td>\n",
       "      <td>James Francis \"Jim\" Zylker</td>\n",
       "      <td>M</td>\n",
       "      <td>21.0</td>\n",
       "      <td>175.0</td>\n",
       "      <td>75.0</td>\n",
       "      <td>United States</td>\n",
       "      <td>USA</td>\n",
       "      <td>1972 Summer</td>\n",
       "      <td>1972</td>\n",
       "      <td>Summer</td>\n",
       "      <td>Munich</td>\n",
       "      <td>Football</td>\n",
       "      <td>Football Men's Football</td>\n",
       "      <td>NaN</td>\n",
       "      <td>USA</td>\n",
       "      <td>NaN</td>\n",
       "      <td>0</td>\n",
       "      <td>0</td>\n",
       "      <td>0</td>\n",
       "    </tr>\n",
       "    <tr>\n",
       "      <th>222549</th>\n",
       "      <td>135567</td>\n",
       "      <td>Aleksandr Viktorovich Zyuzin</td>\n",
       "      <td>M</td>\n",
       "      <td>24.0</td>\n",
       "      <td>183.0</td>\n",
       "      <td>72.0</td>\n",
       "      <td>Russia</td>\n",
       "      <td>RUS</td>\n",
       "      <td>2000 Summer</td>\n",
       "      <td>2000</td>\n",
       "      <td>Summer</td>\n",
       "      <td>Sydney</td>\n",
       "      <td>Rowing</td>\n",
       "      <td>Rowing Men's Lightweight Coxless Fours</td>\n",
       "      <td>NaN</td>\n",
       "      <td>Russia</td>\n",
       "      <td>NaN</td>\n",
       "      <td>0</td>\n",
       "      <td>0</td>\n",
       "      <td>0</td>\n",
       "    </tr>\n",
       "    <tr>\n",
       "      <th>222550</th>\n",
       "      <td>135567</td>\n",
       "      <td>Aleksandr Viktorovich Zyuzin</td>\n",
       "      <td>M</td>\n",
       "      <td>28.0</td>\n",
       "      <td>183.0</td>\n",
       "      <td>72.0</td>\n",
       "      <td>Russia</td>\n",
       "      <td>RUS</td>\n",
       "      <td>2004 Summer</td>\n",
       "      <td>2004</td>\n",
       "      <td>Summer</td>\n",
       "      <td>Athina</td>\n",
       "      <td>Rowing</td>\n",
       "      <td>Rowing Men's Lightweight Coxless Fours</td>\n",
       "      <td>NaN</td>\n",
       "      <td>Russia</td>\n",
       "      <td>NaN</td>\n",
       "      <td>0</td>\n",
       "      <td>0</td>\n",
       "      <td>0</td>\n",
       "    </tr>\n",
       "    <tr>\n",
       "      <th>222551</th>\n",
       "      <td>135568</td>\n",
       "      <td>Olga Igorevna Zyuzkova</td>\n",
       "      <td>F</td>\n",
       "      <td>33.0</td>\n",
       "      <td>171.0</td>\n",
       "      <td>69.0</td>\n",
       "      <td>Belarus</td>\n",
       "      <td>BLR</td>\n",
       "      <td>2016 Summer</td>\n",
       "      <td>2016</td>\n",
       "      <td>Summer</td>\n",
       "      <td>Rio de Janeiro</td>\n",
       "      <td>Basketball</td>\n",
       "      <td>Basketball Women's Basketball</td>\n",
       "      <td>NaN</td>\n",
       "      <td>Belarus</td>\n",
       "      <td>NaN</td>\n",
       "      <td>0</td>\n",
       "      <td>0</td>\n",
       "      <td>0</td>\n",
       "    </tr>\n",
       "  </tbody>\n",
       "</table>\n",
       "<p>219434 rows × 20 columns</p>\n",
       "</div>"
      ],
      "text/plain": [
       "            ID                                Name Sex   Age  Height  Weight  \\\n",
       "0            1                           A Dijiang   M  24.0   180.0    80.0   \n",
       "1            2                            A Lamusi   M  23.0   170.0    60.0   \n",
       "2            3                 Gunnar Nielsen Aaby   M  24.0     NaN     NaN   \n",
       "3            4                Edgar Lindenau Aabye   M  34.0     NaN     NaN   \n",
       "4            8  Cornelia \"Cor\" Aalten (-Strannood)   F  18.0   168.0     NaN   \n",
       "...        ...                                 ...  ..   ...     ...     ...   \n",
       "222547  135565            Fernando scar Zylberberg   M  27.0   168.0    76.0   \n",
       "222548  135566          James Francis \"Jim\" Zylker   M  21.0   175.0    75.0   \n",
       "222549  135567        Aleksandr Viktorovich Zyuzin   M  24.0   183.0    72.0   \n",
       "222550  135567        Aleksandr Viktorovich Zyuzin   M  28.0   183.0    72.0   \n",
       "222551  135568              Olga Igorevna Zyuzkova   F  33.0   171.0    69.0   \n",
       "\n",
       "                  Team  NOC        Games  Year  Season            City  \\\n",
       "0                China  CHN  1992 Summer  1992  Summer       Barcelona   \n",
       "1                China  CHN  2012 Summer  2012  Summer          London   \n",
       "2              Denmark  DEN  1920 Summer  1920  Summer       Antwerpen   \n",
       "3       Denmark/Sweden  DEN  1900 Summer  1900  Summer           Paris   \n",
       "4          Netherlands  NED  1932 Summer  1932  Summer     Los Angeles   \n",
       "...                ...  ...          ...   ...     ...             ...   \n",
       "222547       Argentina  ARG  2004 Summer  2004  Summer          Athina   \n",
       "222548   United States  USA  1972 Summer  1972  Summer          Munich   \n",
       "222549          Russia  RUS  2000 Summer  2000  Summer          Sydney   \n",
       "222550          Russia  RUS  2004 Summer  2004  Summer          Athina   \n",
       "222551         Belarus  BLR  2016 Summer  2016  Summer  Rio de Janeiro   \n",
       "\n",
       "             Sport                                   Event Medal       region  \\\n",
       "0       Basketball             Basketball Men's Basketball   NaN        China   \n",
       "1             Judo            Judo Men's Extra-Lightweight   NaN        China   \n",
       "2         Football                 Football Men's Football   NaN      Denmark   \n",
       "3       Tug-Of-War             Tug-Of-War Men's Tug-Of-War  Gold      Denmark   \n",
       "4        Athletics            Athletics Women's 100 metres   NaN  Netherlands   \n",
       "...            ...                                     ...   ...          ...   \n",
       "222547      Hockey                     Hockey Men's Hockey   NaN    Argentina   \n",
       "222548    Football                 Football Men's Football   NaN          USA   \n",
       "222549      Rowing  Rowing Men's Lightweight Coxless Fours   NaN       Russia   \n",
       "222550      Rowing  Rowing Men's Lightweight Coxless Fours   NaN       Russia   \n",
       "222551  Basketball           Basketball Women's Basketball   NaN      Belarus   \n",
       "\n",
       "       notes  Bronze  Gold  Silver  \n",
       "0        NaN       0     0       0  \n",
       "1        NaN       0     0       0  \n",
       "2        NaN       0     0       0  \n",
       "3        NaN       0     1       0  \n",
       "4        NaN       0     0       0  \n",
       "...      ...     ...   ...     ...  \n",
       "222547   NaN       0     0       0  \n",
       "222548   NaN       0     0       0  \n",
       "222549   NaN       0     0       0  \n",
       "222550   NaN       0     0       0  \n",
       "222551   NaN       0     0       0  \n",
       "\n",
       "[219434 rows x 20 columns]"
      ]
     },
     "execution_count": 227,
     "metadata": {},
     "output_type": "execute_result"
    }
   ],
   "source": [
    "df"
   ]
  },
  {
   "cell_type": "code",
   "execution_count": 228,
   "id": "64acce71",
   "metadata": {},
   "outputs": [],
   "source": [
    "import seaborn as sns\n",
    "import matplotlib.pyplot as plt"
   ]
  },
  {
   "cell_type": "code",
   "execution_count": 229,
   "id": "62aff894",
   "metadata": {},
   "outputs": [],
   "source": [
    "x=df.drop_duplicates(['Year', 'Sport', 'Event'])"
   ]
  },
  {
   "cell_type": "code",
   "execution_count": 230,
   "id": "61e32d2d",
   "metadata": {},
   "outputs": [
    {
     "data": {
      "text/plain": [
       "<AxesSubplot:xlabel='Year', ylabel='Sport'>"
      ]
     },
     "execution_count": 230,
     "metadata": {},
     "output_type": "execute_result"
    },
    {
     "data": {
      "image/png": "[encoded data removed]",
      "text/plain": [
       "<Figure size 1800x1800 with 2 Axes>"
      ]
     },
     "metadata": {
      "needs_background": "light"
     },
     "output_type": "display_data"
    }
   ],
   "source": [
    "plt.figure(figsize=(25,25))\n",
    "sns.heatmap(x.pivot_table(index='Sport', columns='Year', values='Event', aggfunc='count').fillna(0).astype('int'), annot=True)"
   ]
  },
  {
   "cell_type": "code",
   "execution_count": 231,
   "id": "8504da1e",
   "metadata": {},
   "outputs": [],
   "source": [
    "temp_df = df.dropna(subset=['Medal'])\n",
    "temp_df.drop_duplicates(subset=['Team', 'NOC', 'Games', 'Year', 'City', 'Sport', 'Event', 'Medal'], inplace=True)"
   ]
  },
  {
   "cell_type": "code",
   "execution_count": 232,
   "id": "5c868a7c",
   "metadata": {},
   "outputs": [
    {
     "data": {
      "text/html": [
       "<div>\n",
       "<style scoped>\n",
       "    .dataframe tbody tr th:only-of-type {\n",
       "        vertical-align: middle;\n",
       "    }\n",
       "\n",
       "    .dataframe tbody tr th {\n",
       "        vertical-align: top;\n",
       "    }\n",
       "\n",
       "    .dataframe thead th {\n",
       "        text-align: right;\n",
       "    }\n",
       "</style>\n",
       "<table border=\"1\" class=\"dataframe\">\n",
       "  <thead>\n",
       "    <tr style=\"text-align: right;\">\n",
       "      <th></th>\n",
       "      <th>Year</th>\n",
       "      <th>Medal</th>\n",
       "    </tr>\n",
       "  </thead>\n",
       "  <tbody>\n",
       "    <tr>\n",
       "      <th>0</th>\n",
       "      <td>1896</td>\n",
       "      <td>19</td>\n",
       "    </tr>\n",
       "    <tr>\n",
       "      <th>1</th>\n",
       "      <td>1900</td>\n",
       "      <td>54</td>\n",
       "    </tr>\n",
       "    <tr>\n",
       "      <th>2</th>\n",
       "      <td>1904</td>\n",
       "      <td>231</td>\n",
       "    </tr>\n",
       "    <tr>\n",
       "      <th>3</th>\n",
       "      <td>1908</td>\n",
       "      <td>46</td>\n",
       "    </tr>\n",
       "    <tr>\n",
       "      <th>4</th>\n",
       "      <td>1912</td>\n",
       "      <td>63</td>\n",
       "    </tr>\n",
       "    <tr>\n",
       "      <th>5</th>\n",
       "      <td>1920</td>\n",
       "      <td>95</td>\n",
       "    </tr>\n",
       "    <tr>\n",
       "      <th>6</th>\n",
       "      <td>1924</td>\n",
       "      <td>99</td>\n",
       "    </tr>\n",
       "    <tr>\n",
       "      <th>7</th>\n",
       "      <td>1928</td>\n",
       "      <td>56</td>\n",
       "    </tr>\n",
       "    <tr>\n",
       "      <th>8</th>\n",
       "      <td>1932</td>\n",
       "      <td>110</td>\n",
       "    </tr>\n",
       "    <tr>\n",
       "      <th>9</th>\n",
       "      <td>1936</td>\n",
       "      <td>57</td>\n",
       "    </tr>\n",
       "    <tr>\n",
       "      <th>10</th>\n",
       "      <td>1948</td>\n",
       "      <td>84</td>\n",
       "    </tr>\n",
       "    <tr>\n",
       "      <th>11</th>\n",
       "      <td>1952</td>\n",
       "      <td>76</td>\n",
       "    </tr>\n",
       "    <tr>\n",
       "      <th>12</th>\n",
       "      <td>1956</td>\n",
       "      <td>74</td>\n",
       "    </tr>\n",
       "    <tr>\n",
       "      <th>13</th>\n",
       "      <td>1960</td>\n",
       "      <td>71</td>\n",
       "    </tr>\n",
       "    <tr>\n",
       "      <th>14</th>\n",
       "      <td>1964</td>\n",
       "      <td>90</td>\n",
       "    </tr>\n",
       "    <tr>\n",
       "      <th>15</th>\n",
       "      <td>1968</td>\n",
       "      <td>107</td>\n",
       "    </tr>\n",
       "    <tr>\n",
       "      <th>16</th>\n",
       "      <td>1972</td>\n",
       "      <td>94</td>\n",
       "    </tr>\n",
       "    <tr>\n",
       "      <th>17</th>\n",
       "      <td>1976</td>\n",
       "      <td>94</td>\n",
       "    </tr>\n",
       "    <tr>\n",
       "      <th>18</th>\n",
       "      <td>1984</td>\n",
       "      <td>173</td>\n",
       "    </tr>\n",
       "    <tr>\n",
       "      <th>19</th>\n",
       "      <td>1988</td>\n",
       "      <td>94</td>\n",
       "    </tr>\n",
       "    <tr>\n",
       "      <th>20</th>\n",
       "      <td>1992</td>\n",
       "      <td>108</td>\n",
       "    </tr>\n",
       "    <tr>\n",
       "      <th>21</th>\n",
       "      <td>1996</td>\n",
       "      <td>101</td>\n",
       "    </tr>\n",
       "    <tr>\n",
       "      <th>22</th>\n",
       "      <td>2000</td>\n",
       "      <td>91</td>\n",
       "    </tr>\n",
       "    <tr>\n",
       "      <th>23</th>\n",
       "      <td>2004</td>\n",
       "      <td>101</td>\n",
       "    </tr>\n",
       "    <tr>\n",
       "      <th>24</th>\n",
       "      <td>2008</td>\n",
       "      <td>110</td>\n",
       "    </tr>\n",
       "    <tr>\n",
       "      <th>25</th>\n",
       "      <td>2012</td>\n",
       "      <td>103</td>\n",
       "    </tr>\n",
       "    <tr>\n",
       "      <th>26</th>\n",
       "      <td>2016</td>\n",
       "      <td>121</td>\n",
       "    </tr>\n",
       "  </tbody>\n",
       "</table>\n",
       "</div>"
      ],
      "text/plain": [
       "    Year  Medal\n",
       "0   1896     19\n",
       "1   1900     54\n",
       "2   1904    231\n",
       "3   1908     46\n",
       "4   1912     63\n",
       "5   1920     95\n",
       "6   1924     99\n",
       "7   1928     56\n",
       "8   1932    110\n",
       "9   1936     57\n",
       "10  1948     84\n",
       "11  1952     76\n",
       "12  1956     74\n",
       "13  1960     71\n",
       "14  1964     90\n",
       "15  1968    107\n",
       "16  1972     94\n",
       "17  1976     94\n",
       "18  1984    173\n",
       "19  1988     94\n",
       "20  1992    108\n",
       "21  1996    101\n",
       "22  2000     91\n",
       "23  2004    101\n",
       "24  2008    110\n",
       "25  2012    103\n",
       "26  2016    121"
      ]
     },
     "execution_count": 232,
     "metadata": {},
     "output_type": "execute_result"
    }
   ],
   "source": [
    "new_df = temp_df[temp_df['region']=='USA']\n",
    "new_df.groupby('Year').count()['Medal'].reset_index()"
   ]
  },
  {
   "cell_type": "code",
   "execution_count": 233,
   "id": "0aba8d60",
   "metadata": {},
   "outputs": [
    {
     "data": {
      "text/plain": [
       "<AxesSubplot:xlabel='Year', ylabel='Sport'>"
      ]
     },
     "execution_count": 233,
     "metadata": {},
     "output_type": "execute_result"
    },
    {
     "data": {
      "image/png": "[encoded data removed]",
      "text/plain": [
       "<Figure size 1440x1440 with 2 Axes>"
      ]
     },
     "metadata": {
      "needs_background": "light"
     },
     "output_type": "display_data"
    }
   ],
   "source": [
    "plt.figure(figsize=(20, 20))\n",
    "sns.heatmap(new_df.pivot_table(index='Sport', columns='Year', values='Medal', aggfunc='count').fillna(0), annot=True)"
   ]
  },
  {
   "cell_type": "code",
   "execution_count": 234,
   "id": "ba2a6fb4",
   "metadata": {},
   "outputs": [],
   "source": [
    "def most_successful_countrywise(df, country):\n",
    "    temp_df = df.dropna(subset=['Medal'])\n",
    "\n",
    "    temp_df = temp_df[temp_df['region'] == country]\n",
    "\n",
    "    x = temp_df['Name'].value_counts().reset_index().head(10).merge(df, left_on='index', right_on='Name', how='left')[\n",
    "        ['index', 'Name_x', 'Sport']].drop_duplicates('index')\n",
    "    x.rename(columns={'index': 'Name', 'Name_x': 'Medals'}, inplace=True)\n",
    "    return x"
   ]
  },
  {
   "cell_type": "code",
   "execution_count": 235,
   "id": "323a7236",
   "metadata": {},
   "outputs": [
    {
     "data": {
      "text/html": [
       "<div>\n",
       "<style scoped>\n",
       "    .dataframe tbody tr th:only-of-type {\n",
       "        vertical-align: middle;\n",
       "    }\n",
       "\n",
       "    .dataframe tbody tr th {\n",
       "        vertical-align: top;\n",
       "    }\n",
       "\n",
       "    .dataframe thead th {\n",
       "        text-align: right;\n",
       "    }\n",
       "</style>\n",
       "<table border=\"1\" class=\"dataframe\">\n",
       "  <thead>\n",
       "    <tr style=\"text-align: right;\">\n",
       "      <th></th>\n",
       "      <th>Name</th>\n",
       "      <th>Medals</th>\n",
       "      <th>Sport</th>\n",
       "    </tr>\n",
       "  </thead>\n",
       "  <tbody>\n",
       "    <tr>\n",
       "      <th>0</th>\n",
       "      <td>Michael Fred Phelps, II</td>\n",
       "      <td>28</td>\n",
       "      <td>Swimming</td>\n",
       "    </tr>\n",
       "    <tr>\n",
       "      <th>30</th>\n",
       "      <td>Dara Grace Torres (-Hoffman, -Minas)</td>\n",
       "      <td>12</td>\n",
       "      <td>Swimming</td>\n",
       "    </tr>\n",
       "    <tr>\n",
       "      <th>43</th>\n",
       "      <td>Natalie Anne Coughlin (-Hall)</td>\n",
       "      <td>12</td>\n",
       "      <td>Swimming</td>\n",
       "    </tr>\n",
       "    <tr>\n",
       "      <th>55</th>\n",
       "      <td>Jennifer Elisabeth \"Jenny\" Thompson (-Cumpelik)</td>\n",
       "      <td>12</td>\n",
       "      <td>Swimming</td>\n",
       "    </tr>\n",
       "    <tr>\n",
       "      <th>72</th>\n",
       "      <td>Ryan Steven Lochte</td>\n",
       "      <td>12</td>\n",
       "      <td>Swimming</td>\n",
       "    </tr>\n",
       "    <tr>\n",
       "      <th>86</th>\n",
       "      <td>Mark Andrew Spitz</td>\n",
       "      <td>11</td>\n",
       "      <td>Swimming</td>\n",
       "    </tr>\n",
       "    <tr>\n",
       "      <th>98</th>\n",
       "      <td>Matthew Nicholas \"Matt\" Biondi</td>\n",
       "      <td>11</td>\n",
       "      <td>Swimming</td>\n",
       "    </tr>\n",
       "    <tr>\n",
       "      <th>110</th>\n",
       "      <td>Carl Townsend Osburn</td>\n",
       "      <td>11</td>\n",
       "      <td>Shooting</td>\n",
       "    </tr>\n",
       "    <tr>\n",
       "      <th>126</th>\n",
       "      <td>Frederick Carlton \"Carl\" Lewis</td>\n",
       "      <td>10</td>\n",
       "      <td>Athletics</td>\n",
       "    </tr>\n",
       "    <tr>\n",
       "      <th>136</th>\n",
       "      <td>Gary Wayne Hall, Jr.</td>\n",
       "      <td>10</td>\n",
       "      <td>Swimming</td>\n",
       "    </tr>\n",
       "  </tbody>\n",
       "</table>\n",
       "</div>"
      ],
      "text/plain": [
       "                                                Name  Medals      Sport\n",
       "0                            Michael Fred Phelps, II      28   Swimming\n",
       "30              Dara Grace Torres (-Hoffman, -Minas)      12   Swimming\n",
       "43                     Natalie Anne Coughlin (-Hall)      12   Swimming\n",
       "55   Jennifer Elisabeth \"Jenny\" Thompson (-Cumpelik)      12   Swimming\n",
       "72                                Ryan Steven Lochte      12   Swimming\n",
       "86                                 Mark Andrew Spitz      11   Swimming\n",
       "98                    Matthew Nicholas \"Matt\" Biondi      11   Swimming\n",
       "110                             Carl Townsend Osburn      11   Shooting\n",
       "126                   Frederick Carlton \"Carl\" Lewis      10  Athletics\n",
       "136                             Gary Wayne Hall, Jr.      10   Swimming"
      ]
     },
     "execution_count": 235,
     "metadata": {},
     "output_type": "execute_result"
    }
   ],
   "source": [
    "most_successful_countrywise(df, 'USA')"
   ]
  },
  {
   "cell_type": "code",
   "execution_count": 236,
   "id": "9c84ca30",
   "metadata": {},
   "outputs": [],
   "source": [
    "import plotly.figure_factory as ff"
   ]
  },
  {
   "cell_type": "code",
   "execution_count": 237,
   "id": "db1a84d6",
   "metadata": {},
   "outputs": [],
   "source": [
    "athlete_df = df.drop_duplicates(subset=['Name', 'region'])\n",
    "\n",
    "x1 = athlete_df['Age'].dropna()\n",
    "x2 = athlete_df[athlete_df['Medal'] == 'Gold']['Age'].dropna()\n",
    "x3 = athlete_df[athlete_df['Medal'] == 'Silver']['Age'].dropna()\n",
    "x4 = athlete_df[athlete_df['Medal'] == 'Bronze']['Age'].dropna()"
   ]
  },
  {
   "cell_type": "code",
   "execution_count": 238,
   "id": "2ed23239",
   "metadata": {},
   "outputs": [
    {
     "data": {
      "application/vnd.plotly.v1+json": {
       "config": {
        "plotlyServerURL": "https://plot.ly"
       },
       "data": [
        {
         "legendgroup": "Overall Age",
         "marker": {
          "color": "rgb(31, 119, 180)"
         },
         "mode": "lines",
         "name": "Overall Age",
         "showlegend": true,
         "type": "scatter",
         "x": [
          10,
          10.174,
          10.348,
          10.522,
          10.696,
          10.87,
          11.044,
          11.218,
          11.392,
          11.566,
          11.74,
          11.914,
          12.088000000000001,
          12.262,
          12.436,
          12.61,
          12.783999999999999,
          12.958,
          13.132,
          13.306000000000001,
          13.48,
          13.654,
          13.828,
          14.001999999999999,
          14.176,
          14.35,
          14.524000000000001,
          14.698,
          14.872,
          15.046,
          15.219999999999999,
          15.394,
          15.568,
          15.742,
          15.916,
          16.09,
          16.264,
          16.438,
          16.612000000000002,
          16.786,
          16.96,
          17.134,
          17.308,
          17.482,
          17.656,
          17.83,
          18.003999999999998,
          18.178,
          18.352,
          18.526,
          18.7,
          18.874000000000002,
          19.048000000000002,
          19.222,
          19.396,
          19.57,
          19.744,
          19.918,
          20.092,
          20.266,
          20.439999999999998,
          20.614,
          20.788,
          20.962,
          21.136,
          21.310000000000002,
          21.484,
          21.658,
          21.832,
          22.006,
          22.18,
          22.354,
          22.528,
          22.701999999999998,
          22.875999999999998,
          23.05,
          23.224,
          23.398,
          23.572,
          23.746000000000002,
          23.92,
          24.094,
          24.268,
          24.442,
          24.616,
          24.79,
          24.964,
          25.137999999999998,
          25.311999999999998,
          25.486,
          25.66,
          25.834,
          26.008,
          26.182,
          26.356,
          26.53,
          26.704,
          26.878,
          27.052,
          27.226,
          27.4,
          27.574,
          27.748,
          27.922,
          28.096,
          28.27,
          28.444,
          28.618,
          28.792,
          28.966,
          29.14,
          29.314,
          29.488,
          29.662,
          29.836,
          30.01,
          30.184,
          30.358,
          30.532,
          30.706,
          30.88,
          31.054,
          31.228,
          31.402,
          31.576,
          31.75,
          31.924,
          32.098,
          32.272,
          32.446,
          32.620000000000005,
          32.794,
          32.968,
          33.141999999999996,
          33.316,
          33.489999999999995,
          33.664,
          33.838,
          34.012,
          34.186,
          34.36,
          34.534,
          34.708,
          34.882000000000005,
          35.056,
          35.230000000000004,
          35.403999999999996,
          35.578,
          35.751999999999995,
          35.926,
          36.1,
          36.274,
          36.448,
          36.622,
          36.796,
          36.97,
          37.144,
          37.318,
          37.492000000000004,
          37.666,
          37.84,
          38.013999999999996,
          38.188,
          38.361999999999995,
          38.536,
          38.71,
          38.884,
          39.058,
          39.232,
          39.406,
          39.58,
          39.754000000000005,
          39.928,
          40.102000000000004,
          40.275999999999996,
          40.45,
          40.623999999999995,
          40.798,
          40.972,
          41.146,
          41.32,
          41.494,
          41.668,
          41.842,
          42.016,
          42.19,
          42.364,
          42.538,
          42.712,
          42.886,
          43.06,
          43.234,
          43.408,
          43.582,
          43.756,
          43.93,
          44.104,
          44.278,
          44.452,
          44.626,
          44.8,
          44.974,
          45.148,
          45.322,
          45.496,
          45.67,
          45.844,
          46.018,
          46.192,
          46.366,
          46.54,
          46.714,
          46.888,
          47.062,
          47.236,
          47.41,
          47.584,
          47.758,
          47.932,
          48.106,
          48.28,
          48.454,
          48.628,
          48.802,
          48.976,
          49.15,
          49.324,
          49.498,
          49.672,
          49.846,
          50.02,
          50.194,
          50.368,
          50.542,
          50.716,
          50.89,
          51.064,
          51.238,
          51.412,
          51.586,
          51.76,
          51.934,
          52.108,
          52.282,
          52.456,
          52.63,
          52.804,
          52.978,
          53.152,
          53.326,
          53.5,
          53.674,
          53.848,
          54.022,
          54.196,
          54.37,
          54.544,
          54.718,
          54.892,
          55.066,
          55.24,
          55.414,
          55.588,
          55.762,
          55.936,
          56.11,
          56.284,
          56.458,
          56.632,
          56.806,
          56.98,
          57.154,
          57.328,
          57.502,
          57.676,
          57.85,
          58.024,
          58.198,
          58.372,
          58.546,
          58.72,
          58.894,
          59.068,
          59.242,
          59.416,
          59.59,
          59.764,
          59.938,
          60.112,
          60.286,
          60.46,
          60.634,
          60.808,
          60.982,
          61.156,
          61.33,
          61.504,
          61.678,
          61.852,
          62.026,
          62.2,
          62.374,
          62.548,
          62.722,
          62.896,
          63.07,
          63.244,
          63.418,
          63.592,
          63.766,
          63.94,
          64.114,
          64.288,
          64.462,
          64.636,
          64.81,
          64.98400000000001,
          65.158,
          65.332,
          65.506,
          65.68,
          65.854,
          66.02799999999999,
          66.202,
          66.376,
          66.55,
          66.72399999999999,
          66.898,
          67.072,
          67.24600000000001,
          67.42,
          67.594,
          67.768,
          67.94200000000001,
          68.116,
          68.28999999999999,
          68.464,
          68.638,
          68.812,
          68.98599999999999,
          69.16,
          69.334,
          69.50800000000001,
          69.682,
          69.856,
          70.03,
          70.20400000000001,
          70.378,
          70.55199999999999,
          70.726,
          70.9,
          71.074,
          71.24799999999999,
          71.422,
          71.596,
          71.77000000000001,
          71.944,
          72.118,
          72.292,
          72.46600000000001,
          72.64,
          72.814,
          72.988,
          73.162,
          73.336,
          73.50999999999999,
          73.684,
          73.858,
          74.032,
          74.206,
          74.38,
          74.554,
          74.728,
          74.902,
          75.076,
          75.25,
          75.424,
          75.598,
          75.772,
          75.946,
          76.12,
          76.294,
          76.468,
          76.642,
          76.816,
          76.99,
          77.164,
          77.338,
          77.512,
          77.686,
          77.86,
          78.034,
          78.208,
          78.382,
          78.556,
          78.73,
          78.904,
          79.078,
          79.252,
          79.426,
          79.6,
          79.774,
          79.948,
          80.122,
          80.296,
          80.47,
          80.644,
          80.818,
          80.992,
          81.166,
          81.34,
          81.514,
          81.688,
          81.862,
          82.036,
          82.21,
          82.384,
          82.558,
          82.732,
          82.906,
          83.08,
          83.254,
          83.428,
          83.602,
          83.776,
          83.95,
          84.124,
          84.298,
          84.472,
          84.646,
          84.82,
          84.994,
          85.168,
          85.342,
          85.516,
          85.69,
          85.864,
          86.038,
          86.212,
          86.386,
          86.56,
          86.734,
          86.908,
          87.082,
          87.256,
          87.43,
          87.604,
          87.778,
          87.952,
          88.126,
          88.3,
          88.474,
          88.648,
          88.822,
          88.996,
          89.17,
          89.344,
          89.518,
          89.692,
          89.866,
          90.04,
          90.214,
          90.388,
          90.562,
          90.736,
          90.91,
          91.084,
          91.258,
          91.432,
          91.606,
          91.78,
          91.954,
          92.128,
          92.302,
          92.476,
          92.65,
          92.824,
          92.998,
          93.172,
          93.346,
          93.52,
          93.694,
          93.868,
          94.042,
          94.216,
          94.39,
          94.564,
          94.738,
          94.912,
          95.086,
          95.26,
          95.434,
          95.608,
          95.782,
          95.956,
          96.13,
          96.304,
          96.478,
          96.652,
          96.826
         ],
         "xaxis": "x",
         "y": [
          1.0716666097971404e-05,
          1.3492505052940305e-05,
          1.7083784685976622e-05,
          2.194967329657813e-05,
          2.8725147433525316e-05,
          3.826939534563528e-05,
          5.164667787915015e-05,
          6.998561812801584e-05,
          9.43159349093854e-05,
          0.0001256304255287929,
          0.00016532764070366156,
          0.00021579413354486386,
          0.00028052453111488757,
          0.00036339501935162797,
          0.00046760050658231015,
          0.0005955423741829928,
          0.0007504529851570334,
          0.000938640588973885,
          0.001169669729700663,
          0.0014528830635826282,
          0.0017924966165228763,
          0.002186515543211848,
          0.0026325419711021743,
          0.003136343424623533,
          0.0037135749670900537,
          0.004379024661057373,
          0.005130415628232203,
          0.005943231863857038,
          0.0067865767007474044,
          0.007649688711044333,
          0.008553803578877526,
          0.009533632897288646,
          0.010602604529355037,
          0.011737001984463728,
          0.01290003154008442,
          0.014086038774888543,
          0.015338878133645576,
          0.01671983658603115,
          0.018253826356484548,
          0.01991189409183547,
          0.021655033151230303,
          0.023496355917160688,
          0.025509385998389696,
          0.02776109153393238,
          0.030234024341793446,
          0.03282782786984284,
          0.03545470862477814,
          0.038136214532130286,
          0.04098953119364766,
          0.044098687778600355,
          0.04739754906931533,
          0.05069983050021825,
          0.05386693005699315,
          0.056948045403202883,
          0.06013448055393048,
          0.06355572730039444,
          0.06712325384924356,
          0.0705977116302009,
          0.07382564922798739,
          0.07689732004842846,
          0.0800391671810143,
          0.08333103397507408,
          0.08654338032054928,
          0.08928950358423492,
          0.09136442565006286,
          0.09293067467979385,
          0.09434965566973795,
          0.09581874088378635,
          0.09718267197106784,
          0.0981138525785527,
          0.09847203451120014,
          0.09846320278641695,
          0.09842708161215251,
          0.09847570794168153,
          0.09836600147176426,
          0.09774499910646367,
          0.09651495163399702,
          0.09494071834780712,
          0.09339345052577196,
          0.09200222079284551,
          0.09057152991521941,
          0.08883464606362486,
          0.08676265883536503,
          0.08460467537782083,
          0.08263035093564881,
          0.08085857893951119,
          0.07905774241820437,
          0.07700568819820781,
          0.07472654627619335,
          0.07245922410062401,
          0.07040438286751223,
          0.06852488998956777,
          0.06660408915804883,
          0.06448659208257439,
          0.06224097383731628,
          0.06008046531844504,
          0.058139010178391154,
          0.056343826436403587,
          0.05450959324997184,
          0.052540907506617926,
          0.050524849769312714,
          0.048624654845845466,
          0.04689872823494297,
          0.04523921737914689,
          0.04348796841367651,
          0.04160045403561678,
          0.03968739647488848,
          0.03790085660595841,
          0.0362919853242169,
          0.03478484845535866,
          0.03327908765252587,
          0.03176171664206961,
          0.030311290181013934,
          0.029000827083138683,
          0.027811264272275534,
          0.02664725952463298,
          0.025433225711175875,
          0.02418552825165472,
          0.022988961463589225,
          0.02190913727155605,
          0.02093456233410264,
          0.020002787687038504,
          0.01907387271427905,
          0.01817002369910213,
          0.01734385414447436,
          0.01661587216596086,
          0.01595033322492183,
          0.015292411606568468,
          0.014623441488040675,
          0.013975445428604263,
          0.013393180798577809,
          0.01288726233813117,
          0.012427231113136029,
          0.011977388333077826,
          0.011533175402556776,
          0.011118987130304077,
          0.010752579477023655,
          0.010416997399448239,
          0.01007098788957574,
          0.009686541156235982,
          0.009273973488097567,
          0.00886953870836092,
          0.00850013520014671,
          0.00816169358377051,
          0.007830906720504613,
          0.007494501742224705,
          0.007164142991263563,
          0.006863128377383947,
          0.006601620459782404,
          0.006367500779936804,
          0.006141108397218099,
          0.005916284363127098,
          0.005704936831112065,
          0.005521591907169194,
          0.00536595184738156,
          0.00522239624727639,
          0.005076072441908465,
          0.004927491543507966,
          0.004790110159287175,
          0.004674337518567306,
          0.004575702572236848,
          0.00447959027334982,
          0.004376672625391251,
          0.0042720094059421725,
          0.004178312985934617,
          0.00410120856449723,
          0.004032571970394627,
          0.003958766243471776,
          0.0038743890060394834,
          0.0037865373729607243,
          0.003705211772274549,
          0.003630486616718817,
          0.0035503984587663363,
          0.0034519863728017814,
          0.0033341556150912302,
          0.003209467819823605,
          0.003093663148594689,
          0.002993927487906158,
          0.002907076767484162,
          0.002827659485989926,
          0.0027559001395888873,
          0.002696822827663914,
          0.0026524131668544683,
          0.0026164333898665024,
          0.0025782873154497963,
          0.0025321212691347497,
          0.0024814855511756948,
          0.0024346191331692294,
          0.002395411765612314,
          0.0023595137862278005,
          0.0023193388005089796,
          0.002272208323655445,
          0.0022228032354264012,
          0.002177469676151186,
          0.0021367001256613455,
          0.0020939074212781117,
          0.0020417614182650567,
          0.001979373317541391,
          0.0019129142096826837,
          0.001849290728674416,
          0.0017896244025145237,
          0.0017291201308502042,
          0.001663029030166163,
          0.001592281833149072,
          0.0015232057774001422,
          0.0014621559657062911,
          0.0014108752719385466,
          0.001366971649769647,
          0.0013281331624157538,
          0.0012949932846305304,
          0.0012696255786820484,
          0.001251807149378815,
          0.001237652058195899,
          0.0012224405930920932,
          0.001204713459492835,
          0.0011872380895694287,
          0.001173815096622283,
          0.0011653292954692078,
          0.0011591340175560638,
          0.0011521214553732017,
          0.0011438037230472496,
          0.0011357947440601896,
          0.0011281496033271029,
          0.0011166658611278075,
          0.0010945201298583288,
          0.001057225642762912,
          0.0010064319563556716,
          0.0009491026916232212,
          0.0008929709348137611,
          0.0008424200027279688,
          0.0007979983492373451,
          0.000758980698523435,
          0.0007257559677816233,
          0.0006997621585101789,
          0.0006817218028714538,
          0.000670630664914731,
          0.0006646991431589306,
          0.0006629547482129437,
          0.0006654073456732743,
          0.0006714239097214767,
          0.000678211065978712,
          0.0006814520090415761,
          0.0006779205394666949,
          0.0006676751576561379,
          0.0006536561938340503,
          0.0006390161774477276,
          0.0006247152878922673,
          0.0006095394843455208,
          0.0005921913414850454,
          0.000573097573991077,
          0.0005540881599795942,
          0.0005364588701276485,
          0.0005195968932030968,
          0.0005016530670055618,
          0.00048155221184581194,
          0.00046029925830168007,
          0.0004403690812703483,
          0.0004239425881943866,
          0.000411753778241759,
          0.0004034110304943207,
          0.0003983860682823996,
          0.00039627887767284983,
          0.0003960211780903694,
          0.0003951139358657477,
          0.00039017337691118033,
          0.0003787575790471304,
          0.0003610475759533422,
          0.0003399441096874777,
          0.0003195243314015957,
          0.00030316423765487123,
          0.00029265997280229826,
          0.0002885059687185985,
          0.00029043826740768753,
          0.0002974731676238903,
          0.00030765016457400164,
          0.00031829012911570363,
          0.0003270652106096913,
          0.0003331259075661697,
          0.0003371907568903973,
          0.0003403828042797011,
          0.00034284441114982304,
          0.0003434446963773009,
          0.00034084167761896017,
          0.0003348143561040888,
          0.0003265223367087447,
          0.0003174502485013013,
          0.00030811626166077317,
          0.00029782308243682344,
          0.0002856457304724797,
          0.0002716324193097186,
          0.0002570652990384758,
          0.00024363168392465775,
          0.0002323963449969756,
          0.0002235071720142803,
          0.000216687240418877,
          0.00021177390806375034,
          0.0002086712246275252,
          0.00020687193602058788,
          0.00020525211810798008,
          0.00020254482793350794,
          0.00019811304105238751,
          0.00019224918745719812,
          0.00018566938042576211,
          0.00017868272059115903,
          0.0001708494112909957,
          0.00016146087843405162,
          0.00015038670885977683,
          0.0001385227241391957,
          0.00012749590873701306,
          0.00011895049752111622,
          0.00011399222258678084,
          0.00011304678708929183,
          0.00011593468332706177,
          0.00012188110505645257,
          0.0001294877876897021,
          0.00013695337761624848,
          0.0001426697077947023,
          0.00014588006701237198,
          0.00014686956385677284,
          0.00014647762516335424,
          0.00014531614689872416,
          0.0001433514695574822,
          0.00014016376727108478,
          0.000135559777438444,
          0.00012991250164550927,
          0.0001239185950969495,
          0.00011805645299005205,
          0.00011229490027119064,
          0.00010630669756275572,
          9.992404730954864e-05,
          9.33670763232437e-05,
          8.705316050828538e-05,
          8.122887109679968e-05,
          7.581061606143764e-05,
          7.056740887453742e-05,
          6.542913034351356e-05,
          6.061333572060378e-05,
          5.6483986659664426e-05,
          5.332181864067366e-05,
          5.1228329017733846e-05,
          5.020197792954297e-05,
          5.024556968861191e-05,
          5.1376312680703524e-05,
          5.356563936206722e-05,
          5.672793351228554e-05,
          6.079079691834169e-05,
          6.572618681650118e-05,
          7.14113462101075e-05,
          7.737653546960052e-05,
          8.269372075425796e-05,
          8.622154598133527e-05,
          8.712689392667614e-05,
          8.531701859275708e-05,
          8.143603183154965e-05,
          7.642045305651444e-05,
          7.096587741556441e-05,
          6.530188371794321e-05,
          5.937736096020422e-05,
          5.321332726388139e-05,
          4.709402390490112e-05,
          4.1474389585941743e-05,
          3.674661629654157e-05,
          3.308543919023676e-05,
          3.0457828446481222e-05,
          2.8714824550931748e-05,
          2.764860411952737e-05,
          2.6993505516959392e-05,
          2.6440683515455106e-05,
          2.571914880221822e-05,
          2.4703481006836236e-05,
          2.3455124308764872e-05,
          2.215331666505744e-05,
          2.0970489390424074e-05,
          1.999081094444075e-05,
          1.9217656825908136e-05,
          1.8627065017832243e-05,
          1.819248552216204e-05,
          1.7857173032413303e-05,
          1.7501624434375766e-05,
          1.6965542976159275e-05,
          1.6125790698583085e-05,
          1.4967842218755765e-05,
          1.3586507305101925e-05,
          1.2113699350880587e-05,
          1.063441043455613e-05,
          9.157246209703928e-06,
          7.653474107730595e-06,
          6.121542066708506e-06,
          4.621476270969869e-06,
          3.257395102057332e-06,
          2.1294587379422787e-06,
          1.2934901397252248e-06,
          7.521579547860564e-07,
          4.758357626171473e-07,
          4.3474061249873447e-07,
          6.225872426434168e-07,
          1.059656205280746e-06,
          1.7729965241082435e-06,
          2.7615557389963573e-06,
          3.963794731214172e-06,
          5.249866065893074e-06,
          6.45179293452175e-06,
          7.422081978271196e-06,
          8.087231911395993e-06,
          8.459160252892026e-06,
          8.594253195633198e-06,
          8.52963443440074e-06,
          8.24605237389511e-06,
          7.686891513782923e-06,
          6.8181336240323024e-06,
          5.682216108171743e-06,
          4.405444997185298e-06,
          3.155266234885471e-06,
          2.078030305968117e-06,
          1.2547951735384696e-06,
          6.93460005225724e-07,
          3.503700067041936e-07,
          1.6173611365628086e-07,
          6.818568789113523e-08,
          2.6247348219451475e-08,
          9.224103820956987e-09,
          2.959199453294992e-09,
          8.665921005128054e-10,
          2.3165052432052868e-10,
          5.6522673855031087e-11,
          1.2588740656252363e-11,
          2.5600792083158875e-12,
          4.815628729478191e-13,
          1.2497616433375417e-13,
          2.8327483272919995e-13,
          1.5048478486251573e-12,
          7.614326069028668e-12,
          3.520559762351684e-11,
          1.4858136893941132e-10,
          5.72370763046082e-10,
          2.012568525947095e-09,
          6.4592791276232645e-09,
          1.8922458814896904e-08,
          5.0597752417555566e-08,
          1.2349376270858786e-07,
          2.7511797202694226e-07,
          5.594393883406459e-07,
          1.0383583506319296e-06,
          1.7591449262487343e-06,
          2.720295736387559e-06,
          3.839642253532076e-06,
          4.946813579317955e-06,
          5.817286683893174e-06,
          6.244181672832898e-06,
          6.1177360330332355e-06,
          5.470991987805122e-06,
          4.46582359498095e-06,
          3.3273400675875546e-06,
          2.2628353582339953e-06,
          1.4046523928009685e-06,
          7.958750883150576e-07,
          4.1160543376413994e-07,
          1.9430207045602433e-07,
          8.372090186335342e-08,
          3.292687449306056e-08,
          1.1820266251997825e-08,
          3.873148518939387e-09,
          1.1584070256267097e-09,
          3.1624113176434513e-10,
          7.880171493565733e-11,
          1.7923099799615963e-11,
          3.7209232990567865e-12,
          7.050963400001433e-13,
          1.2195702365570788e-13,
          1.9255587447239096e-14,
          2.788381340838462e-15,
          4.853004151029053e-16,
          1.0039821547175517e-15,
          6.9972217956972105e-15,
          4.648083730469165e-14,
          2.820150378437989e-13,
          1.5618387662603142e-12,
          7.895183289580854e-12,
          3.6429361144100695e-11,
          1.5342862899047247e-10,
          5.89834902215774e-10,
          2.0698077130643194e-09,
          6.630031221084004e-09,
          1.9386751071880976e-08,
          5.175216427429959e-08,
          1.2613536498782296e-07,
          2.8074743617731305e-07,
          5.708336279762374e-07,
          1.0608651558983422e-06,
          1.803732103456926e-06,
          2.810057128075324e-06,
          4.021474492528411e-06,
          5.308055243925427e-06,
          6.502327643524517e-06,
          7.459545154007224e-06,
          8.1103994725795e-06,
          8.47011672589208e-06,
          8.595582779071577e-06,
          8.521765184453003e-06,
          8.226836551698053e-06
         ],
         "yaxis": "y"
        },
        {
         "legendgroup": "Gold Medalist",
         "marker": {
          "color": "rgb(255, 127, 14)"
         },
         "mode": "lines",
         "name": "Gold Medalist",
         "showlegend": true,
         "type": "scatter",
         "x": [
          13,
          13.102,
          13.204,
          13.306,
          13.408,
          13.51,
          13.612,
          13.714,
          13.816,
          13.918,
          14.02,
          14.122,
          14.224,
          14.326,
          14.428,
          14.53,
          14.632,
          14.734,
          14.836,
          14.938,
          15.04,
          15.142,
          15.244,
          15.346,
          15.448,
          15.55,
          15.652000000000001,
          15.754,
          15.856,
          15.958,
          16.06,
          16.162,
          16.264,
          16.366,
          16.468,
          16.57,
          16.672,
          16.774,
          16.876,
          16.978,
          17.08,
          17.182000000000002,
          17.284,
          17.386,
          17.488,
          17.59,
          17.692,
          17.794,
          17.896,
          17.998,
          18.1,
          18.201999999999998,
          18.304000000000002,
          18.406,
          18.508,
          18.61,
          18.712,
          18.814,
          18.916,
          19.018,
          19.12,
          19.222,
          19.323999999999998,
          19.426000000000002,
          19.528,
          19.63,
          19.732,
          19.834,
          19.936,
          20.038,
          20.14,
          20.242,
          20.344,
          20.445999999999998,
          20.548000000000002,
          20.65,
          20.752,
          20.854,
          20.956,
          21.058,
          21.16,
          21.262,
          21.364,
          21.466,
          21.567999999999998,
          21.67,
          21.772,
          21.874000000000002,
          21.976,
          22.078,
          22.18,
          22.282,
          22.384,
          22.486,
          22.588,
          22.689999999999998,
          22.792,
          22.894,
          22.996000000000002,
          23.098,
          23.2,
          23.302,
          23.404,
          23.506,
          23.608,
          23.71,
          23.811999999999998,
          23.914,
          24.016,
          24.118000000000002,
          24.22,
          24.322,
          24.424,
          24.526,
          24.628,
          24.73,
          24.832,
          24.933999999999997,
          25.036,
          25.137999999999998,
          25.240000000000002,
          25.342,
          25.444000000000003,
          25.546,
          25.648,
          25.75,
          25.852,
          25.954,
          26.055999999999997,
          26.158,
          26.259999999999998,
          26.362000000000002,
          26.464,
          26.566000000000003,
          26.668,
          26.77,
          26.872,
          26.974,
          27.076,
          27.178,
          27.28,
          27.381999999999998,
          27.484,
          27.586,
          27.688000000000002,
          27.79,
          27.892,
          27.994,
          28.096,
          28.198,
          28.3,
          28.402,
          28.503999999999998,
          28.606,
          28.708,
          28.810000000000002,
          28.912,
          29.014,
          29.116,
          29.218,
          29.32,
          29.422,
          29.524,
          29.626,
          29.728,
          29.83,
          29.932,
          30.034,
          30.136,
          30.238,
          30.34,
          30.442,
          30.544,
          30.646,
          30.748,
          30.85,
          30.952,
          31.054,
          31.156,
          31.258,
          31.36,
          31.462,
          31.564,
          31.666,
          31.768,
          31.87,
          31.972,
          32.074,
          32.176,
          32.278,
          32.379999999999995,
          32.482,
          32.584,
          32.686,
          32.788,
          32.89,
          32.992000000000004,
          33.094,
          33.196,
          33.298,
          33.4,
          33.501999999999995,
          33.604,
          33.706,
          33.808,
          33.91,
          34.012,
          34.114000000000004,
          34.216,
          34.318,
          34.42,
          34.522,
          34.623999999999995,
          34.726,
          34.828,
          34.93,
          35.032,
          35.134,
          35.236000000000004,
          35.338,
          35.44,
          35.542,
          35.644,
          35.745999999999995,
          35.848,
          35.95,
          36.052,
          36.153999999999996,
          36.256,
          36.358000000000004,
          36.46,
          36.562,
          36.664,
          36.766,
          36.867999999999995,
          36.97,
          37.072,
          37.174,
          37.275999999999996,
          37.378,
          37.480000000000004,
          37.582,
          37.684,
          37.786,
          37.888000000000005,
          37.989999999999995,
          38.092,
          38.194,
          38.296,
          38.397999999999996,
          38.5,
          38.602000000000004,
          38.704,
          38.806,
          38.908,
          39.010000000000005,
          39.111999999999995,
          39.214,
          39.316,
          39.418,
          39.519999999999996,
          39.622,
          39.724000000000004,
          39.826,
          39.928,
          40.03,
          40.132000000000005,
          40.234,
          40.336,
          40.438,
          40.54,
          40.641999999999996,
          40.744,
          40.846000000000004,
          40.948,
          41.05,
          41.152,
          41.254000000000005,
          41.356,
          41.458,
          41.56,
          41.662,
          41.763999999999996,
          41.866,
          41.968,
          42.07,
          42.172,
          42.274,
          42.376000000000005,
          42.478,
          42.58,
          42.682,
          42.784,
          42.885999999999996,
          42.988,
          43.09,
          43.192,
          43.294,
          43.396,
          43.498000000000005,
          43.6,
          43.702,
          43.804,
          43.906,
          44.007999999999996,
          44.11,
          44.212,
          44.314,
          44.416,
          44.518,
          44.620000000000005,
          44.722,
          44.824,
          44.926,
          45.028,
          45.13,
          45.232,
          45.334,
          45.436,
          45.538,
          45.64,
          45.742,
          45.844,
          45.946,
          46.048,
          46.15,
          46.252,
          46.354,
          46.456,
          46.558,
          46.66,
          46.762,
          46.864,
          46.966,
          47.068,
          47.17,
          47.272,
          47.374,
          47.476,
          47.578,
          47.68,
          47.782,
          47.884,
          47.986,
          48.088,
          48.19,
          48.292,
          48.394,
          48.496,
          48.598,
          48.7,
          48.802,
          48.904,
          49.006,
          49.108,
          49.21,
          49.312,
          49.414,
          49.516,
          49.618,
          49.72,
          49.822,
          49.924,
          50.026,
          50.128,
          50.23,
          50.332,
          50.434,
          50.536,
          50.638,
          50.74,
          50.842,
          50.944,
          51.046,
          51.148,
          51.25,
          51.352,
          51.454,
          51.556,
          51.658,
          51.76,
          51.862,
          51.964,
          52.066,
          52.168,
          52.27,
          52.372,
          52.474,
          52.576,
          52.678,
          52.78,
          52.882,
          52.984,
          53.086,
          53.188,
          53.29,
          53.392,
          53.494,
          53.596,
          53.698,
          53.8,
          53.902,
          54.004,
          54.106,
          54.208,
          54.31,
          54.412,
          54.514,
          54.616,
          54.718,
          54.82,
          54.922,
          55.024,
          55.126,
          55.228,
          55.33,
          55.432,
          55.534,
          55.636,
          55.738,
          55.84,
          55.942,
          56.044,
          56.146,
          56.248,
          56.35,
          56.452,
          56.554,
          56.656,
          56.758,
          56.86,
          56.962,
          57.064,
          57.166,
          57.268,
          57.37,
          57.472,
          57.574,
          57.676,
          57.778,
          57.88,
          57.982,
          58.084,
          58.186,
          58.288,
          58.39,
          58.492,
          58.594,
          58.696,
          58.798,
          58.9,
          59.002,
          59.104,
          59.206,
          59.308,
          59.41,
          59.512,
          59.614,
          59.716,
          59.818,
          59.92,
          60.022,
          60.124,
          60.226,
          60.328,
          60.43,
          60.532,
          60.634,
          60.736,
          60.838,
          60.94,
          61.042,
          61.144,
          61.246,
          61.348,
          61.45,
          61.552,
          61.654,
          61.756,
          61.858,
          61.96,
          62.062,
          62.164,
          62.266,
          62.368,
          62.47,
          62.572,
          62.674,
          62.776,
          62.878,
          62.98,
          63.082,
          63.184,
          63.286,
          63.388,
          63.49,
          63.592,
          63.694,
          63.796,
          63.898
         ],
         "xaxis": "x",
         "y": [
          0.0009551539107415151,
          0.0010448657896759588,
          0.001141578686355887,
          0.0012463144999423352,
          0.0013601613433456628,
          0.0014842254199585437,
          0.0016195787178857415,
          0.0017672069696512982,
          0.0019279626496806407,
          0.002102527647454876,
          0.0022913896404255295,
          0.0024948351287829096,
          0.0027129606675396945,
          0.0029457021700998905,
          0.003192880425759184,
          0.0034542593526088916,
          0.003729612174803415,
          0.004018789822245127,
          0.0043217855112100585,
          0.004638789728697811,
          0.004970230699114366,
          0.005316796783034574,
          0.005679439011800162,
          0.006059353924347036,
          0.006457948846212505,
          0.006876793534519106,
          0.007317563523269346,
          0.007781981391853271,
          0.008271762447008495,
          0.008788570914341333,
          0.009333991703963287,
          0.009909521233264747,
          0.010516578803329462,
          0.011156537824346884,
          0.01183077398832054,
          0.012540725519914728,
          0.013287959107095482,
          0.014074234190952939,
          0.014901558087334043,
          0.015772224957078147,
          0.01668883289353218,
          0.017654275238264027,
          0.018671704489255415,
          0.019744469608642803,
          0.020876029927854766,
          0.022069850949927267,
          0.023329288952313898,
          0.024657472236365986,
          0.026057187052902796,
          0.027530775632612598,
          0.02908005242122514,
          0.0307062426971012,
          0.03240994543622155,
          0.03419111983927581,
          0.03604909262168579,
          0.03798258125103323,
          0.03998972701099377,
          0.04206813121117837,
          0.04421488808693811,
          0.04642660888120452,
          0.04869943312691866,
          0.05102902505275167,
          0.05341055509565573,
          0.0558386685140027,
          0.05830744488475355,
          0.06081035371330493,
          0.06334021240403535,
          0.06588915337861923,
          0.06844860714875318,
          0.07100930761883588,
          0.07356132479760384,
          0.07609412845680741,
          0.07859668417033777,
          0.08105758075727845,
          0.08346518567410743,
          0.08580782264284745,
          0.08807396405936639,
          0.09025242973348915,
          0.09233258339245581,
          0.094304519095379,
          0.09615923106973773,
          0.09788876218279162,
          0.0994863279489763,
          0.10094641433696007,
          0.10226484848670514,
          0.10343884175341708,
          0.10446700440521862,
          0.10534933107978216,
          0.10608715605955471,
          0.10668307781078136,
          0.10714085318201698,
          0.10746526313785082,
          0.10766195372510182,
          0.10773725783345019,
          0.10769800489404668,
          0.10755132668079288,
          0.10730446767194575,
          0.10696460796494918,
          0.10653870561184603,
          0.10603336363980372,
          0.10545472516241698,
          0.1048083980782708,
          0.10409940905888096,
          0.10333218495962032,
          0.10251055851419373,
          0.10163779423970551,
          0.10071662991789661,
          0.09974932885498375,
          0.09873773836584518,
          0.09768335055583499,
          0.09658736241461975,
          0.09545073337323395,
          0.09427423965197229,
          0.09305852577711683,
          0.09180415442600222,
          0.09051165617978697,
          0.08918158079581753,
          0.08781455129113647,
          0.08641132153432661,
          0.08497283726600449,
          0.08350029959124726,
          0.08199522907011168,
          0.08045952761585222,
          0.07889553453663929,
          0.07730607228915105,
          0.07569447695536881,
          0.07406460824852272,
          0.07242083415930722,
          0.0707679863048022,
          0.06911128370550453,
          0.06745622504700592,
          0.06580845230829552,
          0.0641735916641418,
          0.06255708041857863,
          0.06096399099961278,
          0.05939886438858171,
          0.05786556552214062,
          0.05636717209072092,
          0.05490590582815735,
          0.05348311205734702,
          0.05209928926092783,
          0.05075416619024644,
          0.049446819940398,
          0.04817582491089332,
          0.046939419985426646,
          0.04573567985395687,
          0.044562676306244706,
          0.04341861656325537,
          0.04230194816708494,
          0.0412114233845344,
          0.04014612015544267,
          0.039105420923607866,
          0.038088954788526835,
          0.037096511893148845,
          0.03612794146844731,
          0.03518304625102548,
          0.03426148596936292,
          0.03336270129355634,
          0.03248586722887955,
          0.03162988167710765,
          0.030793391135420015,
          0.029974851628386156,
          0.02917261934957601,
          0.02838506246559353,
          0.027610683384497202,
          0.026848239705122574,
          0.02609685213572837,
          0.025356088880319476,
          0.024626018208204387,
          0.02390722391336549,
          0.023200781820835625,
          0.022508199045491593,
          0.021831320985905314,
          0.021172213711919297,
          0.020533031227940347,
          0.01991587792207286,
          0.019322676324500444,
          0.018755049196436134,
          0.018214223150580525,
          0.017700958726860852,
          0.017215509398455724,
          0.016757609632886805,
          0.01632649010270406,
          0.015920916581426598,
          0.015539248044293606,
          0.01517950901458117,
          0.01483947118500752,
          0.014516739686274736,
          0.014208839936101484,
          0.013913301649872707,
          0.013627737218431232,
          0.013349912187108688,
          0.013077805974996672,
          0.012809661270178858,
          0.012544020775255914,
          0.012279750227377166,
          0.012016046948068794,
          0.011752433642634777,
          0.011488737786703396,
          0.01122505768856823,
          0.01096171714131193,
          0.010699211389358773,
          0.010438147826646453,
          0.010179185318363456,
          0.009922976216785404,
          0.009670114980402444,
          0.009421096802116965,
          0.009176288846212003,
          0.008935915659788974,
          0.008700059161742761,
          0.008468672432150057,
          0.008241605437055984,
          0.008018639925286633,
          0.007799530100694016,
          0.007584045352710958,
          0.007372011336364239,
          0.007163346013771141,
          0.0069580878565201135,
          0.006756414191207983,
          0.006558648561206164,
          0.006365256882548042,
          0.006176833002299663,
          0.005994074952096946,
          0.0058177536815900086,
          0.0056486763407035635,
          0.005487646270728857,
          0.005335421802202374,
          0.005192675797641847,
          0.0050599576782259905,
          0.0049376594852112154,
          0.004825987380183853,
          0.004724939889166075,
          0.004634294124601636,
          0.004553601135776436,
          0.004482191389713001,
          0.004419191118270497,
          0.00436354984277723,
          0.004314078788455239,
          0.004269499142252921,
          0.004228498239393891,
          0.004189790868186598,
          0.004152182065743188,
          0.00411462715656103,
          0.0040762844734117685,
          0.004036556284852461,
          0.003995113986469948,
          0.003951904593851177,
          0.003907136948554424,
          0.003861247704593459,
          0.0038148489487366383,
          0.0037686610423951264,
          0.0037234357687279127,
          0.0036798759548926046,
          0.0036385582829523526,
          0.0035998659255582874,
          0.003563936931486263,
          0.0035306329971510723,
          0.0034995315122793944,
          0.003469941730525064,
          0.00344094379068458,
          0.0034114473131492337,
          0.003380264617953533,
          0.0033461924188136973,
          0.0033080952523667465,
          0.0032649839488238883,
          0.003216083115311737,
          0.0031608827964347426,
          0.0030991710541967777,
          0.00303104599179638,
          0.0029569075401579444,
          0.0028774309499727292,
          0.002793525234964744,
          0.0027062806917235926,
          0.002616910032567759,
          0.002526687623117996,
          0.002436890878632116,
          0.0023487471426092725,
          0.0022633884671957737,
          0.0021818157585524957,
          0.0021048728482874657,
          0.0020332302851488702,
          0.0019673780583304126,
          0.0019076260815689063,
          0.0018541110744208515,
          0.0018068084421946557,
          0.0017655478364529162,
          0.0017300312290734238,
          0.0016998525148474051,
          0.0016745178403840214,
          0.0016534660219679363,
          0.0016360885539367957,
          0.0016217488221526286,
          0.0016098002288577097,
          0.0015996030113221962,
          0.001590539601259481,
          0.0015820284260199052,
          0.0015735360941215005,
          0.0015645879331532516,
          0.001554776854368056,
          0.0015437705048823881,
          0.0015313166390443487,
          0.0015172466036083724,
          0.0015014767990038406,
          0.001484007964952568,
          0.0014649221554123698,
          0.0014443773234090085,
          0.0014225995321798196,
          0.0013998729387925965,
          0.0013765278462806111,
          0.0013529272712719093,
          0.0013294526048360023,
          0.001306489035064305,
          0.0012844114359024474,
          0.001263571400564688,
          0.001244286010688308,
          0.0012268287936966393,
          0.0012114231466711953,
          0.0011982383153598887,
          0.0011873878326295413,
          0.001178930160541138,
          0.0011728711587722144,
          0.0011691679280289712,
          0.0011677335528357225,
          0.00116844229033629,
          0.0011711348125673085,
          0.0011756231981536983,
          0.0011816954733593686,
          0.0011891196100356578,
          0.001197646988871008,
          0.001207015422261074,
          0.0012169518962562114,
          0.0012271752317309494,
          0.001237398879239807,
          0.0012473340494266803,
          0.0012566933419857352,
          0.00126519497299885,
          0.0012725676166928457,
          0.0012785557791938397,
          0.0012829255171996803,
          0.0012854702146065967,
          0.0012860160476948657,
          0.0012844267174692487,
          0.0012806070174578661,
          0.0012745048441791386,
          0.0012661113473990515,
          0.0012554590532370229,
          0.0012426179633186977,
          0.001227689820004568,
          0.0012108009102211564,
          0.0011920939369035218,
          0.0011717195981813134,
          0.0011498285658262564,
          0.0011265645385323635,
          0.0011020589623071738,
          0.0010764278669325121,
          0.0010497710776560198,
          0.0010221738430938748,
          0.000993710694444325,
          0.0009644511388172491,
          0.0009344666108023011,
          0.0009038379784181708,
          0.0008726628349967953,
          0.000841061814429211,
          0.0008091832440942342,
          0.0007772055913436861,
          0.00074533735256906,
          0.0007138142598752914,
          0.0006828939166122149,
          0.0006528481954595964,
          0.0006239539189333808,
          0.00059648247395938,
          0.0005706890781632266,
          0.0005468024125479578,
          0.0005250152684880815,
          0.0005054767390682555,
          0.0004882863336078202,
          0.000473490230016139,
          0.0004610797220102147,
          0.00045099178330601535,
          0.00044311156926069934,
          0.0004372766121894848,
          0.0004332824374921091,
          0.0004308893265119886,
          0.00042982996835733253,
          0.0004298177656579652,
          0.00043055557885768,
          0.00043174470384259664,
          0.00043309387633579425,
          0.00043432808553391154,
          0.0004351969641287279,
          0.0004354825090151865,
          0.0004350058833297642,
          0.00043363306080273215,
          0.00043127909949478585,
          0.00042791087211475784,
          0.00042354812960042267,
          0.00041826282709208853,
          0.0004121766904606229,
          0.0004054570426064775,
          0.00039831094049640035,
          0.00039097769891147967,
          0.0003837199012707078,
          0.0003768130300461707,
          0.0003705338977419314,
          0.0003651481304204117,
          0.0003608970509750617,
          0.000357984424161313,
          0.00035656364838977943,
          0.00035672609299000374,
          0.00035849136265152953,
          0.00036180030084933325,
          0.00036651150208868137,
          0.00037240197640224173,
          0.0003791723962979972,
          0.00038645706572745477,
          0.00039383840408361713,
          0.0004008653675416467,
          0.00040707487387672955,
          0.0004120149959143772,
          0.00041526848016638435,
          0.00041647505926239845,
          0.0004153510744939809,
          0.00041170510720680604,
          0.00040544861765352667,
          0.00039660097570371866,
          0.00038528869781899244,
          0.000371739132832296,
          0.0003562692211132074,
          0.00033927025129533217,
          0.00032118973197929797,
          0.00030251157379488307,
          0.00028373574612678375,
          0.00026535845182216393,
          0.00024785368030277454,
          0.00023165678642198014,
          0.00021715052931697203,
          0.00020465381656551332,
          0.00019441324931849426,
          0.0001865974588149097,
          0.00018129415962965845,
          0.00017850980919583174,
          0.00017817174225690354,
          0.0001801326289264432,
          0.0001841770754447208,
          0.00019003014260305856,
          0.00019736749952650845,
          0.00020582686696177393,
          0.00021502034489162254,
          0.00022454717560435226,
          0.00023400647488776364,
          0.00024300947632783831,
          0.0002511908769609121,
          0.0002582189415225951,
          0.00026380410772819596,
          0.0002677059246234495,
          0.0002697382385164788,
          0.00026977260742851595,
          0.00026773997086403583,
          0.0002636306276349358,
          0.0002574925858603667,
          0.000249428354769379,
          0.0002395902573154249,
          0.00022817436428863852,
          0.00021541318952686923,
          0.0002015673420662722,
          0.0001869163995371796,
          0.00017174933829681015,
          0.00015635491751526815,
          0.00014101245413925193,
          0.0001259834328350676,
          0.00011150436323701288,
          9.778122507467665e-05,
          8.498573474299496e-05,
          7.325353444118345e-05,
          6.268426063508639e-05,
          5.334330749315735e-05,
          4.526497791346158e-05,
          3.8456622304952136e-05,
          3.2903312192998293e-05,
          2.8572586244602454e-05,
          2.5418840034352435e-05,
          2.33870031166461e-05,
          2.2415249607340684e-05,
          2.243661098135123e-05,
          2.3379490334518842e-05,
          2.5167203852764257e-05,
          2.7716786256822443e-05,
          3.093738257530879e-05,
          3.4728600893256746e-05,
          3.897921457305605e-05,
          4.3566575862358825e-05,
          4.835703730371586e-05,
          5.320757809215517e-05,
          5.7968708115450673e-05,
          6.248858444261875e-05,
          6.661813713024442e-05,
          7.021687779097923e-05,
          7.315896903931566e-05,
          7.533907692743222e-05,
          7.667751916565345e-05
         ],
         "yaxis": "y"
        },
        {
         "legendgroup": "Silver Medalist",
         "marker": {
          "color": "rgb(44, 160, 44)"
         },
         "mode": "lines",
         "name": "Silver Medalist",
         "showlegend": true,
         "type": "scatter",
         "x": [
          11,
          11.124,
          11.248,
          11.372,
          11.496,
          11.62,
          11.744,
          11.868,
          11.992,
          12.116,
          12.24,
          12.364,
          12.488,
          12.612,
          12.736,
          12.86,
          12.984,
          13.108,
          13.232,
          13.356,
          13.48,
          13.604,
          13.728,
          13.852,
          13.975999999999999,
          14.1,
          14.224,
          14.347999999999999,
          14.472,
          14.596,
          14.72,
          14.844,
          14.968,
          15.091999999999999,
          15.216000000000001,
          15.34,
          15.464,
          15.588000000000001,
          15.712,
          15.836,
          15.96,
          16.084,
          16.208,
          16.332,
          16.456,
          16.58,
          16.704,
          16.828,
          16.951999999999998,
          17.076,
          17.2,
          17.323999999999998,
          17.448,
          17.572,
          17.695999999999998,
          17.82,
          17.944,
          18.067999999999998,
          18.192,
          18.316,
          18.44,
          18.564,
          18.688,
          18.812,
          18.936,
          19.060000000000002,
          19.183999999999997,
          19.308,
          19.432000000000002,
          19.555999999999997,
          19.68,
          19.804000000000002,
          19.928,
          20.052,
          20.176000000000002,
          20.3,
          20.424,
          20.548000000000002,
          20.672,
          20.796,
          20.92,
          21.044,
          21.168,
          21.292,
          21.416,
          21.54,
          21.664,
          21.788,
          21.912,
          22.036,
          22.16,
          22.284,
          22.408,
          22.532,
          22.656,
          22.78,
          22.904,
          23.028,
          23.152,
          23.276,
          23.4,
          23.524,
          23.648,
          23.772,
          23.896,
          24.02,
          24.144,
          24.268,
          24.392,
          24.516,
          24.64,
          24.764,
          24.887999999999998,
          25.012,
          25.136,
          25.259999999999998,
          25.384,
          25.508,
          25.631999999999998,
          25.756,
          25.880000000000003,
          26.003999999999998,
          26.128,
          26.252000000000002,
          26.375999999999998,
          26.5,
          26.624000000000002,
          26.747999999999998,
          26.872,
          26.996000000000002,
          27.12,
          27.244,
          27.368,
          27.492,
          27.616,
          27.74,
          27.864,
          27.988,
          28.112,
          28.236,
          28.36,
          28.484,
          28.608,
          28.732,
          28.856,
          28.98,
          29.104,
          29.228,
          29.352,
          29.476,
          29.6,
          29.724,
          29.848,
          29.972,
          30.096,
          30.22,
          30.344,
          30.468,
          30.592,
          30.716,
          30.84,
          30.964,
          31.088,
          31.212,
          31.336,
          31.46,
          31.584,
          31.708,
          31.832,
          31.956,
          32.08,
          32.204,
          32.328,
          32.452,
          32.576,
          32.7,
          32.824,
          32.948,
          33.072,
          33.196,
          33.32,
          33.444,
          33.568,
          33.692,
          33.816,
          33.94,
          34.064,
          34.188,
          34.312,
          34.436,
          34.56,
          34.684,
          34.808,
          34.932,
          35.056,
          35.18,
          35.304,
          35.428,
          35.552,
          35.676,
          35.8,
          35.924,
          36.048,
          36.172,
          36.296,
          36.42,
          36.544,
          36.668,
          36.792,
          36.916,
          37.04,
          37.164,
          37.288,
          37.412,
          37.536,
          37.66,
          37.784,
          37.908,
          38.032,
          38.156,
          38.28,
          38.403999999999996,
          38.528,
          38.652,
          38.775999999999996,
          38.9,
          39.024,
          39.147999999999996,
          39.272,
          39.396,
          39.519999999999996,
          39.644,
          39.768,
          39.891999999999996,
          40.016,
          40.14,
          40.263999999999996,
          40.388000000000005,
          40.512,
          40.635999999999996,
          40.760000000000005,
          40.884,
          41.007999999999996,
          41.132000000000005,
          41.256,
          41.379999999999995,
          41.504000000000005,
          41.628,
          41.751999999999995,
          41.876000000000005,
          42,
          42.123999999999995,
          42.248000000000005,
          42.372,
          42.495999999999995,
          42.620000000000005,
          42.744,
          42.867999999999995,
          42.992000000000004,
          43.116,
          43.24,
          43.364,
          43.488,
          43.612,
          43.736,
          43.86,
          43.984,
          44.108,
          44.232,
          44.356,
          44.48,
          44.604,
          44.728,
          44.852,
          44.976,
          45.1,
          45.224,
          45.348,
          45.472,
          45.596,
          45.72,
          45.844,
          45.968,
          46.092,
          46.216,
          46.34,
          46.464,
          46.588,
          46.712,
          46.836,
          46.96,
          47.084,
          47.208,
          47.332,
          47.456,
          47.58,
          47.704,
          47.828,
          47.952,
          48.076,
          48.2,
          48.324,
          48.448,
          48.572,
          48.696,
          48.82,
          48.944,
          49.068,
          49.192,
          49.316,
          49.44,
          49.564,
          49.688,
          49.812,
          49.936,
          50.06,
          50.184,
          50.308,
          50.432,
          50.556,
          50.68,
          50.804,
          50.928,
          51.052,
          51.176,
          51.3,
          51.424,
          51.548,
          51.672,
          51.796,
          51.92,
          52.044,
          52.168,
          52.292,
          52.416,
          52.54,
          52.664,
          52.788,
          52.912,
          53.036,
          53.16,
          53.284,
          53.408,
          53.532,
          53.656,
          53.78,
          53.904,
          54.028,
          54.152,
          54.276,
          54.4,
          54.524,
          54.648,
          54.772,
          54.896,
          55.02,
          55.144,
          55.268,
          55.392,
          55.516,
          55.64,
          55.764,
          55.888,
          56.012,
          56.136,
          56.26,
          56.384,
          56.508,
          56.632,
          56.756,
          56.88,
          57.004,
          57.128,
          57.252,
          57.376,
          57.5,
          57.624,
          57.748,
          57.872,
          57.996,
          58.12,
          58.244,
          58.368,
          58.492,
          58.616,
          58.74,
          58.864,
          58.988,
          59.112,
          59.236,
          59.36,
          59.484,
          59.608,
          59.732,
          59.856,
          59.98,
          60.104,
          60.228,
          60.352,
          60.476,
          60.6,
          60.724,
          60.848,
          60.972,
          61.096,
          61.22,
          61.344,
          61.468,
          61.592,
          61.716,
          61.84,
          61.964,
          62.088,
          62.212,
          62.336,
          62.46,
          62.584,
          62.708,
          62.832,
          62.956,
          63.08,
          63.204,
          63.328,
          63.452,
          63.576,
          63.7,
          63.824,
          63.948,
          64.072,
          64.196,
          64.32,
          64.444,
          64.568,
          64.69200000000001,
          64.816,
          64.94,
          65.064,
          65.188,
          65.312,
          65.436,
          65.56,
          65.684,
          65.80799999999999,
          65.932,
          66.056,
          66.18,
          66.304,
          66.428,
          66.55199999999999,
          66.676,
          66.8,
          66.924,
          67.048,
          67.172,
          67.29599999999999,
          67.42,
          67.544,
          67.668,
          67.792,
          67.916,
          68.03999999999999,
          68.164,
          68.288,
          68.412,
          68.536,
          68.66,
          68.78399999999999,
          68.908,
          69.032,
          69.156,
          69.28,
          69.404,
          69.52799999999999,
          69.652,
          69.77600000000001,
          69.9,
          70.024,
          70.148,
          70.27199999999999,
          70.396,
          70.52000000000001,
          70.644,
          70.768,
          70.892,
          71.01599999999999,
          71.14,
          71.26400000000001,
          71.388,
          71.512,
          71.636,
          71.75999999999999,
          71.884,
          72.00800000000001,
          72.132,
          72.256,
          72.38,
          72.50399999999999,
          72.628,
          72.75200000000001,
          72.876
         ],
         "xaxis": "x",
         "y": [
          0.0002569045968595906,
          0.00028981917506079927,
          0.00032513779967668764,
          0.00036305348531334177,
          0.0004038635706148171,
          0.00044799067074805345,
          0.0004959976658369033,
          0.0005485935615292173,
          0.0006066274456516772,
          0.0006710687091462574,
          0.0007429731911570781,
          0.0008234368301102807,
          0.0009135405258975617,
          0.0010142919202001427,
          0.0011265713075271817,
          0.0012510895319470738,
          0.0013883652172415886,
          0.0015387268858159525,
          0.0017023425146704611,
          0.0018792751566542182,
          0.0020695589395378663,
          0.0022732857187668523,
          0.002490689636990292,
          0.0027222155086032043,
          0.002968557788193166,
          0.00323066009112848,
          0.0035096706405481244,
          0.003806856060667164,
          0.0041234837171434365,
          0.004460690163466613,
          0.004819358920225211,
          0.0052000335940080075,
          0.005602891305433311,
          0.0060277960730366715,
          0.006474442339813694,
          0.006942586081771754,
          0.007432346435794286,
          0.007944546601082968,
          0.008481051252403823,
          0.00904505111218312,
          0.009641245422032329,
          0.010275880715940518,
          0.010956619263524127,
          0.011692231316009478,
          0.012492129217255267,
          0.013365785108346144,
          0.014322093635973934,
          0.01536875336188273,
          0.0165117429682211,
          0.01775495978005148,
          0.019100069205582028,
          0.02054658677075707,
          0.02209218326882008,
          0.023733172784124634,
          0.025465117703958626,
          0.027283468304430236,
          0.02918414966536417,
          0.031164016241663938,
          0.03322111313080824,
          0.03535470995693246,
          0.037565104220383054,
          0.03985322138850577,
          0.04222006468354583,
          0.044666085129348755,
          0.04719054995220021,
          0.049790984411807446,
          0.052462749576057115,
          0.055198798742569465,
          0.05798963136846571,
          0.06082343914635235,
          0.06368641776185352,
          0.06656320264961041,
          0.06943737926725775,
          0.07229201808506992,
          0.07511019029429192,
          0.07787542984460073,
          0.08057211820353019,
          0.08318577798577319,
          0.08570326909782133,
          0.08811288621441261,
          0.09040436012230639,
          0.09256876902543149,
          0.09459837039179245,
          0.09648636974646878,
          0.09822664953536997,
          0.09981348766999033,
          0.10124130017434647,
          0.1025044441641953,
          0.10359711528407119,
          0.10451336733070135,
          0.10524727123038052,
          0.10579321639077593,
          0.10614634074116919,
          0.1063030580567145,
          0.10626163454770703,
          0.10602275375912927,
          0.10559000223460839,
          0.10497021029421062,
          0.10417359358531024,
          0.10321366098562097,
          0.10210688032907089,
          0.1008721212424111,
          0.09952991954832069,
          0.09810162617247838,
          0.09660851272556409,
          0.09507090532716908,
          0.09350740913479172,
          0.09193427115163212,
          0.09036491148740894,
          0.08880963634819711,
          0.08727553178878149,
          0.08576652670893249,
          0.08428360668936646,
          0.08282515625013588,
          0.0813874047943921,
          0.07996494970512423,
          0.07855132796092458,
          0.07713960497123801,
          0.07572294651745654,
          0.074295137749721,
          0.07285101352228945,
          0.07138676831407477,
          0.06990012243671527,
          0.06839033414012298,
          0.06685806344605878,
          0.06530511093281875,
          0.06373407050644778,
          0.06214794664547745,
          0.06054979149394071,
          0.05894241434454307,
          0.05732820560305843,
          0.05570910056670813,
          0.05408668753956795,
          0.05246244278121919,
          0.05083805456828856,
          0.049215783104916234,
          0.047598794522205314,
          0.04599140733559409,
          0.044399198986294866,
          0.04282893769803216,
          0.04128832872121074,
          0.039785590843172444,
          0.03832890482521559,
          0.03692579611658626,
          0.03558252637840141,
          0.03430356991544552,
          0.03309124166941823,
          0.031945524383751055,
          0.030864116858185235,
          0.02984269682090775,
          0.028875365112955742,
          0.027955216454792993,
          0.027074968895839494,
          0.02622758057808307,
          0.025406788565328336,
          0.02460751864499619,
          0.02382613453735454,
          0.023060516584247737,
          0.022309980456044324,
          0.021575062969673996,
          0.02085721296660911,
          0.020158429732508823,
          0.019480890143755158,
          0.018826599954661724,
          0.018197096207298077,
          0.017593218495501755,
          0.017014958247996256,
          0.01646138824976361,
          0.015930669609308445,
          0.015420130084403011,
          0.0149264055456203,
          0.014445634730109977,
          0.013973695780091893,
          0.013506471109665743,
          0.013040124982254325,
          0.012571376207718121,
          0.012097747179935824,
          0.011617770689539314,
          0.011131138002658632,
          0.010638775694786676,
          0.01014284434832314,
          0.009646658754951274,
          0.009154535761843276,
          0.008671581401527115,
          0.008203432712492954,
          0.0077559713625609044,
          0.0073350259754124516,
          0.006946078480993997,
          0.006593987625265759,
          0.006282740713673282,
          0.006015243195122232,
          0.005793154891160572,
          0.005616781208272639,
          0.005485026934487569,
          0.005395418553888003,
          0.00534419794037175,
          0.005326485722446444,
          0.005336506918083374,
          0.005367865415658158,
          0.005413848564935876,
          0.005467739583370108,
          0.005523114464216165,
          0.005574101925942652,
          0.005615589455725089,
          0.005643364961590442,
          0.005654190905786885,
          0.005645814885117847,
          0.00561692642365978,
          0.005567073543270434,
          0.005496554190978717,
          0.0054062969548937375,
          0.0052977431343472344,
          0.005172738764556459,
          0.00503344128430626,
          0.004882241757206292,
          0.004721700364544858,
          0.004554490593666828,
          0.004383346340283791,
          0.004211006110555092,
          0.004040149630652163,
          0.0038733243130566505,
          0.0037128619215131458,
          0.003560789015222516,
          0.003418737824186522,
          0.003287866555693144,
          0.003168799253176998,
          0.0030615948758590575,
          0.002965753136976713,
          0.0028802610164304233,
          0.0028036792176116885,
          0.002734262849574853,
          0.0026701060671597667,
          0.0026092970387490426,
          0.0025500680067492066,
          0.0024909256526569816,
          0.002430749433845132,
          0.002368849650044909,
          0.0023049820879894,
          0.0022393213988946108,
          0.002172400093127474,
          0.0021050235251199177,
          0.0020381730587531537,
          0.0019729096090636625,
          0.0019102881009220442,
          0.001851290459623476,
          0.0017967810953479514,
          0.001747485058172556,
          0.0017039856742989802,
          0.0016667359618690132,
          0.001636076739098354,
          0.0016122541747610234,
          0.001595430520153979,
          0.001585683690001015,
          0.0015829939093211602,
          0.0015872184317505403,
          0.0015980579590514866,
          0.0016150204723838597,
          0.0016373894124431104,
          0.0016642033162222749,
          0.0016942530735997512,
          0.001726101008372429,
          0.0017581232745682782,
          0.0017885739778758032,
          0.0018156664468095523,
          0.0018376646528770108,
          0.0018529762971883845,
          0.0018602387732910462,
          0.0018583901134978866,
          0.0018467189522528328,
          0.0018248901470244083,
          0.0017929455373246362,
          0.001751281941363763,
          0.0017006105167322752,
          0.0016419028251772126,
          0.001576329297382552,
          0.0015051954074025778,
          0.0014298799631262196,
          0.0013517787647311704,
          0.0012722557182422716,
          0.0011926024853784012,
          0.0011140069840420493,
          0.0010375305268679864,
          0.0009640930479194709,
          0.0008944656526237675,
          0.0008292695771060979,
          0.0007689805297265659,
          0.0007139373055630147,
          0.0006643535258323798,
          0.0006203313734893713,
          0.0005818762797098746,
          0.0005489116565211326,
          0.0005212929497617154,
          0.0004988204797820054,
          0.00048125072273636984,
          0.0004683058481726675,
          0.00045968146316952577,
          0.0004550526212312208,
          0.00045407824109794837,
          0.0004564041522842276,
          0.00046166504402066194,
          0.00046948564312030593,
          0.00047948148305574484,
          0.0004912596495227281,
          0.0005044198951614358,
          0.000518556505311091,
          0.000533261262934235,
          0.0005481277962900646,
          0.0005627574873573422,
          0.0005767669632099272,
          0.0005897969839089886,
          0.000601522289115378,
          0.0006116616986723954,
          0.0006199875238531157,
          0.000626333190654402,
          0.0006305979587236482,
          0.000632747778532678,
          0.0006328116761721966,
          0.0006308735637798582,
          0.0006270599812402433,
          0.0006215248900403676,
          0.0006144331589647962,
          0.0006059447062889655,
          0.000596201322218354,
          0.0005853179558212168,
          0.0005733797262686755,
          0.0005604451681289503,
          0.0005465553420476551,
          0.000531747557643369,
          0.0005160716955798271,
          0.0004996066015226658,
          0.0004824738492158427,
          0.0004648463827140623,
          0.0004469501434675061,
          0.0004290577020358232,
          0.0004114740282170151,
          0.00039451568944088726,
          0.0003784857912014954,
          0.00036364770261023424,
          0.00035020092213101516,
          0.0003382622728526028,
          0.0003278549876593948,
          0.0003189072409727044,
          0.0003112604543915006,
          0.0003046864335532192,
          0.00029891127303492134,
          0.0002936431590776089,
          0.0002886008176536281,
          0.00028353943969367787,
          0.00027827143377127966,
          0.00027268021070937163,
          0.00026672624861628,
          0.0002604457534655397,
          0.00025394315859286987,
          0.00024737936684546323,
          0.00024095795131101708,
          0.0002349114720141724,
          0.00022948967045099275,
          0.00022495065175837887,
          0.00022155536772695654,
          0.00021956489926264203,
          0.0002192393287637901,
          0.00022083649963545605,
          0.0002246087631763925,
          0.00023079595839217357,
          0.00023961336261242122,
          0.0002512341496262522,
          0.00026576691076768855,
          0.0002832299037782491,
          0.0003035247325082914,
          0.0003264129507319051,
          0.000351499458687684,
          0.0003782263944562281,
          0.0004058804566505265,
          0.0004336152654743904,
          0.00046048861319781896,
          0.000485512501787882,
          0.0005077120058540575,
          0.0005261875384748916,
          0.0005401742988974307,
          0.0005490927117308609,
          0.0005525845601737024,
          0.0005505311570345107,
          0.0005430520426015122,
          0.0005304850173409775,
          0.0005133504552032738,
          0.0004923044869464404,
          0.00046808657649900743,
          0.00044146715156271097,
          0.00041320034259600415,
          0.00038398569609982605,
          0.0003544411954223408,
          0.0003250883045259858,
          0.0002963482825319679,
          0.00026854787537549014,
          0.00024193177407485532,
          0.00021667895661562736,
          0.00019292015534726382,
          0.00017075412100855063,
          0.00015026097202312168,
          0.00013151160611366954,
          0.00011457280881599377,
          9.950824538292276e-05,
          8.637592651482818e-05,
          7.522298426125738e-05,
          6.607869951597521e-05,
          5.894672250589723e-05,
          5.3797365723367254e-05,
          5.056076403146484e-05,
          4.91216147672254e-05,
          4.931613804078975e-05,
          5.093182135126798e-05,
          5.371040684167066e-05,
          5.735441433065031e-05,
          6.153724773726467e-05,
          6.5916605189952e-05,
          7.015052822286195e-05,
          7.391503242362943e-05,
          7.692192747519389e-05,
          7.893522919624594e-05,
          7.978454770820642e-05,
          7.937403426587702e-05,
          7.768587703367981e-05,
          7.47779062149149e-05,
          7.077552206010725e-05,
          6.585879796676981e-05,
          6.0246138262552034e-05,
          5.417620855196265e-05,
          4.788996132496644e-05,
          4.1614446944784126e-05,
          3.55497652249949e-05,
          2.9860040521393863e-05,
          2.466877413866173e-05,
          2.0058422034206105e-05,
          1.607362890920001e-05,
          1.2727263322125906e-05,
          1.000825625382037e-05,
          7.89023602054105e-06,
          6.3400455249563695e-06,
          5.325384449043949e-06,
          4.821000592042929e-06,
          4.813031021414685e-06,
          5.301248055689402e-06,
          6.299094540170175e-06,
          7.831506365691853e-06,
          9.93063332076283e-06,
          1.2629697858071698e-05,
          1.5955384417433465e-05,
          1.9919327148840157e-05,
          2.450944460885209e-05,
          2.968202639916569e-05,
          3.5355570291899265e-05,
          4.140735982398403e-05,
          4.767363113630148e-05,
          5.395389180815225e-05,
          6.0019536859392244e-05,
          6.562639923700004e-05,
          7.053033992392372e-05,
          7.45045075584212e-05,
          7.735656158159649e-05,
          7.894402392289603e-05,
          7.918603986215361e-05,
          7.807018720909824e-05,
          7.565353071237567e-05,
          7.205779640879128e-05,
          6.745923729575702e-05,
          6.207437262915502e-05,
          5.614321940861395e-05,
          4.99118388226456e-05,
          4.3615975802491735e-05,
          3.746730089857971e-05,
          3.1643328891365085e-05,
          2.6281566873098383e-05,
          2.1477919454663273e-05,
          1.7288923005267477e-05,
          1.3737045160277652e-05,
          1.0818093430432914e-05,
          8.509723847604148e-06,
          6.78010217166158e-06,
          5.595908922679392e-06,
          4.929055586368881e-06,
          4.761659130136409e-06,
          5.0889838425397425e-06,
          5.920196120509969e-06,
          7.2768947245979516e-06,
          9.18949028668386e-06,
          1.1691629868865366e-05,
          1.48130070845556e-05,
          1.8571067442122747e-05,
          2.296230018742205e-05,
          2.7953976080407823e-05,
          3.347730881746998e-05,
          3.942304615458501e-05,
          4.5640400755251125e-05,
          5.193999135315985e-05,
          5.810108650404769e-05,
          6.388295830587401e-05,
          6.903962072768875e-05,
          7.333672427286827e-05,
          7.656898939837217e-05,
          7.857635946767922e-05
         ],
         "yaxis": "y"
        },
        {
         "legendgroup": "Bronze Medalist",
         "marker": {
          "color": "rgb(214, 39, 40)"
         },
         "mode": "lines",
         "name": "Bronze Medalist",
         "showlegend": true,
         "type": "scatter",
         "x": [
          10,
          10.124,
          10.248,
          10.372,
          10.496,
          10.62,
          10.744,
          10.868,
          10.992,
          11.116,
          11.24,
          11.364,
          11.488,
          11.612,
          11.736,
          11.86,
          11.984,
          12.108,
          12.232,
          12.356,
          12.48,
          12.604,
          12.728,
          12.852,
          12.975999999999999,
          13.1,
          13.224,
          13.347999999999999,
          13.472,
          13.596,
          13.72,
          13.844,
          13.968,
          14.091999999999999,
          14.216000000000001,
          14.34,
          14.464,
          14.588000000000001,
          14.712,
          14.836,
          14.96,
          15.084,
          15.208,
          15.332,
          15.456,
          15.58,
          15.704,
          15.828,
          15.952,
          16.076,
          16.2,
          16.323999999999998,
          16.448,
          16.572,
          16.695999999999998,
          16.82,
          16.944,
          17.067999999999998,
          17.192,
          17.316,
          17.44,
          17.564,
          17.688,
          17.812,
          17.936,
          18.060000000000002,
          18.183999999999997,
          18.308,
          18.432000000000002,
          18.555999999999997,
          18.68,
          18.804000000000002,
          18.928,
          19.052,
          19.176000000000002,
          19.3,
          19.424,
          19.548000000000002,
          19.672,
          19.796,
          19.92,
          20.044,
          20.168,
          20.292,
          20.416,
          20.54,
          20.664,
          20.788,
          20.912,
          21.036,
          21.16,
          21.284,
          21.408,
          21.532,
          21.656,
          21.78,
          21.904,
          22.028,
          22.152,
          22.276,
          22.4,
          22.524,
          22.648,
          22.772,
          22.896,
          23.02,
          23.144,
          23.268,
          23.392,
          23.516,
          23.64,
          23.764,
          23.887999999999998,
          24.012,
          24.136,
          24.259999999999998,
          24.384,
          24.508,
          24.631999999999998,
          24.756,
          24.880000000000003,
          25.003999999999998,
          25.128,
          25.252000000000002,
          25.375999999999998,
          25.5,
          25.624000000000002,
          25.747999999999998,
          25.872,
          25.996000000000002,
          26.12,
          26.244,
          26.368,
          26.492,
          26.616,
          26.74,
          26.864,
          26.988,
          27.112,
          27.236,
          27.36,
          27.484,
          27.608,
          27.732,
          27.856,
          27.98,
          28.104,
          28.228,
          28.352,
          28.476,
          28.6,
          28.724,
          28.848,
          28.972,
          29.096,
          29.22,
          29.344,
          29.468,
          29.592,
          29.716,
          29.84,
          29.964,
          30.088,
          30.212,
          30.336,
          30.46,
          30.584,
          30.708,
          30.832,
          30.956,
          31.08,
          31.204,
          31.328,
          31.452,
          31.576,
          31.7,
          31.824,
          31.948,
          32.072,
          32.196,
          32.32,
          32.444,
          32.568,
          32.692,
          32.816,
          32.94,
          33.064,
          33.188,
          33.312,
          33.436,
          33.56,
          33.684,
          33.808,
          33.932,
          34.056,
          34.18,
          34.304,
          34.428,
          34.552,
          34.676,
          34.8,
          34.924,
          35.048,
          35.172,
          35.296,
          35.42,
          35.544,
          35.668,
          35.792,
          35.916,
          36.04,
          36.164,
          36.288,
          36.412,
          36.536,
          36.66,
          36.784,
          36.908,
          37.032,
          37.156,
          37.28,
          37.403999999999996,
          37.528,
          37.652,
          37.775999999999996,
          37.9,
          38.024,
          38.147999999999996,
          38.272,
          38.396,
          38.519999999999996,
          38.644,
          38.768,
          38.891999999999996,
          39.016,
          39.14,
          39.263999999999996,
          39.388000000000005,
          39.512,
          39.635999999999996,
          39.760000000000005,
          39.884,
          40.007999999999996,
          40.132000000000005,
          40.256,
          40.379999999999995,
          40.504000000000005,
          40.628,
          40.751999999999995,
          40.876000000000005,
          41,
          41.123999999999995,
          41.248000000000005,
          41.372,
          41.495999999999995,
          41.620000000000005,
          41.744,
          41.867999999999995,
          41.992000000000004,
          42.116,
          42.24,
          42.364,
          42.488,
          42.612,
          42.736,
          42.86,
          42.984,
          43.108,
          43.232,
          43.356,
          43.48,
          43.604,
          43.728,
          43.852,
          43.976,
          44.1,
          44.224,
          44.348,
          44.472,
          44.596,
          44.72,
          44.844,
          44.968,
          45.092,
          45.216,
          45.34,
          45.464,
          45.588,
          45.712,
          45.836,
          45.96,
          46.084,
          46.208,
          46.332,
          46.456,
          46.58,
          46.704,
          46.828,
          46.952,
          47.076,
          47.2,
          47.324,
          47.448,
          47.572,
          47.696,
          47.82,
          47.944,
          48.068,
          48.192,
          48.316,
          48.44,
          48.564,
          48.688,
          48.812,
          48.936,
          49.06,
          49.184,
          49.308,
          49.432,
          49.556,
          49.68,
          49.804,
          49.928,
          50.052,
          50.176,
          50.3,
          50.424,
          50.548,
          50.672,
          50.796,
          50.92,
          51.044,
          51.168,
          51.292,
          51.416,
          51.54,
          51.664,
          51.788,
          51.912,
          52.036,
          52.16,
          52.284,
          52.408,
          52.532,
          52.656,
          52.78,
          52.904,
          53.028,
          53.152,
          53.276,
          53.4,
          53.524,
          53.648,
          53.772,
          53.896,
          54.02,
          54.144,
          54.268,
          54.392,
          54.516,
          54.64,
          54.764,
          54.888,
          55.012,
          55.136,
          55.26,
          55.384,
          55.508,
          55.632,
          55.756,
          55.88,
          56.004,
          56.128,
          56.252,
          56.376,
          56.5,
          56.624,
          56.748,
          56.872,
          56.996,
          57.12,
          57.244,
          57.368,
          57.492,
          57.616,
          57.74,
          57.864,
          57.988,
          58.112,
          58.236,
          58.36,
          58.484,
          58.608,
          58.732,
          58.856,
          58.98,
          59.104,
          59.228,
          59.352,
          59.476,
          59.6,
          59.724,
          59.848,
          59.972,
          60.096,
          60.22,
          60.344,
          60.468,
          60.592,
          60.716,
          60.84,
          60.964,
          61.088,
          61.212,
          61.336,
          61.46,
          61.584,
          61.708,
          61.832,
          61.956,
          62.08,
          62.204,
          62.328,
          62.452,
          62.576,
          62.7,
          62.824,
          62.948,
          63.072,
          63.196,
          63.32,
          63.444,
          63.568,
          63.692,
          63.816,
          63.94,
          64.064,
          64.188,
          64.312,
          64.436,
          64.56,
          64.684,
          64.80799999999999,
          64.932,
          65.056,
          65.18,
          65.304,
          65.428,
          65.55199999999999,
          65.676,
          65.8,
          65.924,
          66.048,
          66.172,
          66.29599999999999,
          66.42,
          66.544,
          66.668,
          66.792,
          66.916,
          67.03999999999999,
          67.164,
          67.288,
          67.412,
          67.536,
          67.66,
          67.78399999999999,
          67.908,
          68.032,
          68.156,
          68.28,
          68.404,
          68.52799999999999,
          68.652,
          68.77600000000001,
          68.9,
          69.024,
          69.148,
          69.27199999999999,
          69.396,
          69.52000000000001,
          69.644,
          69.768,
          69.892,
          70.01599999999999,
          70.14,
          70.26400000000001,
          70.388,
          70.512,
          70.636,
          70.75999999999999,
          70.884,
          71.00800000000001,
          71.132,
          71.256,
          71.38,
          71.50399999999999,
          71.628,
          71.75200000000001,
          71.876
         ],
         "xaxis": "x",
         "y": [
          9.21144202170373e-05,
          9.636211071726412e-05,
          0.00010045579630499955,
          0.0001046510244302169,
          0.00010923593692182291,
          0.00011450235328283622,
          0.00012071558147585382,
          0.0001280873540957601,
          0.0001367562500898488,
          0.00014677925936013993,
          0.0001581368355087152,
          0.0001707520189489602,
          0.00018452224042916768,
          0.00019936052487318727,
          0.0002152413031289933,
          0.00023224515679452066,
          0.00025059673320647813,
          0.0002706908192422982,
          0.00029310306712209853,
          0.00031858391343070607,
          0.00034803652264726306,
          0.0003824817731899834,
          0.00042301505555339863,
          0.0004707607071905653,
          0.0005268301221355909,
          0.000592288941068874,
          0.0006681373859730951,
          0.0007553060011235266,
          0.0008546671087424822,
          0.0009670604917669738,
          0.0010933304240238978,
          0.00123437031842205,
          0.0013911709696021416,
          0.001564868528989036,
          0.0017567887943264122,
          0.001968484931345006,
          0.0022017662177966314,
          0.0024587157323390724,
          0.0027416951190758375,
          0.0030533347443680433,
          0.00339650788323235,
          0.0037742882000846596,
          0.00418989086284885,
          0.00464659921297922,
          0.005147680950484249,
          0.005696300077573184,
          0.006295433015577533,
          0.006947798878064081,
          0.007655814308460302,
          0.008421582105668584,
          0.009246919820644656,
          0.010133429720309034,
          0.01108260551341421,
          0.0120959649274124,
          0.013175191748985017,
          0.014322267404381285,
          0.0155395713845085,
          0.0168299321529441,
          0.018196615387587222,
          0.01964324377040459,
          0.02117365099186361,
          0.02279168098641703,
          0.02450095052493032,
          0.026304598192223035,
          0.028205044745829543,
          0.03020378845647499,
          0.03230125422588218,
          0.034496707508901395,
          0.0367882343454528,
          0.03917277866617498,
          0.04164621930469755,
          0.044203463563752945,
          0.04683853292321254,
          0.049544619817045575,
          0.052314101608604016,
          0.05513850744521272,
          0.05800844374919779,
          0.06091349309266665,
          0.06384210805692533,
          0.06678152593843954,
          0.0697177317130821,
          0.07263549536634242,
          0.07551850516515161,
          0.07834961021128992,
          0.081111173562008,
          0.08378552214487846,
          0.08635546371185455,
          0.08880482732761671,
          0.09111897582063894,
          0.0932852388506587,
          0.09529322448460692,
          0.09713498378688099,
          0.0988050232827104,
          0.10030017972334816,
          0.10161938639325925,
          0.10276336801188041,
          0.10373430205530758,
          0.10453547982880863,
          0.10517099344447749,
          0.10564546727541547,
          0.10596384570540421,
          0.10613124319602966,
          0.10615285736021562,
          0.10603394047199231,
          0.10577981985070702,
          0.10539595361044854,
          0.10488800625487735,
          0.10426192891893643,
          0.1035240312283328,
          0.10268103453083816,
          0.10174009825669983,
          0.10070881160097547,
          0.0995951419288896,
          0.09840733071855455,
          0.0971537293992765,
          0.09584257261733442,
          0.09448169554555912,
          0.09307821360136904,
          0.0916381948832987,
          0.09016636486669577,
          0.0886658869390721,
          0.087138259813405,
          0.08558336363629206,
          0.08399967172573736,
          0.08238462610103771,
          0.08073515450132424,
          0.07904828688437734,
          0.07732181307902047,
          0.07555491296863874,
          0.07374868857044305,
          0.07190653493539224,
          0.07003430363895286,
          0.06814023657552491,
          0.06623467493921954,
          0.0643295739237962,
          0.06243787336765898,
          0.060572785356873236,
          0.05874706096246994,
          0.056972291393255665,
          0.05525828709113237,
          0.05361256542200701,
          0.05203996675973079,
          0.05054241163012301,
          0.049118808162667775,
          0.04776511789570741,
          0.04647458665648484,
          0.045238143382533576,
          0.04404496161874911,
          0.042883165462748736,
          0.041740644853244184,
          0.04060592666066813,
          0.0394690315235594,
          0.03832223575465421,
          0.03716065654152659,
          0.03598258943070732,
          0.034789549982976786,
          0.033586004322637426,
          0.03237881157306575,
          0.031176438831858975,
          0.029988040011498407,
          0.02882250818245852,
          0.027687613770038776,
          0.026589327610630684,
          0.02553140078159867,
          0.024515236804155332,
          0.023540052064352876,
          0.02260328307841426,
          0.021701169745799616,
          0.020829425699248238,
          0.019983902093776568,
          0.019161159492379034,
          0.01835888187506717,
          0.0175760937262314,
          0.016813171252762202,
          0.016071667457412887,
          0.015353993963719387,
          0.014663017238453969,
          0.014001631831920323,
          0.013372368782419522,
          0.01277708520481948,
          0.012216764098248406,
          0.011691434751129558,
          0.011200206777343864,
          0.010741397104620857,
          0.010312720547900318,
          0.009911511347407309,
          0.009534944777576068,
          0.009180233538384673,
          0.008844781652851292,
          0.008526287444642669,
          0.008222795437787249,
          0.007932703624181178,
          0.007654736853117947,
          0.007387898956003975,
          0.007131415888515753,
          0.006884680196672151,
          0.006647204162895208,
          0.006418585710541821,
          0.006198488062471508,
          0.005986631614800338,
          0.005782794695525555,
          0.00558681890060655,
          0.0053986145224184535,
          0.005218162127016688,
          0.0050455074562296654,
          0.004880748326616396,
          0.004724013819331692,
          0.004575437535175985,
          0.004435127789753376,
          0.004303138185140376,
          0.004179441967356278,
          0.004063913027632374,
          0.003956315483340322,
          0.0038563026800293673,
          0.0037634253858214836,
          0.0036771480598240436,
          0.0035968714618339445,
          0.003521959558498721,
          0.003451768637367178,
          0.003385676684813501,
          0.0033231113114251935,
          0.0032635747150369394,
          0.0032066642833803705,
          0.003152087437680283,
          0.003099669257872982,
          0.0030493514255032286,
          0.0030011812218108383,
          0.0029552898625252563,
          0.0029118604080913043,
          0.002871086822969602,
          0.002833127314362669,
          0.0027980566006493564,
          0.002765822927919243,
          0.002736216160869857,
          0.0027088528856660196,
          0.002683183067802479,
          0.0026585204605051823,
          0.0026340958852101564,
          0.002609129090124992,
          0.002582911637233919,
          0.0025548907223676347,
          0.0025247425070951085,
          0.002492423807378179,
          0.0024581929877920687,
          0.0024225945127394365,
          0.00238640637568111,
          0.0023505548900800265,
          0.0023160062705105955,
          0.002283648251145573,
          0.0022541770226202342,
          0.002228004628975549,
          0.00220519960976051,
          0.0021854694096041256,
          0.0021681875255463064,
          0.0021524623438819654,
          0.0021372390297144353,
          0.002121421500963116,
          0.0021039990696606913,
          0.0020841620898019515,
          0.0020613928808791535,
          0.0020355219213036807,
          0.0020067441721456987,
          0.0019755955917001833,
          0.0019428946262837993,
          0.0019096570510694305,
          0.0018769945877432294,
          0.0018460081615313902,
          0.0018176856982122598,
          0.0017928124433015374,
          0.0017718994520648558,
          0.0017551336593622758,
          0.0017423511565908445,
          0.001733034129849504,
          0.0017263312745026459,
          0.0017211011414583548,
          0.0017159774423152988,
          0.0017094545162111272,
          0.0016999897421578298,
          0.0016861176792580302,
          0.0016665683884860003,
          0.0016403802004182344,
          0.0016069957292125833,
          0.001566329761439406,
          0.001518799165403059,
          0.0014653082692624368,
          0.001407187973036012,
          0.0013460925643863657,
          0.0012838639199862743,
          0.0012223775233572752,
          0.001163387652129897,
          0.0011083896025021586,
          0.0010585147512999502,
          0.001014469875036222,
          0.0009765261129241424,
          0.0009445562093811653,
          0.0009181122362363844,
          0.0008965308365534142,
          0.0008790498844480862,
          0.0008649197199110021,
          0.000853493818778525,
          0.0008442875595134795,
          0.0008369990229139602,
          0.000831491695809674,
          0.0008277446726752458,
          0.0008257806519587797,
          0.0008255850715611304,
          0.0008270307368086445,
          0.0008298211751985797,
          0.0008334629135729021,
          0.0008372723870356201,
          0.0008404179230366873,
          0.0008419919704397118,
          0.0008411042292896132,
          0.0008369832337077,
          0.0008290726841535819,
          0.0008171095669070637,
          0.0008011736758198661,
          0.0007817021140787409,
          0.000759467041248956,
          0.0007355195901056294,
          0.0007111068002187028,
          0.0006875710651667392,
          0.000666242696038195,
          0.0006483357928670589,
          0.0006348559848543956,
          0.0006265262310390073,
          0.0006237343109374956,
          0.0006265033626630212,
          0.0006344851621148015,
          0.0006469748780171871,
          0.000662945662607149,
          0.0006811013655485189,
          0.0006999455464554168,
          0.0007178645168775873,
          0.000733221220328964,
          0.0007444554156839138,
          0.0007501841219418529,
          0.0007492950075251577,
          0.0007410247964273636,
          0.0007250151612750364,
          0.0007013401313995001,
          0.0006705016609007066,
          0.0006333933268446762,
          0.0005912356306554267,
          0.0005454894633406393,
          0.0004977564465239222,
          0.0004496757443493874,
          0.00040282648158151746,
          0.0003586432875176126,
          0.00031835010352292955,
          0.0002829147345866462,
          0.00025302416642134504,
          0.00022907876637292542,
          0.00021120231823239667,
          0.00019926440019007294,
          0.000192911744137887,
          0.0001916056745840585,
          0.00019466327392990716,
          0.0002013003753646401,
          0.00021067475878298102,
          0.00022192803044210585,
          0.00023422468566248046,
          0.0002467868943676945,
          0.0002589237015760563,
          0.0002700536380459021,
          0.0002797201673019155,
          0.00028759988135667876,
          0.0002935038038982217,
          0.00029737248402646746,
          0.00029926572353515204,
          0.0002993477874810712,
          0.0002978688608351603,
          0.0002951434198949123,
          0.0002915261696759182,
          0.000287386310161117,
          0.0002830811374375666,
          0.00027893030914996674,
          0.0002751924148373266,
          0.00027204568113290263,
          0.0002695746125202231,
          0.0002677640626691777,
          0.00026650164854753993,
          0.00026558862001401396,
          0.0002647583935397979,
          0.0002637010922494044,
          0.00026209174920465594,
          0.00025961944207938357,
          0.00025601459780808574,
          0.0002510720321909523,
          0.0002446679034375868,
          0.00023676954211073056,
          0.00022743793165482776,
          0.00021682332106582995,
          0.0002051549593722787,
          0.00019272621218004334,
          0.0001798763758407935,
          0.00016697041554218227,
          0.0001543777143387058,
          0.00014245081908009384,
          0.0001315051609989839,
          0.00012180081765481826,
          0.0001135275210789807,
          0.00010679421778473166,
          0.00010162444975229072,
          9.795856800665462e-05,
          9.566327194642288e-05,
          9.454820902947857e-05,
          9.438845593457722e-05,
          9.49507718228401e-05,
          9.60207334644461e-05,
          9.742739449235062e-05,
          9.906208476474626e-05,
          0.00010088844496445696,
          0.00010294175926068788,
          0.00010531700347169513,
          0.00010814659229164609,
          0.00011157036177798557,
          0.00011570162160637595,
          0.0001205939372100775,
          0.00012621349580581076,
          0.00013242140241390442,
          0.00013896907837669735,
          0.00014550823877296782,
          0.00015161494022943825,
          0.00015682520811262078,
          0.00016067807533706982,
          0.00016276075922061085,
          0.00016275034810135349,
          0.00016044682693761256,
          0.00015579346929598726,
          0.00014888236837679614,
          0.00013994489020965146,
          0.0001293287888351889,
          0.00011746532778994963,
          0.0001048307795734631,
          9.190701020047508e-05,
          7.914550831771267e-05,
          6.693830891029996e-05,
          5.559799163272254e-05,
          4.5347539977122475e-05,
          3.6319555404072196e-05,
          2.8563306117739732e-05,
          2.2057456070849715e-05,
          1.6726089626810607e-05,
          1.2455775681157786e-05,
          9.111808783412094e-06,
          6.5523088793166544e-06,
          4.63944320634508e-06,
          3.247561911384444e-06,
          2.2684521681021226e-06,
          1.6141855369537989e-06,
          1.2181596033966636e-06,
          1.0349369881625524e-06,
          1.039393040584059e-06,
          1.2255316832598227e-06,
          1.6051490965857338e-06,
          2.2063453244081767e-06,
          3.0717282552883574e-06,
          4.256042987525291e-06,
          5.8229094200044084e-06,
          7.840375442511926e-06,
          1.037510000789096e-05,
          1.3485168343212963e-05,
          1.721179676648467e-05,
          2.1570478238657682e-05,
          2.654240833284336e-05,
          3.206726030033638e-05,
          3.803849002235593e-05,
          4.430229789037126e-05,
          5.066112695638244e-05,
          5.68821385895405e-05,
          6.271051942190521e-05,
          6.788681344411214e-05,
          7.216684315974882e-05,
          7.53422939353917e-05,
          7.725978204535824e-05,
          7.783626971969615e-05,
          7.706903903384917e-05,
          7.503904388737366e-05,
          7.190722994108455e-05,
          6.790422034931027e-05,
          6.331448029401299e-05,
          5.845658842065848e-05,
          5.366149562933351e-05,
          4.92506342797472e-05,
          4.551550006097345e-05,
          4.269994937768681e-05,
          4.09860370246124e-05,
          4.048385136905256e-05,
          4.122554421825557e-05,
          4.316361292822279e-05,
          4.617344262814539e-05,
          5.0060095494203086e-05,
          5.456927099786138e-05,
          5.940219926826566e-05,
          6.423394641028421e-05,
          6.87342276027578e-05,
          7.25894055672258e-05,
          7.55239917268395e-05,
          7.731976409205747e-05
         ],
         "yaxis": "y"
        }
       ],
       "layout": {
        "barmode": "overlay",
        "hovermode": "closest",
        "legend": {
         "traceorder": "reversed"
        },
        "template": {
         "data": {
          "bar": [
           {
            "error_x": {
             "color": "#2a3f5f"
            },
            "error_y": {
             "color": "#2a3f5f"
            },
            "marker": {
             "line": {
              "color": "#E5ECF6",
              "width": 0.5
             },
             "pattern": {
              "fillmode": "overlay",
              "size": 10,
              "solidity": 0.2
             }
            },
            "type": "bar"
           }
          ],
          "barpolar": [
           {
            "marker": {
             "line": {
              "color": "#E5ECF6",
              "width": 0.5
             },
             "pattern": {
              "fillmode": "overlay",
              "size": 10,
              "solidity": 0.2
             }
            },
            "type": "barpolar"
           }
          ],
          "carpet": [
           {
            "aaxis": {
             "endlinecolor": "#2a3f5f",
             "gridcolor": "white",
             "linecolor": "white",
             "minorgridcolor": "white",
             "startlinecolor": "#2a3f5f"
            },
            "baxis": {
             "endlinecolor": "#2a3f5f",
             "gridcolor": "white",
             "linecolor": "white",
             "minorgridcolor": "white",
             "startlinecolor": "#2a3f5f"
            },
            "type": "carpet"
           }
          ],
          "choropleth": [
           {
            "colorbar": {
             "outlinewidth": 0,
             "ticks": ""
            },
            "type": "choropleth"
           }
          ],
          "contour": [
           {
            "colorbar": {
             "outlinewidth": 0,
             "ticks": ""
            },
            "colorscale": [
             [
              0,
              "#0d0887"
             ],
             [
              0.1111111111111111,
              "#46039f"
             ],
             [
              0.2222222222222222,
              "#7201a8"
             ],
             [
              0.3333333333333333,
              "#9c179e"
             ],
             [
              0.4444444444444444,
              "#bd3786"
             ],
             [
              0.5555555555555556,
              "#d8576b"
             ],
             [
              0.6666666666666666,
              "#ed7953"
             ],
             [
              0.7777777777777778,
              "#fb9f3a"
             ],
             [
              0.8888888888888888,
              "#fdca26"
             ],
             [
              1,
              "#f0f921"
             ]
            ],
            "type": "contour"
           }
          ],
          "contourcarpet": [
           {
            "colorbar": {
             "outlinewidth": 0,
             "ticks": ""
            },
            "type": "contourcarpet"
           }
          ],
          "heatmap": [
           {
            "colorbar": {
             "outlinewidth": 0,
             "ticks": ""
            },
            "colorscale": [
             [
              0,
              "#0d0887"
             ],
             [
              0.1111111111111111,
              "#46039f"
             ],
             [
              0.2222222222222222,
              "#7201a8"
             ],
             [
              0.3333333333333333,
              "#9c179e"
             ],
             [
              0.4444444444444444,
              "#bd3786"
             ],
             [
              0.5555555555555556,
              "#d8576b"
             ],
             [
              0.6666666666666666,
              "#ed7953"
             ],
             [
              0.7777777777777778,
              "#fb9f3a"
             ],
             [
              0.8888888888888888,
              "#fdca26"
             ],
             [
              1,
              "#f0f921"
             ]
            ],
            "type": "heatmap"
           }
          ],
          "heatmapgl": [
           {
            "colorbar": {
             "outlinewidth": 0,
             "ticks": ""
            },
            "colorscale": [
             [
              0,
              "#0d0887"
             ],
             [
              0.1111111111111111,
              "#46039f"
             ],
             [
              0.2222222222222222,
              "#7201a8"
             ],
             [
              0.3333333333333333,
              "#9c179e"
             ],
             [
              0.4444444444444444,
              "#bd3786"
             ],
             [
              0.5555555555555556,
              "#d8576b"
             ],
             [
              0.6666666666666666,
              "#ed7953"
             ],
             [
              0.7777777777777778,
              "#fb9f3a"
             ],
             [
              0.8888888888888888,
              "#fdca26"
             ],
             [
              1,
              "#f0f921"
             ]
            ],
            "type": "heatmapgl"
           }
          ],
          "histogram": [
           {
            "marker": {
             "pattern": {
              "fillmode": "overlay",
              "size": 10,
              "solidity": 0.2
             }
            },
            "type": "histogram"
           }
          ],
          "histogram2d": [
           {
            "colorbar": {
             "outlinewidth": 0,
             "ticks": ""
            },
            "colorscale": [
             [
              0,
              "#0d0887"
             ],
             [
              0.1111111111111111,
              "#46039f"
             ],
             [
              0.2222222222222222,
              "#7201a8"
             ],
             [
              0.3333333333333333,
              "#9c179e"
             ],
             [
              0.4444444444444444,
              "#bd3786"
             ],
             [
              0.5555555555555556,
              "#d8576b"
             ],
             [
              0.6666666666666666,
              "#ed7953"
             ],
             [
              0.7777777777777778,
              "#fb9f3a"
             ],
             [
              0.8888888888888888,
              "#fdca26"
             ],
             [
              1,
              "#f0f921"
             ]
            ],
            "type": "histogram2d"
           }
          ],
          "histogram2dcontour": [
           {
            "colorbar": {
             "outlinewidth": 0,
             "ticks": ""
            },
            "colorscale": [
             [
              0,
              "#0d0887"
             ],
             [
              0.1111111111111111,
              "#46039f"
             ],
             [
              0.2222222222222222,
              "#7201a8"
             ],
             [
              0.3333333333333333,
              "#9c179e"
             ],
             [
              0.4444444444444444,
              "#bd3786"
             ],
             [
              0.5555555555555556,
              "#d8576b"
             ],
             [
              0.6666666666666666,
              "#ed7953"
             ],
             [
              0.7777777777777778,
              "#fb9f3a"
             ],
             [
              0.8888888888888888,
              "#fdca26"
             ],
             [
              1,
              "#f0f921"
             ]
            ],
            "type": "histogram2dcontour"
           }
          ],
          "mesh3d": [
           {
            "colorbar": {
             "outlinewidth": 0,
             "ticks": ""
            },
            "type": "mesh3d"
           }
          ],
          "parcoords": [
           {
            "line": {
             "colorbar": {
              "outlinewidth": 0,
              "ticks": ""
             }
            },
            "type": "parcoords"
           }
          ],
          "pie": [
           {
            "automargin": true,
            "type": "pie"
           }
          ],
          "scatter": [
           {
            "marker": {
             "colorbar": {
              "outlinewidth": 0,
              "ticks": ""
             }
            },
            "type": "scatter"
           }
          ],
          "scatter3d": [
           {
            "line": {
             "colorbar": {
              "outlinewidth": 0,
              "ticks": ""
             }
            },
            "marker": {
             "colorbar": {
              "outlinewidth": 0,
              "ticks": ""
             }
            },
            "type": "scatter3d"
           }
          ],
          "scattercarpet": [
           {
            "marker": {
             "colorbar": {
              "outlinewidth": 0,
              "ticks": ""
             }
            },
            "type": "scattercarpet"
           }
          ],
          "scattergeo": [
           {
            "marker": {
             "colorbar": {
              "outlinewidth": 0,
              "ticks": ""
             }
            },
            "type": "scattergeo"
           }
          ],
          "scattergl": [
           {
            "marker": {
             "colorbar": {
              "outlinewidth": 0,
              "ticks": ""
             }
            },
            "type": "scattergl"
           }
          ],
          "scattermapbox": [
           {
            "marker": {
             "colorbar": {
              "outlinewidth": 0,
              "ticks": ""
             }
            },
            "type": "scattermapbox"
           }
          ],
          "scatterpolar": [
           {
            "marker": {
             "colorbar": {
              "outlinewidth": 0,
              "ticks": ""
             }
            },
            "type": "scatterpolar"
           }
          ],
          "scatterpolargl": [
           {
            "marker": {
             "colorbar": {
              "outlinewidth": 0,
              "ticks": ""
             }
            },
            "type": "scatterpolargl"
           }
          ],
          "scatterternary": [
           {
            "marker": {
             "colorbar": {
              "outlinewidth": 0,
              "ticks": ""
             }
            },
            "type": "scatterternary"
           }
          ],
          "surface": [
           {
            "colorbar": {
             "outlinewidth": 0,
             "ticks": ""
            },
            "colorscale": [
             [
              0,
              "#0d0887"
             ],
             [
              0.1111111111111111,
              "#46039f"
             ],
             [
              0.2222222222222222,
              "#7201a8"
             ],
             [
              0.3333333333333333,
              "#9c179e"
             ],
             [
              0.4444444444444444,
              "#bd3786"
             ],
             [
              0.5555555555555556,
              "#d8576b"
             ],
             [
              0.6666666666666666,
              "#ed7953"
             ],
             [
              0.7777777777777778,
              "#fb9f3a"
             ],
             [
              0.8888888888888888,
              "#fdca26"
             ],
             [
              1,
              "#f0f921"
             ]
            ],
            "type": "surface"
           }
          ],
          "table": [
           {
            "cells": {
             "fill": {
              "color": "#EBF0F8"
             },
             "line": {
              "color": "white"
             }
            },
            "header": {
             "fill": {
              "color": "#C8D4E3"
             },
             "line": {
              "color": "white"
             }
            },
            "type": "table"
           }
          ]
         },
         "layout": {
          "annotationdefaults": {
           "arrowcolor": "#2a3f5f",
           "arrowhead": 0,
           "arrowwidth": 1
          },
          "autotypenumbers": "strict",
          "coloraxis": {
           "colorbar": {
            "outlinewidth": 0,
            "ticks": ""
           }
          },
          "colorscale": {
           "diverging": [
            [
             0,
             "#8e0152"
            ],
            [
             0.1,
             "#c51b7d"
            ],
            [
             0.2,
             "#de77ae"
            ],
            [
             0.3,
             "#f1b6da"
            ],
            [
             0.4,
             "#fde0ef"
            ],
            [
             0.5,
             "#f7f7f7"
            ],
            [
             0.6,
             "#e6f5d0"
            ],
            [
             0.7,
             "#b8e186"
            ],
            [
             0.8,
             "#7fbc41"
            ],
            [
             0.9,
             "#4d9221"
            ],
            [
             1,
             "#276419"
            ]
           ],
           "sequential": [
            [
             0,
             "#0d0887"
            ],
            [
             0.1111111111111111,
             "#46039f"
            ],
            [
             0.2222222222222222,
             "#7201a8"
            ],
            [
             0.3333333333333333,
             "#9c179e"
            ],
            [
             0.4444444444444444,
             "#bd3786"
            ],
            [
             0.5555555555555556,
             "#d8576b"
            ],
            [
             0.6666666666666666,
             "#ed7953"
            ],
            [
             0.7777777777777778,
             "#fb9f3a"
            ],
            [
             0.8888888888888888,
             "#fdca26"
            ],
            [
             1,
             "#f0f921"
            ]
           ],
           "sequentialminus": [
            [
             0,
             "#0d0887"
            ],
            [
             0.1111111111111111,
             "#46039f"
            ],
            [
             0.2222222222222222,
             "#7201a8"
            ],
            [
             0.3333333333333333,
             "#9c179e"
            ],
            [
             0.4444444444444444,
             "#bd3786"
            ],
            [
             0.5555555555555556,
             "#d8576b"
            ],
            [
             0.6666666666666666,
             "#ed7953"
            ],
            [
             0.7777777777777778,
             "#fb9f3a"
            ],
            [
             0.8888888888888888,
             "#fdca26"
            ],
            [
             1,
             "#f0f921"
            ]
           ]
          },
          "colorway": [
           "#636efa",
           "#EF553B",
           "#00cc96",
           "#ab63fa",
           "#FFA15A",
           "#19d3f3",
           "#FF6692",
           "#B6E880",
           "#FF97FF",
           "#FECB52"
          ],
          "font": {
           "color": "#2a3f5f"
          },
          "geo": {
           "bgcolor": "white",
           "lakecolor": "white",
           "landcolor": "#E5ECF6",
           "showlakes": true,
           "showland": true,
           "subunitcolor": "white"
          },
          "hoverlabel": {
           "align": "left"
          },
          "hovermode": "closest",
          "mapbox": {
           "style": "light"
          },
          "paper_bgcolor": "white",
          "plot_bgcolor": "#E5ECF6",
          "polar": {
           "angularaxis": {
            "gridcolor": "white",
            "linecolor": "white",
            "ticks": ""
           },
           "bgcolor": "#E5ECF6",
           "radialaxis": {
            "gridcolor": "white",
            "linecolor": "white",
            "ticks": ""
           }
          },
          "scene": {
           "xaxis": {
            "backgroundcolor": "#E5ECF6",
            "gridcolor": "white",
            "gridwidth": 2,
            "linecolor": "white",
            "showbackground": true,
            "ticks": "",
            "zerolinecolor": "white"
           },
           "yaxis": {
            "backgroundcolor": "#E5ECF6",
            "gridcolor": "white",
            "gridwidth": 2,
            "linecolor": "white",
            "showbackground": true,
            "ticks": "",
            "zerolinecolor": "white"
           },
           "zaxis": {
            "backgroundcolor": "#E5ECF6",
            "gridcolor": "white",
            "gridwidth": 2,
            "linecolor": "white",
            "showbackground": true,
            "ticks": "",
            "zerolinecolor": "white"
           }
          },
          "shapedefaults": {
           "line": {
            "color": "#2a3f5f"
           }
          },
          "ternary": {
           "aaxis": {
            "gridcolor": "white",
            "linecolor": "white",
            "ticks": ""
           },
           "baxis": {
            "gridcolor": "white",
            "linecolor": "white",
            "ticks": ""
           },
           "bgcolor": "#E5ECF6",
           "caxis": {
            "gridcolor": "white",
            "linecolor": "white",
            "ticks": ""
           }
          },
          "title": {
           "x": 0.05
          },
          "xaxis": {
           "automargin": true,
           "gridcolor": "white",
           "linecolor": "white",
           "ticks": "",
           "title": {
            "standoff": 15
           },
           "zerolinecolor": "white",
           "zerolinewidth": 2
          },
          "yaxis": {
           "automargin": true,
           "gridcolor": "white",
           "linecolor": "white",
           "ticks": "",
           "title": {
            "standoff": 15
           },
           "zerolinecolor": "white",
           "zerolinewidth": 2
          }
         }
        },
        "xaxis": {
         "anchor": "y2",
         "domain": [
          0,
          1
         ],
         "zeroline": false
        },
        "yaxis": {
         "anchor": "free",
         "domain": [
          0,
          1
         ],
         "position": 0
        }
       }
      },
      "text/html": [
       "<div>                            <div id=\"4d1d9b5c-d60a-448f-bfc6-cc9723d7f7c8\" class=\"plotly-graph-div\" style=\"height:525px; width:100%;\"></div>            <script type=\"text/javascript\">                require([\"plotly\"], function(Plotly) {                    window.PLOTLYENV=window.PLOTLYENV || {};                                    if (document.getElementById(\"4d1d9b5c-d60a-448f-bfc6-cc9723d7f7c8\")) {                    Plotly.newPlot(                        \"4d1d9b5c-d60a-448f-bfc6-cc9723d7f7c8\",                        [{\"legendgroup\":\"Overall Age\",\"marker\":{\"color\":\"rgb(31, 119, 180)\"},\"mode\":\"lines\",\"name\":\"Overall Age\",\"showlegend\":true,\"x\":[10.0,10.174,10.348,10.522,10.696,10.87,11.044,11.218,11.392,11.566,11.74,11.914,12.088000000000001,12.262,12.436,12.61,12.783999999999999,12.958,13.132,13.306000000000001,13.48,13.654,13.828,14.001999999999999,14.176,14.35,14.524000000000001,14.698,14.872,15.046,15.219999999999999,15.394,15.568,15.742,15.916,16.09,16.264,16.438,16.612000000000002,16.786,16.96,17.134,17.308,17.482,17.656,17.83,18.003999999999998,18.178,18.352,18.526,18.7,18.874000000000002,19.048000000000002,19.222,19.396,19.57,19.744,19.918,20.092,20.266,20.439999999999998,20.614,20.788,20.962,21.136,21.310000000000002,21.484,21.658,21.832,22.006,22.18,22.354,22.528,22.701999999999998,22.875999999999998,23.05,23.224,23.398,23.572,23.746000000000002,23.92,24.094,24.268,24.442,24.616,24.79,24.964,25.137999999999998,25.311999999999998,25.486,25.66,25.834,26.008,26.182,26.356,26.53,26.704,26.878,27.052,27.226,27.4,27.574,27.748,27.922,28.096,28.27,28.444,28.618,28.792,28.966,29.14,29.314,29.488,29.662,29.836,30.01,30.184,30.358,30.532,30.706,30.88,31.054,31.228,31.402,31.576,31.75,31.924,32.098,32.272,32.446,32.620000000000005,32.794,32.968,33.141999999999996,33.316,33.489999999999995,33.664,33.838,34.012,34.186,34.36,34.534,34.708,34.882000000000005,35.056,35.230000000000004,35.403999999999996,35.578,35.751999999999995,35.926,36.1,36.274,36.448,36.622,36.796,36.97,37.144,37.318,37.492000000000004,37.666,37.84,38.013999999999996,38.188,38.361999999999995,38.536,38.71,38.884,39.058,39.232,39.406,39.58,39.754000000000005,39.928,40.102000000000004,40.275999999999996,40.45,40.623999999999995,40.798,40.972,41.146,41.32,41.494,41.668,41.842,42.016,42.19,42.364,42.538,42.712,42.886,43.06,43.234,43.408,43.582,43.756,43.93,44.104,44.278,44.452,44.626,44.8,44.974,45.148,45.322,45.496,45.67,45.844,46.018,46.192,46.366,46.54,46.714,46.888,47.062,47.236,47.41,47.584,47.758,47.932,48.106,48.28,48.454,48.628,48.802,48.976,49.15,49.324,49.498,49.672,49.846,50.02,50.194,50.368,50.542,50.716,50.89,51.064,51.238,51.412,51.586,51.76,51.934,52.108,52.282,52.456,52.63,52.804,52.978,53.152,53.326,53.5,53.674,53.848,54.022,54.196,54.37,54.544,54.718,54.892,55.066,55.24,55.414,55.588,55.762,55.936,56.11,56.284,56.458,56.632,56.806,56.98,57.154,57.328,57.502,57.676,57.85,58.024,58.198,58.372,58.546,58.72,58.894,59.068,59.242,59.416,59.59,59.764,59.938,60.112,60.286,60.46,60.634,60.808,60.982,61.156,61.33,61.504,61.678,61.852,62.026,62.2,62.374,62.548,62.722,62.896,63.07,63.244,63.418,63.592,63.766,63.94,64.114,64.288,64.462,64.636,64.81,64.98400000000001,65.158,65.332,65.506,65.68,65.854,66.02799999999999,66.202,66.376,66.55,66.72399999999999,66.898,67.072,67.24600000000001,67.42,67.594,67.768,67.94200000000001,68.116,68.28999999999999,68.464,68.638,68.812,68.98599999999999,69.16,69.334,69.50800000000001,69.682,69.856,70.03,70.20400000000001,70.378,70.55199999999999,70.726,70.9,71.074,71.24799999999999,71.422,71.596,71.77000000000001,71.944,72.118,72.292,72.46600000000001,72.64,72.814,72.988,73.162,73.336,73.50999999999999,73.684,73.858,74.032,74.206,74.38,74.554,74.728,74.902,75.076,75.25,75.424,75.598,75.772,75.946,76.12,76.294,76.468,76.642,76.816,76.99,77.164,77.338,77.512,77.686,77.86,78.034,78.208,78.382,78.556,78.73,78.904,79.078,79.252,79.426,79.6,79.774,79.948,80.122,80.296,80.47,80.644,80.818,80.992,81.166,81.34,81.514,81.688,81.862,82.036,82.21,82.384,82.558,82.732,82.906,83.08,83.254,83.428,83.602,83.776,83.95,84.124,84.298,84.472,84.646,84.82,84.994,85.168,85.342,85.516,85.69,85.864,86.038,86.212,86.386,86.56,86.734,86.908,87.082,87.256,87.43,87.604,87.778,87.952,88.126,88.3,88.474,88.648,88.822,88.996,89.17,89.344,89.518,89.692,89.866,90.04,90.214,90.388,90.562,90.736,90.91,91.084,91.258,91.432,91.606,91.78,91.954,92.128,92.302,92.476,92.65,92.824,92.998,93.172,93.346,93.52,93.694,93.868,94.042,94.216,94.39,94.564,94.738,94.912,95.086,95.26,95.434,95.608,95.782,95.956,96.13,96.304,96.478,96.652,96.826],\"xaxis\":\"x\",\"y\":[1.0716666097971404e-05,1.3492505052940305e-05,1.7083784685976622e-05,2.194967329657813e-05,2.8725147433525316e-05,3.826939534563528e-05,5.164667787915015e-05,6.998561812801584e-05,9.43159349093854e-05,0.0001256304255287929,0.00016532764070366156,0.00021579413354486386,0.00028052453111488757,0.00036339501935162797,0.00046760050658231015,0.0005955423741829928,0.0007504529851570334,0.000938640588973885,0.001169669729700663,0.0014528830635826282,0.0017924966165228763,0.002186515543211848,0.0026325419711021743,0.003136343424623533,0.0037135749670900537,0.004379024661057373,0.005130415628232203,0.005943231863857038,0.0067865767007474044,0.007649688711044333,0.008553803578877526,0.009533632897288646,0.010602604529355037,0.011737001984463728,0.01290003154008442,0.014086038774888543,0.015338878133645576,0.01671983658603115,0.018253826356484548,0.01991189409183547,0.021655033151230303,0.023496355917160688,0.025509385998389696,0.02776109153393238,0.030234024341793446,0.03282782786984284,0.03545470862477814,0.038136214532130286,0.04098953119364766,0.044098687778600355,0.04739754906931533,0.05069983050021825,0.05386693005699315,0.056948045403202883,0.06013448055393048,0.06355572730039444,0.06712325384924356,0.0705977116302009,0.07382564922798739,0.07689732004842846,0.0800391671810143,0.08333103397507408,0.08654338032054928,0.08928950358423492,0.09136442565006286,0.09293067467979385,0.09434965566973795,0.09581874088378635,0.09718267197106784,0.0981138525785527,0.09847203451120014,0.09846320278641695,0.09842708161215251,0.09847570794168153,0.09836600147176426,0.09774499910646367,0.09651495163399702,0.09494071834780712,0.09339345052577196,0.09200222079284551,0.09057152991521941,0.08883464606362486,0.08676265883536503,0.08460467537782083,0.08263035093564881,0.08085857893951119,0.07905774241820437,0.07700568819820781,0.07472654627619335,0.07245922410062401,0.07040438286751223,0.06852488998956777,0.06660408915804883,0.06448659208257439,0.06224097383731628,0.06008046531844504,0.058139010178391154,0.056343826436403587,0.05450959324997184,0.052540907506617926,0.050524849769312714,0.048624654845845466,0.04689872823494297,0.04523921737914689,0.04348796841367651,0.04160045403561678,0.03968739647488848,0.03790085660595841,0.0362919853242169,0.03478484845535866,0.03327908765252587,0.03176171664206961,0.030311290181013934,0.029000827083138683,0.027811264272275534,0.02664725952463298,0.025433225711175875,0.02418552825165472,0.022988961463589225,0.02190913727155605,0.02093456233410264,0.020002787687038504,0.01907387271427905,0.01817002369910213,0.01734385414447436,0.01661587216596086,0.01595033322492183,0.015292411606568468,0.014623441488040675,0.013975445428604263,0.013393180798577809,0.01288726233813117,0.012427231113136029,0.011977388333077826,0.011533175402556776,0.011118987130304077,0.010752579477023655,0.010416997399448239,0.01007098788957574,0.009686541156235982,0.009273973488097567,0.00886953870836092,0.00850013520014671,0.00816169358377051,0.007830906720504613,0.007494501742224705,0.007164142991263563,0.006863128377383947,0.006601620459782404,0.006367500779936804,0.006141108397218099,0.005916284363127098,0.005704936831112065,0.005521591907169194,0.00536595184738156,0.00522239624727639,0.005076072441908465,0.004927491543507966,0.004790110159287175,0.004674337518567306,0.004575702572236848,0.00447959027334982,0.004376672625391251,0.0042720094059421725,0.004178312985934617,0.00410120856449723,0.004032571970394627,0.003958766243471776,0.0038743890060394834,0.0037865373729607243,0.003705211772274549,0.003630486616718817,0.0035503984587663363,0.0034519863728017814,0.0033341556150912302,0.003209467819823605,0.003093663148594689,0.002993927487906158,0.002907076767484162,0.002827659485989926,0.0027559001395888873,0.002696822827663914,0.0026524131668544683,0.0026164333898665024,0.0025782873154497963,0.0025321212691347497,0.0024814855511756948,0.0024346191331692294,0.002395411765612314,0.0023595137862278005,0.0023193388005089796,0.002272208323655445,0.0022228032354264012,0.002177469676151186,0.0021367001256613455,0.0020939074212781117,0.0020417614182650567,0.001979373317541391,0.0019129142096826837,0.001849290728674416,0.0017896244025145237,0.0017291201308502042,0.001663029030166163,0.001592281833149072,0.0015232057774001422,0.0014621559657062911,0.0014108752719385466,0.001366971649769647,0.0013281331624157538,0.0012949932846305304,0.0012696255786820484,0.001251807149378815,0.001237652058195899,0.0012224405930920932,0.001204713459492835,0.0011872380895694287,0.001173815096622283,0.0011653292954692078,0.0011591340175560638,0.0011521214553732017,0.0011438037230472496,0.0011357947440601896,0.0011281496033271029,0.0011166658611278075,0.0010945201298583288,0.001057225642762912,0.0010064319563556716,0.0009491026916232212,0.0008929709348137611,0.0008424200027279688,0.0007979983492373451,0.000758980698523435,0.0007257559677816233,0.0006997621585101789,0.0006817218028714538,0.000670630664914731,0.0006646991431589306,0.0006629547482129437,0.0006654073456732743,0.0006714239097214767,0.000678211065978712,0.0006814520090415761,0.0006779205394666949,0.0006676751576561379,0.0006536561938340503,0.0006390161774477276,0.0006247152878922673,0.0006095394843455208,0.0005921913414850454,0.000573097573991077,0.0005540881599795942,0.0005364588701276485,0.0005195968932030968,0.0005016530670055618,0.00048155221184581194,0.00046029925830168007,0.0004403690812703483,0.0004239425881943866,0.000411753778241759,0.0004034110304943207,0.0003983860682823996,0.00039627887767284983,0.0003960211780903694,0.0003951139358657477,0.00039017337691118033,0.0003787575790471304,0.0003610475759533422,0.0003399441096874777,0.0003195243314015957,0.00030316423765487123,0.00029265997280229826,0.0002885059687185985,0.00029043826740768753,0.0002974731676238903,0.00030765016457400164,0.00031829012911570363,0.0003270652106096913,0.0003331259075661697,0.0003371907568903973,0.0003403828042797011,0.00034284441114982304,0.0003434446963773009,0.00034084167761896017,0.0003348143561040888,0.0003265223367087447,0.0003174502485013013,0.00030811626166077317,0.00029782308243682344,0.0002856457304724797,0.0002716324193097186,0.0002570652990384758,0.00024363168392465775,0.0002323963449969756,0.0002235071720142803,0.000216687240418877,0.00021177390806375034,0.0002086712246275252,0.00020687193602058788,0.00020525211810798008,0.00020254482793350794,0.00019811304105238751,0.00019224918745719812,0.00018566938042576211,0.00017868272059115903,0.0001708494112909957,0.00016146087843405162,0.00015038670885977683,0.0001385227241391957,0.00012749590873701306,0.00011895049752111622,0.00011399222258678084,0.00011304678708929183,0.00011593468332706177,0.00012188110505645257,0.0001294877876897021,0.00013695337761624848,0.0001426697077947023,0.00014588006701237198,0.00014686956385677284,0.00014647762516335424,0.00014531614689872416,0.0001433514695574822,0.00014016376727108478,0.000135559777438444,0.00012991250164550927,0.0001239185950969495,0.00011805645299005205,0.00011229490027119064,0.00010630669756275572,9.992404730954864e-05,9.33670763232437e-05,8.705316050828538e-05,8.122887109679968e-05,7.581061606143764e-05,7.056740887453742e-05,6.542913034351356e-05,6.061333572060378e-05,5.6483986659664426e-05,5.332181864067366e-05,5.1228329017733846e-05,5.020197792954297e-05,5.024556968861191e-05,5.1376312680703524e-05,5.356563936206722e-05,5.672793351228554e-05,6.079079691834169e-05,6.572618681650118e-05,7.14113462101075e-05,7.737653546960052e-05,8.269372075425796e-05,8.622154598133527e-05,8.712689392667614e-05,8.531701859275708e-05,8.143603183154965e-05,7.642045305651444e-05,7.096587741556441e-05,6.530188371794321e-05,5.937736096020422e-05,5.321332726388139e-05,4.709402390490112e-05,4.1474389585941743e-05,3.674661629654157e-05,3.308543919023676e-05,3.0457828446481222e-05,2.8714824550931748e-05,2.764860411952737e-05,2.6993505516959392e-05,2.6440683515455106e-05,2.571914880221822e-05,2.4703481006836236e-05,2.3455124308764872e-05,2.215331666505744e-05,2.0970489390424074e-05,1.999081094444075e-05,1.9217656825908136e-05,1.8627065017832243e-05,1.819248552216204e-05,1.7857173032413303e-05,1.7501624434375766e-05,1.6965542976159275e-05,1.6125790698583085e-05,1.4967842218755765e-05,1.3586507305101925e-05,1.2113699350880587e-05,1.063441043455613e-05,9.157246209703928e-06,7.653474107730595e-06,6.121542066708506e-06,4.621476270969869e-06,3.257395102057332e-06,2.1294587379422787e-06,1.2934901397252248e-06,7.521579547860564e-07,4.758357626171473e-07,4.3474061249873447e-07,6.225872426434168e-07,1.059656205280746e-06,1.7729965241082435e-06,2.7615557389963573e-06,3.963794731214172e-06,5.249866065893074e-06,6.45179293452175e-06,7.422081978271196e-06,8.087231911395993e-06,8.459160252892026e-06,8.594253195633198e-06,8.52963443440074e-06,8.24605237389511e-06,7.686891513782923e-06,6.8181336240323024e-06,5.682216108171743e-06,4.405444997185298e-06,3.155266234885471e-06,2.078030305968117e-06,1.2547951735384696e-06,6.93460005225724e-07,3.503700067041936e-07,1.6173611365628086e-07,6.818568789113523e-08,2.6247348219451475e-08,9.224103820956987e-09,2.959199453294992e-09,8.665921005128054e-10,2.3165052432052868e-10,5.6522673855031087e-11,1.2588740656252363e-11,2.5600792083158875e-12,4.815628729478191e-13,1.2497616433375417e-13,2.8327483272919995e-13,1.5048478486251573e-12,7.614326069028668e-12,3.520559762351684e-11,1.4858136893941132e-10,5.72370763046082e-10,2.012568525947095e-09,6.4592791276232645e-09,1.8922458814896904e-08,5.0597752417555566e-08,1.2349376270858786e-07,2.7511797202694226e-07,5.594393883406459e-07,1.0383583506319296e-06,1.7591449262487343e-06,2.720295736387559e-06,3.839642253532076e-06,4.946813579317955e-06,5.817286683893174e-06,6.244181672832898e-06,6.1177360330332355e-06,5.470991987805122e-06,4.46582359498095e-06,3.3273400675875546e-06,2.2628353582339953e-06,1.4046523928009685e-06,7.958750883150576e-07,4.1160543376413994e-07,1.9430207045602433e-07,8.372090186335342e-08,3.292687449306056e-08,1.1820266251997825e-08,3.873148518939387e-09,1.1584070256267097e-09,3.1624113176434513e-10,7.880171493565733e-11,1.7923099799615963e-11,3.7209232990567865e-12,7.050963400001433e-13,1.2195702365570788e-13,1.9255587447239096e-14,2.788381340838462e-15,4.853004151029053e-16,1.0039821547175517e-15,6.9972217956972105e-15,4.648083730469165e-14,2.820150378437989e-13,1.5618387662603142e-12,7.895183289580854e-12,3.6429361144100695e-11,1.5342862899047247e-10,5.89834902215774e-10,2.0698077130643194e-09,6.630031221084004e-09,1.9386751071880976e-08,5.175216427429959e-08,1.2613536498782296e-07,2.8074743617731305e-07,5.708336279762374e-07,1.0608651558983422e-06,1.803732103456926e-06,2.810057128075324e-06,4.021474492528411e-06,5.308055243925427e-06,6.502327643524517e-06,7.459545154007224e-06,8.1103994725795e-06,8.47011672589208e-06,8.595582779071577e-06,8.521765184453003e-06,8.226836551698053e-06],\"yaxis\":\"y\",\"type\":\"scatter\"},{\"legendgroup\":\"Gold Medalist\",\"marker\":{\"color\":\"rgb(255, 127, 14)\"},\"mode\":\"lines\",\"name\":\"Gold Medalist\",\"showlegend\":true,\"x\":[13.0,13.102,13.204,13.306,13.408,13.51,13.612,13.714,13.816,13.918,14.02,14.122,14.224,14.326,14.428,14.53,14.632,14.734,14.836,14.938,15.04,15.142,15.244,15.346,15.448,15.55,15.652000000000001,15.754,15.856,15.958,16.06,16.162,16.264,16.366,16.468,16.57,16.672,16.774,16.876,16.978,17.08,17.182000000000002,17.284,17.386,17.488,17.59,17.692,17.794,17.896,17.998,18.1,18.201999999999998,18.304000000000002,18.406,18.508,18.61,18.712,18.814,18.916,19.018,19.12,19.222,19.323999999999998,19.426000000000002,19.528,19.63,19.732,19.834,19.936,20.038,20.14,20.242,20.344,20.445999999999998,20.548000000000002,20.65,20.752,20.854,20.956,21.058,21.16,21.262,21.364,21.466,21.567999999999998,21.67,21.772,21.874000000000002,21.976,22.078,22.18,22.282,22.384,22.486,22.588,22.689999999999998,22.792,22.894,22.996000000000002,23.098,23.2,23.302,23.404,23.506,23.608,23.71,23.811999999999998,23.914,24.016,24.118000000000002,24.22,24.322,24.424,24.526,24.628,24.73,24.832,24.933999999999997,25.036,25.137999999999998,25.240000000000002,25.342,25.444000000000003,25.546,25.648,25.75,25.852,25.954,26.055999999999997,26.158,26.259999999999998,26.362000000000002,26.464,26.566000000000003,26.668,26.77,26.872,26.974,27.076,27.178,27.28,27.381999999999998,27.484,27.586,27.688000000000002,27.79,27.892,27.994,28.096,28.198,28.3,28.402,28.503999999999998,28.606,28.708,28.810000000000002,28.912,29.014,29.116,29.218,29.32,29.422,29.524,29.626,29.728,29.83,29.932,30.034,30.136,30.238,30.34,30.442,30.544,30.646,30.748,30.85,30.952,31.054,31.156,31.258,31.36,31.462,31.564,31.666,31.768,31.87,31.972,32.074,32.176,32.278,32.379999999999995,32.482,32.584,32.686,32.788,32.89,32.992000000000004,33.094,33.196,33.298,33.4,33.501999999999995,33.604,33.706,33.808,33.91,34.012,34.114000000000004,34.216,34.318,34.42,34.522,34.623999999999995,34.726,34.828,34.93,35.032,35.134,35.236000000000004,35.338,35.44,35.542,35.644,35.745999999999995,35.848,35.95,36.052,36.153999999999996,36.256,36.358000000000004,36.46,36.562,36.664,36.766,36.867999999999995,36.97,37.072,37.174,37.275999999999996,37.378,37.480000000000004,37.582,37.684,37.786,37.888000000000005,37.989999999999995,38.092,38.194,38.296,38.397999999999996,38.5,38.602000000000004,38.704,38.806,38.908,39.010000000000005,39.111999999999995,39.214,39.316,39.418,39.519999999999996,39.622,39.724000000000004,39.826,39.928,40.03,40.132000000000005,40.234,40.336,40.438,40.54,40.641999999999996,40.744,40.846000000000004,40.948,41.05,41.152,41.254000000000005,41.356,41.458,41.56,41.662,41.763999999999996,41.866,41.968,42.07,42.172,42.274,42.376000000000005,42.478,42.58,42.682,42.784,42.885999999999996,42.988,43.09,43.192,43.294,43.396,43.498000000000005,43.6,43.702,43.804,43.906,44.007999999999996,44.11,44.212,44.314,44.416,44.518,44.620000000000005,44.722,44.824,44.926,45.028,45.13,45.232,45.334,45.436,45.538,45.64,45.742,45.844,45.946,46.048,46.15,46.252,46.354,46.456,46.558,46.66,46.762,46.864,46.966,47.068,47.17,47.272,47.374,47.476,47.578,47.68,47.782,47.884,47.986,48.088,48.19,48.292,48.394,48.496,48.598,48.7,48.802,48.904,49.006,49.108,49.21,49.312,49.414,49.516,49.618,49.72,49.822,49.924,50.026,50.128,50.23,50.332,50.434,50.536,50.638,50.74,50.842,50.944,51.046,51.148,51.25,51.352,51.454,51.556,51.658,51.76,51.862,51.964,52.066,52.168,52.27,52.372,52.474,52.576,52.678,52.78,52.882,52.984,53.086,53.188,53.29,53.392,53.494,53.596,53.698,53.8,53.902,54.004,54.106,54.208,54.31,54.412,54.514,54.616,54.718,54.82,54.922,55.024,55.126,55.228,55.33,55.432,55.534,55.636,55.738,55.84,55.942,56.044,56.146,56.248,56.35,56.452,56.554,56.656,56.758,56.86,56.962,57.064,57.166,57.268,57.37,57.472,57.574,57.676,57.778,57.88,57.982,58.084,58.186,58.288,58.39,58.492,58.594,58.696,58.798,58.9,59.002,59.104,59.206,59.308,59.41,59.512,59.614,59.716,59.818,59.92,60.022,60.124,60.226,60.328,60.43,60.532,60.634,60.736,60.838,60.94,61.042,61.144,61.246,61.348,61.45,61.552,61.654,61.756,61.858,61.96,62.062,62.164,62.266,62.368,62.47,62.572,62.674,62.776,62.878,62.98,63.082,63.184,63.286,63.388,63.49,63.592,63.694,63.796,63.898],\"xaxis\":\"x\",\"y\":[0.0009551539107415151,0.0010448657896759588,0.001141578686355887,0.0012463144999423352,0.0013601613433456628,0.0014842254199585437,0.0016195787178857415,0.0017672069696512982,0.0019279626496806407,0.002102527647454876,0.0022913896404255295,0.0024948351287829096,0.0027129606675396945,0.0029457021700998905,0.003192880425759184,0.0034542593526088916,0.003729612174803415,0.004018789822245127,0.0043217855112100585,0.004638789728697811,0.004970230699114366,0.005316796783034574,0.005679439011800162,0.006059353924347036,0.006457948846212505,0.006876793534519106,0.007317563523269346,0.007781981391853271,0.008271762447008495,0.008788570914341333,0.009333991703963287,0.009909521233264747,0.010516578803329462,0.011156537824346884,0.01183077398832054,0.012540725519914728,0.013287959107095482,0.014074234190952939,0.014901558087334043,0.015772224957078147,0.01668883289353218,0.017654275238264027,0.018671704489255415,0.019744469608642803,0.020876029927854766,0.022069850949927267,0.023329288952313898,0.024657472236365986,0.026057187052902796,0.027530775632612598,0.02908005242122514,0.0307062426971012,0.03240994543622155,0.03419111983927581,0.03604909262168579,0.03798258125103323,0.03998972701099377,0.04206813121117837,0.04421488808693811,0.04642660888120452,0.04869943312691866,0.05102902505275167,0.05341055509565573,0.0558386685140027,0.05830744488475355,0.06081035371330493,0.06334021240403535,0.06588915337861923,0.06844860714875318,0.07100930761883588,0.07356132479760384,0.07609412845680741,0.07859668417033777,0.08105758075727845,0.08346518567410743,0.08580782264284745,0.08807396405936639,0.09025242973348915,0.09233258339245581,0.094304519095379,0.09615923106973773,0.09788876218279162,0.0994863279489763,0.10094641433696007,0.10226484848670514,0.10343884175341708,0.10446700440521862,0.10534933107978216,0.10608715605955471,0.10668307781078136,0.10714085318201698,0.10746526313785082,0.10766195372510182,0.10773725783345019,0.10769800489404668,0.10755132668079288,0.10730446767194575,0.10696460796494918,0.10653870561184603,0.10603336363980372,0.10545472516241698,0.1048083980782708,0.10409940905888096,0.10333218495962032,0.10251055851419373,0.10163779423970551,0.10071662991789661,0.09974932885498375,0.09873773836584518,0.09768335055583499,0.09658736241461975,0.09545073337323395,0.09427423965197229,0.09305852577711683,0.09180415442600222,0.09051165617978697,0.08918158079581753,0.08781455129113647,0.08641132153432661,0.08497283726600449,0.08350029959124726,0.08199522907011168,0.08045952761585222,0.07889553453663929,0.07730607228915105,0.07569447695536881,0.07406460824852272,0.07242083415930722,0.0707679863048022,0.06911128370550453,0.06745622504700592,0.06580845230829552,0.0641735916641418,0.06255708041857863,0.06096399099961278,0.05939886438858171,0.05786556552214062,0.05636717209072092,0.05490590582815735,0.05348311205734702,0.05209928926092783,0.05075416619024644,0.049446819940398,0.04817582491089332,0.046939419985426646,0.04573567985395687,0.044562676306244706,0.04341861656325537,0.04230194816708494,0.0412114233845344,0.04014612015544267,0.039105420923607866,0.038088954788526835,0.037096511893148845,0.03612794146844731,0.03518304625102548,0.03426148596936292,0.03336270129355634,0.03248586722887955,0.03162988167710765,0.030793391135420015,0.029974851628386156,0.02917261934957601,0.02838506246559353,0.027610683384497202,0.026848239705122574,0.02609685213572837,0.025356088880319476,0.024626018208204387,0.02390722391336549,0.023200781820835625,0.022508199045491593,0.021831320985905314,0.021172213711919297,0.020533031227940347,0.01991587792207286,0.019322676324500444,0.018755049196436134,0.018214223150580525,0.017700958726860852,0.017215509398455724,0.016757609632886805,0.01632649010270406,0.015920916581426598,0.015539248044293606,0.01517950901458117,0.01483947118500752,0.014516739686274736,0.014208839936101484,0.013913301649872707,0.013627737218431232,0.013349912187108688,0.013077805974996672,0.012809661270178858,0.012544020775255914,0.012279750227377166,0.012016046948068794,0.011752433642634777,0.011488737786703396,0.01122505768856823,0.01096171714131193,0.010699211389358773,0.010438147826646453,0.010179185318363456,0.009922976216785404,0.009670114980402444,0.009421096802116965,0.009176288846212003,0.008935915659788974,0.008700059161742761,0.008468672432150057,0.008241605437055984,0.008018639925286633,0.007799530100694016,0.007584045352710958,0.007372011336364239,0.007163346013771141,0.0069580878565201135,0.006756414191207983,0.006558648561206164,0.006365256882548042,0.006176833002299663,0.005994074952096946,0.0058177536815900086,0.0056486763407035635,0.005487646270728857,0.005335421802202374,0.005192675797641847,0.0050599576782259905,0.0049376594852112154,0.004825987380183853,0.004724939889166075,0.004634294124601636,0.004553601135776436,0.004482191389713001,0.004419191118270497,0.00436354984277723,0.004314078788455239,0.004269499142252921,0.004228498239393891,0.004189790868186598,0.004152182065743188,0.00411462715656103,0.0040762844734117685,0.004036556284852461,0.003995113986469948,0.003951904593851177,0.003907136948554424,0.003861247704593459,0.0038148489487366383,0.0037686610423951264,0.0037234357687279127,0.0036798759548926046,0.0036385582829523526,0.0035998659255582874,0.003563936931486263,0.0035306329971510723,0.0034995315122793944,0.003469941730525064,0.00344094379068458,0.0034114473131492337,0.003380264617953533,0.0033461924188136973,0.0033080952523667465,0.0032649839488238883,0.003216083115311737,0.0031608827964347426,0.0030991710541967777,0.00303104599179638,0.0029569075401579444,0.0028774309499727292,0.002793525234964744,0.0027062806917235926,0.002616910032567759,0.002526687623117996,0.002436890878632116,0.0023487471426092725,0.0022633884671957737,0.0021818157585524957,0.0021048728482874657,0.0020332302851488702,0.0019673780583304126,0.0019076260815689063,0.0018541110744208515,0.0018068084421946557,0.0017655478364529162,0.0017300312290734238,0.0016998525148474051,0.0016745178403840214,0.0016534660219679363,0.0016360885539367957,0.0016217488221526286,0.0016098002288577097,0.0015996030113221962,0.001590539601259481,0.0015820284260199052,0.0015735360941215005,0.0015645879331532516,0.001554776854368056,0.0015437705048823881,0.0015313166390443487,0.0015172466036083724,0.0015014767990038406,0.001484007964952568,0.0014649221554123698,0.0014443773234090085,0.0014225995321798196,0.0013998729387925965,0.0013765278462806111,0.0013529272712719093,0.0013294526048360023,0.001306489035064305,0.0012844114359024474,0.001263571400564688,0.001244286010688308,0.0012268287936966393,0.0012114231466711953,0.0011982383153598887,0.0011873878326295413,0.001178930160541138,0.0011728711587722144,0.0011691679280289712,0.0011677335528357225,0.00116844229033629,0.0011711348125673085,0.0011756231981536983,0.0011816954733593686,0.0011891196100356578,0.001197646988871008,0.001207015422261074,0.0012169518962562114,0.0012271752317309494,0.001237398879239807,0.0012473340494266803,0.0012566933419857352,0.00126519497299885,0.0012725676166928457,0.0012785557791938397,0.0012829255171996803,0.0012854702146065967,0.0012860160476948657,0.0012844267174692487,0.0012806070174578661,0.0012745048441791386,0.0012661113473990515,0.0012554590532370229,0.0012426179633186977,0.001227689820004568,0.0012108009102211564,0.0011920939369035218,0.0011717195981813134,0.0011498285658262564,0.0011265645385323635,0.0011020589623071738,0.0010764278669325121,0.0010497710776560198,0.0010221738430938748,0.000993710694444325,0.0009644511388172491,0.0009344666108023011,0.0009038379784181708,0.0008726628349967953,0.000841061814429211,0.0008091832440942342,0.0007772055913436861,0.00074533735256906,0.0007138142598752914,0.0006828939166122149,0.0006528481954595964,0.0006239539189333808,0.00059648247395938,0.0005706890781632266,0.0005468024125479578,0.0005250152684880815,0.0005054767390682555,0.0004882863336078202,0.000473490230016139,0.0004610797220102147,0.00045099178330601535,0.00044311156926069934,0.0004372766121894848,0.0004332824374921091,0.0004308893265119886,0.00042982996835733253,0.0004298177656579652,0.00043055557885768,0.00043174470384259664,0.00043309387633579425,0.00043432808553391154,0.0004351969641287279,0.0004354825090151865,0.0004350058833297642,0.00043363306080273215,0.00043127909949478585,0.00042791087211475784,0.00042354812960042267,0.00041826282709208853,0.0004121766904606229,0.0004054570426064775,0.00039831094049640035,0.00039097769891147967,0.0003837199012707078,0.0003768130300461707,0.0003705338977419314,0.0003651481304204117,0.0003608970509750617,0.000357984424161313,0.00035656364838977943,0.00035672609299000374,0.00035849136265152953,0.00036180030084933325,0.00036651150208868137,0.00037240197640224173,0.0003791723962979972,0.00038645706572745477,0.00039383840408361713,0.0004008653675416467,0.00040707487387672955,0.0004120149959143772,0.00041526848016638435,0.00041647505926239845,0.0004153510744939809,0.00041170510720680604,0.00040544861765352667,0.00039660097570371866,0.00038528869781899244,0.000371739132832296,0.0003562692211132074,0.00033927025129533217,0.00032118973197929797,0.00030251157379488307,0.00028373574612678375,0.00026535845182216393,0.00024785368030277454,0.00023165678642198014,0.00021715052931697203,0.00020465381656551332,0.00019441324931849426,0.0001865974588149097,0.00018129415962965845,0.00017850980919583174,0.00017817174225690354,0.0001801326289264432,0.0001841770754447208,0.00019003014260305856,0.00019736749952650845,0.00020582686696177393,0.00021502034489162254,0.00022454717560435226,0.00023400647488776364,0.00024300947632783831,0.0002511908769609121,0.0002582189415225951,0.00026380410772819596,0.0002677059246234495,0.0002697382385164788,0.00026977260742851595,0.00026773997086403583,0.0002636306276349358,0.0002574925858603667,0.000249428354769379,0.0002395902573154249,0.00022817436428863852,0.00021541318952686923,0.0002015673420662722,0.0001869163995371796,0.00017174933829681015,0.00015635491751526815,0.00014101245413925193,0.0001259834328350676,0.00011150436323701288,9.778122507467665e-05,8.498573474299496e-05,7.325353444118345e-05,6.268426063508639e-05,5.334330749315735e-05,4.526497791346158e-05,3.8456622304952136e-05,3.2903312192998293e-05,2.8572586244602454e-05,2.5418840034352435e-05,2.33870031166461e-05,2.2415249607340684e-05,2.243661098135123e-05,2.3379490334518842e-05,2.5167203852764257e-05,2.7716786256822443e-05,3.093738257530879e-05,3.4728600893256746e-05,3.897921457305605e-05,4.3566575862358825e-05,4.835703730371586e-05,5.320757809215517e-05,5.7968708115450673e-05,6.248858444261875e-05,6.661813713024442e-05,7.021687779097923e-05,7.315896903931566e-05,7.533907692743222e-05,7.667751916565345e-05],\"yaxis\":\"y\",\"type\":\"scatter\"},{\"legendgroup\":\"Silver Medalist\",\"marker\":{\"color\":\"rgb(44, 160, 44)\"},\"mode\":\"lines\",\"name\":\"Silver Medalist\",\"showlegend\":true,\"x\":[11.0,11.124,11.248,11.372,11.496,11.62,11.744,11.868,11.992,12.116,12.24,12.364,12.488,12.612,12.736,12.86,12.984,13.108,13.232,13.356,13.48,13.604,13.728,13.852,13.975999999999999,14.1,14.224,14.347999999999999,14.472,14.596,14.72,14.844,14.968,15.091999999999999,15.216000000000001,15.34,15.464,15.588000000000001,15.712,15.836,15.96,16.084,16.208,16.332,16.456,16.58,16.704,16.828,16.951999999999998,17.076,17.2,17.323999999999998,17.448,17.572,17.695999999999998,17.82,17.944,18.067999999999998,18.192,18.316,18.44,18.564,18.688,18.812,18.936,19.060000000000002,19.183999999999997,19.308,19.432000000000002,19.555999999999997,19.68,19.804000000000002,19.928,20.052,20.176000000000002,20.3,20.424,20.548000000000002,20.672,20.796,20.92,21.044,21.168,21.292,21.416,21.54,21.664,21.788,21.912,22.036,22.16,22.284,22.408,22.532,22.656,22.78,22.904,23.028,23.152,23.276,23.4,23.524,23.648,23.772,23.896,24.02,24.144,24.268,24.392,24.516,24.64,24.764,24.887999999999998,25.012,25.136,25.259999999999998,25.384,25.508,25.631999999999998,25.756,25.880000000000003,26.003999999999998,26.128,26.252000000000002,26.375999999999998,26.5,26.624000000000002,26.747999999999998,26.872,26.996000000000002,27.12,27.244,27.368,27.492,27.616,27.74,27.864,27.988,28.112,28.236,28.36,28.484,28.608,28.732,28.856,28.98,29.104,29.228,29.352,29.476,29.6,29.724,29.848,29.972,30.096,30.22,30.344,30.468,30.592,30.716,30.84,30.964,31.088,31.212,31.336,31.46,31.584,31.708,31.832,31.956,32.08,32.204,32.328,32.452,32.576,32.7,32.824,32.948,33.072,33.196,33.32,33.444,33.568,33.692,33.816,33.94,34.064,34.188,34.312,34.436,34.56,34.684,34.808,34.932,35.056,35.18,35.304,35.428,35.552,35.676,35.8,35.924,36.048,36.172,36.296,36.42,36.544,36.668,36.792,36.916,37.04,37.164,37.288,37.412,37.536,37.66,37.784,37.908,38.032,38.156,38.28,38.403999999999996,38.528,38.652,38.775999999999996,38.9,39.024,39.147999999999996,39.272,39.396,39.519999999999996,39.644,39.768,39.891999999999996,40.016,40.14,40.263999999999996,40.388000000000005,40.512,40.635999999999996,40.760000000000005,40.884,41.007999999999996,41.132000000000005,41.256,41.379999999999995,41.504000000000005,41.628,41.751999999999995,41.876000000000005,42.0,42.123999999999995,42.248000000000005,42.372,42.495999999999995,42.620000000000005,42.744,42.867999999999995,42.992000000000004,43.116,43.24,43.364,43.488,43.612,43.736,43.86,43.984,44.108,44.232,44.356,44.48,44.604,44.728,44.852,44.976,45.1,45.224,45.348,45.472,45.596,45.72,45.844,45.968,46.092,46.216,46.34,46.464,46.588,46.712,46.836,46.96,47.084,47.208,47.332,47.456,47.58,47.704,47.828,47.952,48.076,48.2,48.324,48.448,48.572,48.696,48.82,48.944,49.068,49.192,49.316,49.44,49.564,49.688,49.812,49.936,50.06,50.184,50.308,50.432,50.556,50.68,50.804,50.928,51.052,51.176,51.3,51.424,51.548,51.672,51.796,51.92,52.044,52.168,52.292,52.416,52.54,52.664,52.788,52.912,53.036,53.16,53.284,53.408,53.532,53.656,53.78,53.904,54.028,54.152,54.276,54.4,54.524,54.648,54.772,54.896,55.02,55.144,55.268,55.392,55.516,55.64,55.764,55.888,56.012,56.136,56.26,56.384,56.508,56.632,56.756,56.88,57.004,57.128,57.252,57.376,57.5,57.624,57.748,57.872,57.996,58.12,58.244,58.368,58.492,58.616,58.74,58.864,58.988,59.112,59.236,59.36,59.484,59.608,59.732,59.856,59.98,60.104,60.228,60.352,60.476,60.6,60.724,60.848,60.972,61.096,61.22,61.344,61.468,61.592,61.716,61.84,61.964,62.088,62.212,62.336,62.46,62.584,62.708,62.832,62.956,63.08,63.204,63.328,63.452,63.576,63.7,63.824,63.948,64.072,64.196,64.32,64.444,64.568,64.69200000000001,64.816,64.94,65.064,65.188,65.312,65.436,65.56,65.684,65.80799999999999,65.932,66.056,66.18,66.304,66.428,66.55199999999999,66.676,66.8,66.924,67.048,67.172,67.29599999999999,67.42,67.544,67.668,67.792,67.916,68.03999999999999,68.164,68.288,68.412,68.536,68.66,68.78399999999999,68.908,69.032,69.156,69.28,69.404,69.52799999999999,69.652,69.77600000000001,69.9,70.024,70.148,70.27199999999999,70.396,70.52000000000001,70.644,70.768,70.892,71.01599999999999,71.14,71.26400000000001,71.388,71.512,71.636,71.75999999999999,71.884,72.00800000000001,72.132,72.256,72.38,72.50399999999999,72.628,72.75200000000001,72.876],\"xaxis\":\"x\",\"y\":[0.0002569045968595906,0.00028981917506079927,0.00032513779967668764,0.00036305348531334177,0.0004038635706148171,0.00044799067074805345,0.0004959976658369033,0.0005485935615292173,0.0006066274456516772,0.0006710687091462574,0.0007429731911570781,0.0008234368301102807,0.0009135405258975617,0.0010142919202001427,0.0011265713075271817,0.0012510895319470738,0.0013883652172415886,0.0015387268858159525,0.0017023425146704611,0.0018792751566542182,0.0020695589395378663,0.0022732857187668523,0.002490689636990292,0.0027222155086032043,0.002968557788193166,0.00323066009112848,0.0035096706405481244,0.003806856060667164,0.0041234837171434365,0.004460690163466613,0.004819358920225211,0.0052000335940080075,0.005602891305433311,0.0060277960730366715,0.006474442339813694,0.006942586081771754,0.007432346435794286,0.007944546601082968,0.008481051252403823,0.00904505111218312,0.009641245422032329,0.010275880715940518,0.010956619263524127,0.011692231316009478,0.012492129217255267,0.013365785108346144,0.014322093635973934,0.01536875336188273,0.0165117429682211,0.01775495978005148,0.019100069205582028,0.02054658677075707,0.02209218326882008,0.023733172784124634,0.025465117703958626,0.027283468304430236,0.02918414966536417,0.031164016241663938,0.03322111313080824,0.03535470995693246,0.037565104220383054,0.03985322138850577,0.04222006468354583,0.044666085129348755,0.04719054995220021,0.049790984411807446,0.052462749576057115,0.055198798742569465,0.05798963136846571,0.06082343914635235,0.06368641776185352,0.06656320264961041,0.06943737926725775,0.07229201808506992,0.07511019029429192,0.07787542984460073,0.08057211820353019,0.08318577798577319,0.08570326909782133,0.08811288621441261,0.09040436012230639,0.09256876902543149,0.09459837039179245,0.09648636974646878,0.09822664953536997,0.09981348766999033,0.10124130017434647,0.1025044441641953,0.10359711528407119,0.10451336733070135,0.10524727123038052,0.10579321639077593,0.10614634074116919,0.1063030580567145,0.10626163454770703,0.10602275375912927,0.10559000223460839,0.10497021029421062,0.10417359358531024,0.10321366098562097,0.10210688032907089,0.1008721212424111,0.09952991954832069,0.09810162617247838,0.09660851272556409,0.09507090532716908,0.09350740913479172,0.09193427115163212,0.09036491148740894,0.08880963634819711,0.08727553178878149,0.08576652670893249,0.08428360668936646,0.08282515625013588,0.0813874047943921,0.07996494970512423,0.07855132796092458,0.07713960497123801,0.07572294651745654,0.074295137749721,0.07285101352228945,0.07138676831407477,0.06990012243671527,0.06839033414012298,0.06685806344605878,0.06530511093281875,0.06373407050644778,0.06214794664547745,0.06054979149394071,0.05894241434454307,0.05732820560305843,0.05570910056670813,0.05408668753956795,0.05246244278121919,0.05083805456828856,0.049215783104916234,0.047598794522205314,0.04599140733559409,0.044399198986294866,0.04282893769803216,0.04128832872121074,0.039785590843172444,0.03832890482521559,0.03692579611658626,0.03558252637840141,0.03430356991544552,0.03309124166941823,0.031945524383751055,0.030864116858185235,0.02984269682090775,0.028875365112955742,0.027955216454792993,0.027074968895839494,0.02622758057808307,0.025406788565328336,0.02460751864499619,0.02382613453735454,0.023060516584247737,0.022309980456044324,0.021575062969673996,0.02085721296660911,0.020158429732508823,0.019480890143755158,0.018826599954661724,0.018197096207298077,0.017593218495501755,0.017014958247996256,0.01646138824976361,0.015930669609308445,0.015420130084403011,0.0149264055456203,0.014445634730109977,0.013973695780091893,0.013506471109665743,0.013040124982254325,0.012571376207718121,0.012097747179935824,0.011617770689539314,0.011131138002658632,0.010638775694786676,0.01014284434832314,0.009646658754951274,0.009154535761843276,0.008671581401527115,0.008203432712492954,0.0077559713625609044,0.0073350259754124516,0.006946078480993997,0.006593987625265759,0.006282740713673282,0.006015243195122232,0.005793154891160572,0.005616781208272639,0.005485026934487569,0.005395418553888003,0.00534419794037175,0.005326485722446444,0.005336506918083374,0.005367865415658158,0.005413848564935876,0.005467739583370108,0.005523114464216165,0.005574101925942652,0.005615589455725089,0.005643364961590442,0.005654190905786885,0.005645814885117847,0.00561692642365978,0.005567073543270434,0.005496554190978717,0.0054062969548937375,0.0052977431343472344,0.005172738764556459,0.00503344128430626,0.004882241757206292,0.004721700364544858,0.004554490593666828,0.004383346340283791,0.004211006110555092,0.004040149630652163,0.0038733243130566505,0.0037128619215131458,0.003560789015222516,0.003418737824186522,0.003287866555693144,0.003168799253176998,0.0030615948758590575,0.002965753136976713,0.0028802610164304233,0.0028036792176116885,0.002734262849574853,0.0026701060671597667,0.0026092970387490426,0.0025500680067492066,0.0024909256526569816,0.002430749433845132,0.002368849650044909,0.0023049820879894,0.0022393213988946108,0.002172400093127474,0.0021050235251199177,0.0020381730587531537,0.0019729096090636625,0.0019102881009220442,0.001851290459623476,0.0017967810953479514,0.001747485058172556,0.0017039856742989802,0.0016667359618690132,0.001636076739098354,0.0016122541747610234,0.001595430520153979,0.001585683690001015,0.0015829939093211602,0.0015872184317505403,0.0015980579590514866,0.0016150204723838597,0.0016373894124431104,0.0016642033162222749,0.0016942530735997512,0.001726101008372429,0.0017581232745682782,0.0017885739778758032,0.0018156664468095523,0.0018376646528770108,0.0018529762971883845,0.0018602387732910462,0.0018583901134978866,0.0018467189522528328,0.0018248901470244083,0.0017929455373246362,0.001751281941363763,0.0017006105167322752,0.0016419028251772126,0.001576329297382552,0.0015051954074025778,0.0014298799631262196,0.0013517787647311704,0.0012722557182422716,0.0011926024853784012,0.0011140069840420493,0.0010375305268679864,0.0009640930479194709,0.0008944656526237675,0.0008292695771060979,0.0007689805297265659,0.0007139373055630147,0.0006643535258323798,0.0006203313734893713,0.0005818762797098746,0.0005489116565211326,0.0005212929497617154,0.0004988204797820054,0.00048125072273636984,0.0004683058481726675,0.00045968146316952577,0.0004550526212312208,0.00045407824109794837,0.0004564041522842276,0.00046166504402066194,0.00046948564312030593,0.00047948148305574484,0.0004912596495227281,0.0005044198951614358,0.000518556505311091,0.000533261262934235,0.0005481277962900646,0.0005627574873573422,0.0005767669632099272,0.0005897969839089886,0.000601522289115378,0.0006116616986723954,0.0006199875238531157,0.000626333190654402,0.0006305979587236482,0.000632747778532678,0.0006328116761721966,0.0006308735637798582,0.0006270599812402433,0.0006215248900403676,0.0006144331589647962,0.0006059447062889655,0.000596201322218354,0.0005853179558212168,0.0005733797262686755,0.0005604451681289503,0.0005465553420476551,0.000531747557643369,0.0005160716955798271,0.0004996066015226658,0.0004824738492158427,0.0004648463827140623,0.0004469501434675061,0.0004290577020358232,0.0004114740282170151,0.00039451568944088726,0.0003784857912014954,0.00036364770261023424,0.00035020092213101516,0.0003382622728526028,0.0003278549876593948,0.0003189072409727044,0.0003112604543915006,0.0003046864335532192,0.00029891127303492134,0.0002936431590776089,0.0002886008176536281,0.00028353943969367787,0.00027827143377127966,0.00027268021070937163,0.00026672624861628,0.0002604457534655397,0.00025394315859286987,0.00024737936684546323,0.00024095795131101708,0.0002349114720141724,0.00022948967045099275,0.00022495065175837887,0.00022155536772695654,0.00021956489926264203,0.0002192393287637901,0.00022083649963545605,0.0002246087631763925,0.00023079595839217357,0.00023961336261242122,0.0002512341496262522,0.00026576691076768855,0.0002832299037782491,0.0003035247325082914,0.0003264129507319051,0.000351499458687684,0.0003782263944562281,0.0004058804566505265,0.0004336152654743904,0.00046048861319781896,0.000485512501787882,0.0005077120058540575,0.0005261875384748916,0.0005401742988974307,0.0005490927117308609,0.0005525845601737024,0.0005505311570345107,0.0005430520426015122,0.0005304850173409775,0.0005133504552032738,0.0004923044869464404,0.00046808657649900743,0.00044146715156271097,0.00041320034259600415,0.00038398569609982605,0.0003544411954223408,0.0003250883045259858,0.0002963482825319679,0.00026854787537549014,0.00024193177407485532,0.00021667895661562736,0.00019292015534726382,0.00017075412100855063,0.00015026097202312168,0.00013151160611366954,0.00011457280881599377,9.950824538292276e-05,8.637592651482818e-05,7.522298426125738e-05,6.607869951597521e-05,5.894672250589723e-05,5.3797365723367254e-05,5.056076403146484e-05,4.91216147672254e-05,4.931613804078975e-05,5.093182135126798e-05,5.371040684167066e-05,5.735441433065031e-05,6.153724773726467e-05,6.5916605189952e-05,7.015052822286195e-05,7.391503242362943e-05,7.692192747519389e-05,7.893522919624594e-05,7.978454770820642e-05,7.937403426587702e-05,7.768587703367981e-05,7.47779062149149e-05,7.077552206010725e-05,6.585879796676981e-05,6.0246138262552034e-05,5.417620855196265e-05,4.788996132496644e-05,4.1614446944784126e-05,3.55497652249949e-05,2.9860040521393863e-05,2.466877413866173e-05,2.0058422034206105e-05,1.607362890920001e-05,1.2727263322125906e-05,1.000825625382037e-05,7.89023602054105e-06,6.3400455249563695e-06,5.325384449043949e-06,4.821000592042929e-06,4.813031021414685e-06,5.301248055689402e-06,6.299094540170175e-06,7.831506365691853e-06,9.93063332076283e-06,1.2629697858071698e-05,1.5955384417433465e-05,1.9919327148840157e-05,2.450944460885209e-05,2.968202639916569e-05,3.5355570291899265e-05,4.140735982398403e-05,4.767363113630148e-05,5.395389180815225e-05,6.0019536859392244e-05,6.562639923700004e-05,7.053033992392372e-05,7.45045075584212e-05,7.735656158159649e-05,7.894402392289603e-05,7.918603986215361e-05,7.807018720909824e-05,7.565353071237567e-05,7.205779640879128e-05,6.745923729575702e-05,6.207437262915502e-05,5.614321940861395e-05,4.99118388226456e-05,4.3615975802491735e-05,3.746730089857971e-05,3.1643328891365085e-05,2.6281566873098383e-05,2.1477919454663273e-05,1.7288923005267477e-05,1.3737045160277652e-05,1.0818093430432914e-05,8.509723847604148e-06,6.78010217166158e-06,5.595908922679392e-06,4.929055586368881e-06,4.761659130136409e-06,5.0889838425397425e-06,5.920196120509969e-06,7.2768947245979516e-06,9.18949028668386e-06,1.1691629868865366e-05,1.48130070845556e-05,1.8571067442122747e-05,2.296230018742205e-05,2.7953976080407823e-05,3.347730881746998e-05,3.942304615458501e-05,4.5640400755251125e-05,5.193999135315985e-05,5.810108650404769e-05,6.388295830587401e-05,6.903962072768875e-05,7.333672427286827e-05,7.656898939837217e-05,7.857635946767922e-05],\"yaxis\":\"y\",\"type\":\"scatter\"},{\"legendgroup\":\"Bronze Medalist\",\"marker\":{\"color\":\"rgb(214, 39, 40)\"},\"mode\":\"lines\",\"name\":\"Bronze Medalist\",\"showlegend\":true,\"x\":[10.0,10.124,10.248,10.372,10.496,10.62,10.744,10.868,10.992,11.116,11.24,11.364,11.488,11.612,11.736,11.86,11.984,12.108,12.232,12.356,12.48,12.604,12.728,12.852,12.975999999999999,13.1,13.224,13.347999999999999,13.472,13.596,13.72,13.844,13.968,14.091999999999999,14.216000000000001,14.34,14.464,14.588000000000001,14.712,14.836,14.96,15.084,15.208,15.332,15.456,15.58,15.704,15.828,15.952,16.076,16.2,16.323999999999998,16.448,16.572,16.695999999999998,16.82,16.944,17.067999999999998,17.192,17.316,17.44,17.564,17.688,17.812,17.936,18.060000000000002,18.183999999999997,18.308,18.432000000000002,18.555999999999997,18.68,18.804000000000002,18.928,19.052,19.176000000000002,19.3,19.424,19.548000000000002,19.672,19.796,19.92,20.044,20.168,20.292,20.416,20.54,20.664,20.788,20.912,21.036,21.16,21.284,21.408,21.532,21.656,21.78,21.904,22.028,22.152,22.276,22.4,22.524,22.648,22.772,22.896,23.02,23.144,23.268,23.392,23.516,23.64,23.764,23.887999999999998,24.012,24.136,24.259999999999998,24.384,24.508,24.631999999999998,24.756,24.880000000000003,25.003999999999998,25.128,25.252000000000002,25.375999999999998,25.5,25.624000000000002,25.747999999999998,25.872,25.996000000000002,26.12,26.244,26.368,26.492,26.616,26.74,26.864,26.988,27.112,27.236,27.36,27.484,27.608,27.732,27.856,27.98,28.104,28.228,28.352,28.476,28.6,28.724,28.848,28.972,29.096,29.22,29.344,29.468,29.592,29.716,29.84,29.964,30.088,30.212,30.336,30.46,30.584,30.708,30.832,30.956,31.08,31.204,31.328,31.452,31.576,31.7,31.824,31.948,32.072,32.196,32.32,32.444,32.568,32.692,32.816,32.94,33.064,33.188,33.312,33.436,33.56,33.684,33.808,33.932,34.056,34.18,34.304,34.428,34.552,34.676,34.8,34.924,35.048,35.172,35.296,35.42,35.544,35.668,35.792,35.916,36.04,36.164,36.288,36.412,36.536,36.66,36.784,36.908,37.032,37.156,37.28,37.403999999999996,37.528,37.652,37.775999999999996,37.9,38.024,38.147999999999996,38.272,38.396,38.519999999999996,38.644,38.768,38.891999999999996,39.016,39.14,39.263999999999996,39.388000000000005,39.512,39.635999999999996,39.760000000000005,39.884,40.007999999999996,40.132000000000005,40.256,40.379999999999995,40.504000000000005,40.628,40.751999999999995,40.876000000000005,41.0,41.123999999999995,41.248000000000005,41.372,41.495999999999995,41.620000000000005,41.744,41.867999999999995,41.992000000000004,42.116,42.24,42.364,42.488,42.612,42.736,42.86,42.984,43.108,43.232,43.356,43.48,43.604,43.728,43.852,43.976,44.1,44.224,44.348,44.472,44.596,44.72,44.844,44.968,45.092,45.216,45.34,45.464,45.588,45.712,45.836,45.96,46.084,46.208,46.332,46.456,46.58,46.704,46.828,46.952,47.076,47.2,47.324,47.448,47.572,47.696,47.82,47.944,48.068,48.192,48.316,48.44,48.564,48.688,48.812,48.936,49.06,49.184,49.308,49.432,49.556,49.68,49.804,49.928,50.052,50.176,50.3,50.424,50.548,50.672,50.796,50.92,51.044,51.168,51.292,51.416,51.54,51.664,51.788,51.912,52.036,52.16,52.284,52.408,52.532,52.656,52.78,52.904,53.028,53.152,53.276,53.4,53.524,53.648,53.772,53.896,54.02,54.144,54.268,54.392,54.516,54.64,54.764,54.888,55.012,55.136,55.26,55.384,55.508,55.632,55.756,55.88,56.004,56.128,56.252,56.376,56.5,56.624,56.748,56.872,56.996,57.12,57.244,57.368,57.492,57.616,57.74,57.864,57.988,58.112,58.236,58.36,58.484,58.608,58.732,58.856,58.98,59.104,59.228,59.352,59.476,59.6,59.724,59.848,59.972,60.096,60.22,60.344,60.468,60.592,60.716,60.84,60.964,61.088,61.212,61.336,61.46,61.584,61.708,61.832,61.956,62.08,62.204,62.328,62.452,62.576,62.7,62.824,62.948,63.072,63.196,63.32,63.444,63.568,63.692,63.816,63.94,64.064,64.188,64.312,64.436,64.56,64.684,64.80799999999999,64.932,65.056,65.18,65.304,65.428,65.55199999999999,65.676,65.8,65.924,66.048,66.172,66.29599999999999,66.42,66.544,66.668,66.792,66.916,67.03999999999999,67.164,67.288,67.412,67.536,67.66,67.78399999999999,67.908,68.032,68.156,68.28,68.404,68.52799999999999,68.652,68.77600000000001,68.9,69.024,69.148,69.27199999999999,69.396,69.52000000000001,69.644,69.768,69.892,70.01599999999999,70.14,70.26400000000001,70.388,70.512,70.636,70.75999999999999,70.884,71.00800000000001,71.132,71.256,71.38,71.50399999999999,71.628,71.75200000000001,71.876],\"xaxis\":\"x\",\"y\":[9.21144202170373e-05,9.636211071726412e-05,0.00010045579630499955,0.0001046510244302169,0.00010923593692182291,0.00011450235328283622,0.00012071558147585382,0.0001280873540957601,0.0001367562500898488,0.00014677925936013993,0.0001581368355087152,0.0001707520189489602,0.00018452224042916768,0.00019936052487318727,0.0002152413031289933,0.00023224515679452066,0.00025059673320647813,0.0002706908192422982,0.00029310306712209853,0.00031858391343070607,0.00034803652264726306,0.0003824817731899834,0.00042301505555339863,0.0004707607071905653,0.0005268301221355909,0.000592288941068874,0.0006681373859730951,0.0007553060011235266,0.0008546671087424822,0.0009670604917669738,0.0010933304240238978,0.00123437031842205,0.0013911709696021416,0.001564868528989036,0.0017567887943264122,0.001968484931345006,0.0022017662177966314,0.0024587157323390724,0.0027416951190758375,0.0030533347443680433,0.00339650788323235,0.0037742882000846596,0.00418989086284885,0.00464659921297922,0.005147680950484249,0.005696300077573184,0.006295433015577533,0.006947798878064081,0.007655814308460302,0.008421582105668584,0.009246919820644656,0.010133429720309034,0.01108260551341421,0.0120959649274124,0.013175191748985017,0.014322267404381285,0.0155395713845085,0.0168299321529441,0.018196615387587222,0.01964324377040459,0.02117365099186361,0.02279168098641703,0.02450095052493032,0.026304598192223035,0.028205044745829543,0.03020378845647499,0.03230125422588218,0.034496707508901395,0.0367882343454528,0.03917277866617498,0.04164621930469755,0.044203463563752945,0.04683853292321254,0.049544619817045575,0.052314101608604016,0.05513850744521272,0.05800844374919779,0.06091349309266665,0.06384210805692533,0.06678152593843954,0.0697177317130821,0.07263549536634242,0.07551850516515161,0.07834961021128992,0.081111173562008,0.08378552214487846,0.08635546371185455,0.08880482732761671,0.09111897582063894,0.0932852388506587,0.09529322448460692,0.09713498378688099,0.0988050232827104,0.10030017972334816,0.10161938639325925,0.10276336801188041,0.10373430205530758,0.10453547982880863,0.10517099344447749,0.10564546727541547,0.10596384570540421,0.10613124319602966,0.10615285736021562,0.10603394047199231,0.10577981985070702,0.10539595361044854,0.10488800625487735,0.10426192891893643,0.1035240312283328,0.10268103453083816,0.10174009825669983,0.10070881160097547,0.0995951419288896,0.09840733071855455,0.0971537293992765,0.09584257261733442,0.09448169554555912,0.09307821360136904,0.0916381948832987,0.09016636486669577,0.0886658869390721,0.087138259813405,0.08558336363629206,0.08399967172573736,0.08238462610103771,0.08073515450132424,0.07904828688437734,0.07732181307902047,0.07555491296863874,0.07374868857044305,0.07190653493539224,0.07003430363895286,0.06814023657552491,0.06623467493921954,0.0643295739237962,0.06243787336765898,0.060572785356873236,0.05874706096246994,0.056972291393255665,0.05525828709113237,0.05361256542200701,0.05203996675973079,0.05054241163012301,0.049118808162667775,0.04776511789570741,0.04647458665648484,0.045238143382533576,0.04404496161874911,0.042883165462748736,0.041740644853244184,0.04060592666066813,0.0394690315235594,0.03832223575465421,0.03716065654152659,0.03598258943070732,0.034789549982976786,0.033586004322637426,0.03237881157306575,0.031176438831858975,0.029988040011498407,0.02882250818245852,0.027687613770038776,0.026589327610630684,0.02553140078159867,0.024515236804155332,0.023540052064352876,0.02260328307841426,0.021701169745799616,0.020829425699248238,0.019983902093776568,0.019161159492379034,0.01835888187506717,0.0175760937262314,0.016813171252762202,0.016071667457412887,0.015353993963719387,0.014663017238453969,0.014001631831920323,0.013372368782419522,0.01277708520481948,0.012216764098248406,0.011691434751129558,0.011200206777343864,0.010741397104620857,0.010312720547900318,0.009911511347407309,0.009534944777576068,0.009180233538384673,0.008844781652851292,0.008526287444642669,0.008222795437787249,0.007932703624181178,0.007654736853117947,0.007387898956003975,0.007131415888515753,0.006884680196672151,0.006647204162895208,0.006418585710541821,0.006198488062471508,0.005986631614800338,0.005782794695525555,0.00558681890060655,0.0053986145224184535,0.005218162127016688,0.0050455074562296654,0.004880748326616396,0.004724013819331692,0.004575437535175985,0.004435127789753376,0.004303138185140376,0.004179441967356278,0.004063913027632374,0.003956315483340322,0.0038563026800293673,0.0037634253858214836,0.0036771480598240436,0.0035968714618339445,0.003521959558498721,0.003451768637367178,0.003385676684813501,0.0033231113114251935,0.0032635747150369394,0.0032066642833803705,0.003152087437680283,0.003099669257872982,0.0030493514255032286,0.0030011812218108383,0.0029552898625252563,0.0029118604080913043,0.002871086822969602,0.002833127314362669,0.0027980566006493564,0.002765822927919243,0.002736216160869857,0.0027088528856660196,0.002683183067802479,0.0026585204605051823,0.0026340958852101564,0.002609129090124992,0.002582911637233919,0.0025548907223676347,0.0025247425070951085,0.002492423807378179,0.0024581929877920687,0.0024225945127394365,0.00238640637568111,0.0023505548900800265,0.0023160062705105955,0.002283648251145573,0.0022541770226202342,0.002228004628975549,0.00220519960976051,0.0021854694096041256,0.0021681875255463064,0.0021524623438819654,0.0021372390297144353,0.002121421500963116,0.0021039990696606913,0.0020841620898019515,0.0020613928808791535,0.0020355219213036807,0.0020067441721456987,0.0019755955917001833,0.0019428946262837993,0.0019096570510694305,0.0018769945877432294,0.0018460081615313902,0.0018176856982122598,0.0017928124433015374,0.0017718994520648558,0.0017551336593622758,0.0017423511565908445,0.001733034129849504,0.0017263312745026459,0.0017211011414583548,0.0017159774423152988,0.0017094545162111272,0.0016999897421578298,0.0016861176792580302,0.0016665683884860003,0.0016403802004182344,0.0016069957292125833,0.001566329761439406,0.001518799165403059,0.0014653082692624368,0.001407187973036012,0.0013460925643863657,0.0012838639199862743,0.0012223775233572752,0.001163387652129897,0.0011083896025021586,0.0010585147512999502,0.001014469875036222,0.0009765261129241424,0.0009445562093811653,0.0009181122362363844,0.0008965308365534142,0.0008790498844480862,0.0008649197199110021,0.000853493818778525,0.0008442875595134795,0.0008369990229139602,0.000831491695809674,0.0008277446726752458,0.0008257806519587797,0.0008255850715611304,0.0008270307368086445,0.0008298211751985797,0.0008334629135729021,0.0008372723870356201,0.0008404179230366873,0.0008419919704397118,0.0008411042292896132,0.0008369832337077,0.0008290726841535819,0.0008171095669070637,0.0008011736758198661,0.0007817021140787409,0.000759467041248956,0.0007355195901056294,0.0007111068002187028,0.0006875710651667392,0.000666242696038195,0.0006483357928670589,0.0006348559848543956,0.0006265262310390073,0.0006237343109374956,0.0006265033626630212,0.0006344851621148015,0.0006469748780171871,0.000662945662607149,0.0006811013655485189,0.0006999455464554168,0.0007178645168775873,0.000733221220328964,0.0007444554156839138,0.0007501841219418529,0.0007492950075251577,0.0007410247964273636,0.0007250151612750364,0.0007013401313995001,0.0006705016609007066,0.0006333933268446762,0.0005912356306554267,0.0005454894633406393,0.0004977564465239222,0.0004496757443493874,0.00040282648158151746,0.0003586432875176126,0.00031835010352292955,0.0002829147345866462,0.00025302416642134504,0.00022907876637292542,0.00021120231823239667,0.00019926440019007294,0.000192911744137887,0.0001916056745840585,0.00019466327392990716,0.0002013003753646401,0.00021067475878298102,0.00022192803044210585,0.00023422468566248046,0.0002467868943676945,0.0002589237015760563,0.0002700536380459021,0.0002797201673019155,0.00028759988135667876,0.0002935038038982217,0.00029737248402646746,0.00029926572353515204,0.0002993477874810712,0.0002978688608351603,0.0002951434198949123,0.0002915261696759182,0.000287386310161117,0.0002830811374375666,0.00027893030914996674,0.0002751924148373266,0.00027204568113290263,0.0002695746125202231,0.0002677640626691777,0.00026650164854753993,0.00026558862001401396,0.0002647583935397979,0.0002637010922494044,0.00026209174920465594,0.00025961944207938357,0.00025601459780808574,0.0002510720321909523,0.0002446679034375868,0.00023676954211073056,0.00022743793165482776,0.00021682332106582995,0.0002051549593722787,0.00019272621218004334,0.0001798763758407935,0.00016697041554218227,0.0001543777143387058,0.00014245081908009384,0.0001315051609989839,0.00012180081765481826,0.0001135275210789807,0.00010679421778473166,0.00010162444975229072,9.795856800665462e-05,9.566327194642288e-05,9.454820902947857e-05,9.438845593457722e-05,9.49507718228401e-05,9.60207334644461e-05,9.742739449235062e-05,9.906208476474626e-05,0.00010088844496445696,0.00010294175926068788,0.00010531700347169513,0.00010814659229164609,0.00011157036177798557,0.00011570162160637595,0.0001205939372100775,0.00012621349580581076,0.00013242140241390442,0.00013896907837669735,0.00014550823877296782,0.00015161494022943825,0.00015682520811262078,0.00016067807533706982,0.00016276075922061085,0.00016275034810135349,0.00016044682693761256,0.00015579346929598726,0.00014888236837679614,0.00013994489020965146,0.0001293287888351889,0.00011746532778994963,0.0001048307795734631,9.190701020047508e-05,7.914550831771267e-05,6.693830891029996e-05,5.559799163272254e-05,4.5347539977122475e-05,3.6319555404072196e-05,2.8563306117739732e-05,2.2057456070849715e-05,1.6726089626810607e-05,1.2455775681157786e-05,9.111808783412094e-06,6.5523088793166544e-06,4.63944320634508e-06,3.247561911384444e-06,2.2684521681021226e-06,1.6141855369537989e-06,1.2181596033966636e-06,1.0349369881625524e-06,1.039393040584059e-06,1.2255316832598227e-06,1.6051490965857338e-06,2.2063453244081767e-06,3.0717282552883574e-06,4.256042987525291e-06,5.8229094200044084e-06,7.840375442511926e-06,1.037510000789096e-05,1.3485168343212963e-05,1.721179676648467e-05,2.1570478238657682e-05,2.654240833284336e-05,3.206726030033638e-05,3.803849002235593e-05,4.430229789037126e-05,5.066112695638244e-05,5.68821385895405e-05,6.271051942190521e-05,6.788681344411214e-05,7.216684315974882e-05,7.53422939353917e-05,7.725978204535824e-05,7.783626971969615e-05,7.706903903384917e-05,7.503904388737366e-05,7.190722994108455e-05,6.790422034931027e-05,6.331448029401299e-05,5.845658842065848e-05,5.366149562933351e-05,4.92506342797472e-05,4.551550006097345e-05,4.269994937768681e-05,4.09860370246124e-05,4.048385136905256e-05,4.122554421825557e-05,4.316361292822279e-05,4.617344262814539e-05,5.0060095494203086e-05,5.456927099786138e-05,5.940219926826566e-05,6.423394641028421e-05,6.87342276027578e-05,7.25894055672258e-05,7.55239917268395e-05,7.731976409205747e-05],\"yaxis\":\"y\",\"type\":\"scatter\"}],                        {\"barmode\":\"overlay\",\"hovermode\":\"closest\",\"legend\":{\"traceorder\":\"reversed\"},\"xaxis\":{\"anchor\":\"y2\",\"domain\":[0.0,1.0],\"zeroline\":false},\"yaxis\":{\"anchor\":\"free\",\"domain\":[0.0,1],\"position\":0.0},\"template\":{\"data\":{\"bar\":[{\"error_x\":{\"color\":\"#2a3f5f\"},\"error_y\":{\"color\":\"#2a3f5f\"},\"marker\":{\"line\":{\"color\":\"#E5ECF6\",\"width\":0.5},\"pattern\":{\"fillmode\":\"overlay\",\"size\":10,\"solidity\":0.2}},\"type\":\"bar\"}],\"barpolar\":[{\"marker\":{\"line\":{\"color\":\"#E5ECF6\",\"width\":0.5},\"pattern\":{\"fillmode\":\"overlay\",\"size\":10,\"solidity\":0.2}},\"type\":\"barpolar\"}],\"carpet\":[{\"aaxis\":{\"endlinecolor\":\"#2a3f5f\",\"gridcolor\":\"white\",\"linecolor\":\"white\",\"minorgridcolor\":\"white\",\"startlinecolor\":\"#2a3f5f\"},\"baxis\":{\"endlinecolor\":\"#2a3f5f\",\"gridcolor\":\"white\",\"linecolor\":\"white\",\"minorgridcolor\":\"white\",\"startlinecolor\":\"#2a3f5f\"},\"type\":\"carpet\"}],\"choropleth\":[{\"colorbar\":{\"outlinewidth\":0,\"ticks\":\"\"},\"type\":\"choropleth\"}],\"contour\":[{\"colorbar\":{\"outlinewidth\":0,\"ticks\":\"\"},\"colorscale\":[[0.0,\"#0d0887\"],[0.1111111111111111,\"#46039f\"],[0.2222222222222222,\"#7201a8\"],[0.3333333333333333,\"#9c179e\"],[0.4444444444444444,\"#bd3786\"],[0.5555555555555556,\"#d8576b\"],[0.6666666666666666,\"#ed7953\"],[0.7777777777777778,\"#fb9f3a\"],[0.8888888888888888,\"#fdca26\"],[1.0,\"#f0f921\"]],\"type\":\"contour\"}],\"contourcarpet\":[{\"colorbar\":{\"outlinewidth\":0,\"ticks\":\"\"},\"type\":\"contourcarpet\"}],\"heatmap\":[{\"colorbar\":{\"outlinewidth\":0,\"ticks\":\"\"},\"colorscale\":[[0.0,\"#0d0887\"],[0.1111111111111111,\"#46039f\"],[0.2222222222222222,\"#7201a8\"],[0.3333333333333333,\"#9c179e\"],[0.4444444444444444,\"#bd3786\"],[0.5555555555555556,\"#d8576b\"],[0.6666666666666666,\"#ed7953\"],[0.7777777777777778,\"#fb9f3a\"],[0.8888888888888888,\"#fdca26\"],[1.0,\"#f0f921\"]],\"type\":\"heatmap\"}],\"heatmapgl\":[{\"colorbar\":{\"outlinewidth\":0,\"ticks\":\"\"},\"colorscale\":[[0.0,\"#0d0887\"],[0.1111111111111111,\"#46039f\"],[0.2222222222222222,\"#7201a8\"],[0.3333333333333333,\"#9c179e\"],[0.4444444444444444,\"#bd3786\"],[0.5555555555555556,\"#d8576b\"],[0.6666666666666666,\"#ed7953\"],[0.7777777777777778,\"#fb9f3a\"],[0.8888888888888888,\"#fdca26\"],[1.0,\"#f0f921\"]],\"type\":\"heatmapgl\"}],\"histogram\":[{\"marker\":{\"pattern\":{\"fillmode\":\"overlay\",\"size\":10,\"solidity\":0.2}},\"type\":\"histogram\"}],\"histogram2d\":[{\"colorbar\":{\"outlinewidth\":0,\"ticks\":\"\"},\"colorscale\":[[0.0,\"#0d0887\"],[0.1111111111111111,\"#46039f\"],[0.2222222222222222,\"#7201a8\"],[0.3333333333333333,\"#9c179e\"],[0.4444444444444444,\"#bd3786\"],[0.5555555555555556,\"#d8576b\"],[0.6666666666666666,\"#ed7953\"],[0.7777777777777778,\"#fb9f3a\"],[0.8888888888888888,\"#fdca26\"],[1.0,\"#f0f921\"]],\"type\":\"histogram2d\"}],\"histogram2dcontour\":[{\"colorbar\":{\"outlinewidth\":0,\"ticks\":\"\"},\"colorscale\":[[0.0,\"#0d0887\"],[0.1111111111111111,\"#46039f\"],[0.2222222222222222,\"#7201a8\"],[0.3333333333333333,\"#9c179e\"],[0.4444444444444444,\"#bd3786\"],[0.5555555555555556,\"#d8576b\"],[0.6666666666666666,\"#ed7953\"],[0.7777777777777778,\"#fb9f3a\"],[0.8888888888888888,\"#fdca26\"],[1.0,\"#f0f921\"]],\"type\":\"histogram2dcontour\"}],\"mesh3d\":[{\"colorbar\":{\"outlinewidth\":0,\"ticks\":\"\"},\"type\":\"mesh3d\"}],\"parcoords\":[{\"line\":{\"colorbar\":{\"outlinewidth\":0,\"ticks\":\"\"}},\"type\":\"parcoords\"}],\"pie\":[{\"automargin\":true,\"type\":\"pie\"}],\"scatter\":[{\"marker\":{\"colorbar\":{\"outlinewidth\":0,\"ticks\":\"\"}},\"type\":\"scatter\"}],\"scatter3d\":[{\"line\":{\"colorbar\":{\"outlinewidth\":0,\"ticks\":\"\"}},\"marker\":{\"colorbar\":{\"outlinewidth\":0,\"ticks\":\"\"}},\"type\":\"scatter3d\"}],\"scattercarpet\":[{\"marker\":{\"colorbar\":{\"outlinewidth\":0,\"ticks\":\"\"}},\"type\":\"scattercarpet\"}],\"scattergeo\":[{\"marker\":{\"colorbar\":{\"outlinewidth\":0,\"ticks\":\"\"}},\"type\":\"scattergeo\"}],\"scattergl\":[{\"marker\":{\"colorbar\":{\"outlinewidth\":0,\"ticks\":\"\"}},\"type\":\"scattergl\"}],\"scattermapbox\":[{\"marker\":{\"colorbar\":{\"outlinewidth\":0,\"ticks\":\"\"}},\"type\":\"scattermapbox\"}],\"scatterpolar\":[{\"marker\":{\"colorbar\":{\"outlinewidth\":0,\"ticks\":\"\"}},\"type\":\"scatterpolar\"}],\"scatterpolargl\":[{\"marker\":{\"colorbar\":{\"outlinewidth\":0,\"ticks\":\"\"}},\"type\":\"scatterpolargl\"}],\"scatterternary\":[{\"marker\":{\"colorbar\":{\"outlinewidth\":0,\"ticks\":\"\"}},\"type\":\"scatterternary\"}],\"surface\":[{\"colorbar\":{\"outlinewidth\":0,\"ticks\":\"\"},\"colorscale\":[[0.0,\"#0d0887\"],[0.1111111111111111,\"#46039f\"],[0.2222222222222222,\"#7201a8\"],[0.3333333333333333,\"#9c179e\"],[0.4444444444444444,\"#bd3786\"],[0.5555555555555556,\"#d8576b\"],[0.6666666666666666,\"#ed7953\"],[0.7777777777777778,\"#fb9f3a\"],[0.8888888888888888,\"#fdca26\"],[1.0,\"#f0f921\"]],\"type\":\"surface\"}],\"table\":[{\"cells\":{\"fill\":{\"color\":\"#EBF0F8\"},\"line\":{\"color\":\"white\"}},\"header\":{\"fill\":{\"color\":\"#C8D4E3\"},\"line\":{\"color\":\"white\"}},\"type\":\"table\"}]},\"layout\":{\"annotationdefaults\":{\"arrowcolor\":\"#2a3f5f\",\"arrowhead\":0,\"arrowwidth\":1},\"autotypenumbers\":\"strict\",\"coloraxis\":{\"colorbar\":{\"outlinewidth\":0,\"ticks\":\"\"}},\"colorscale\":{\"diverging\":[[0,\"#8e0152\"],[0.1,\"#c51b7d\"],[0.2,\"#de77ae\"],[0.3,\"#f1b6da\"],[0.4,\"#fde0ef\"],[0.5,\"#f7f7f7\"],[0.6,\"#e6f5d0\"],[0.7,\"#b8e186\"],[0.8,\"#7fbc41\"],[0.9,\"#4d9221\"],[1,\"#276419\"]],\"sequential\":[[0.0,\"#0d0887\"],[0.1111111111111111,\"#46039f\"],[0.2222222222222222,\"#7201a8\"],[0.3333333333333333,\"#9c179e\"],[0.4444444444444444,\"#bd3786\"],[0.5555555555555556,\"#d8576b\"],[0.6666666666666666,\"#ed7953\"],[0.7777777777777778,\"#fb9f3a\"],[0.8888888888888888,\"#fdca26\"],[1.0,\"#f0f921\"]],\"sequentialminus\":[[0.0,\"#0d0887\"],[0.1111111111111111,\"#46039f\"],[0.2222222222222222,\"#7201a8\"],[0.3333333333333333,\"#9c179e\"],[0.4444444444444444,\"#bd3786\"],[0.5555555555555556,\"#d8576b\"],[0.6666666666666666,\"#ed7953\"],[0.7777777777777778,\"#fb9f3a\"],[0.8888888888888888,\"#fdca26\"],[1.0,\"#f0f921\"]]},\"colorway\":[\"#636efa\",\"#EF553B\",\"#00cc96\",\"#ab63fa\",\"#FFA15A\",\"#19d3f3\",\"#FF6692\",\"#B6E880\",\"#FF97FF\",\"#FECB52\"],\"font\":{\"color\":\"#2a3f5f\"},\"geo\":{\"bgcolor\":\"white\",\"lakecolor\":\"white\",\"landcolor\":\"#E5ECF6\",\"showlakes\":true,\"showland\":true,\"subunitcolor\":\"white\"},\"hoverlabel\":{\"align\":\"left\"},\"hovermode\":\"closest\",\"mapbox\":{\"style\":\"light\"},\"paper_bgcolor\":\"white\",\"plot_bgcolor\":\"#E5ECF6\",\"polar\":{\"angularaxis\":{\"gridcolor\":\"white\",\"linecolor\":\"white\",\"ticks\":\"\"},\"bgcolor\":\"#E5ECF6\",\"radialaxis\":{\"gridcolor\":\"white\",\"linecolor\":\"white\",\"ticks\":\"\"}},\"scene\":{\"xaxis\":{\"backgroundcolor\":\"#E5ECF6\",\"gridcolor\":\"white\",\"gridwidth\":2,\"linecolor\":\"white\",\"showbackground\":true,\"ticks\":\"\",\"zerolinecolor\":\"white\"},\"yaxis\":{\"backgroundcolor\":\"#E5ECF6\",\"gridcolor\":\"white\",\"gridwidth\":2,\"linecolor\":\"white\",\"showbackground\":true,\"ticks\":\"\",\"zerolinecolor\":\"white\"},\"zaxis\":{\"backgroundcolor\":\"#E5ECF6\",\"gridcolor\":\"white\",\"gridwidth\":2,\"linecolor\":\"white\",\"showbackground\":true,\"ticks\":\"\",\"zerolinecolor\":\"white\"}},\"shapedefaults\":{\"line\":{\"color\":\"#2a3f5f\"}},\"ternary\":{\"aaxis\":{\"gridcolor\":\"white\",\"linecolor\":\"white\",\"ticks\":\"\"},\"baxis\":{\"gridcolor\":\"white\",\"linecolor\":\"white\",\"ticks\":\"\"},\"bgcolor\":\"#E5ECF6\",\"caxis\":{\"gridcolor\":\"white\",\"linecolor\":\"white\",\"ticks\":\"\"}},\"title\":{\"x\":0.05},\"xaxis\":{\"automargin\":true,\"gridcolor\":\"white\",\"linecolor\":\"white\",\"ticks\":\"\",\"title\":{\"standoff\":15},\"zerolinecolor\":\"white\",\"zerolinewidth\":2},\"yaxis\":{\"automargin\":true,\"gridcolor\":\"white\",\"linecolor\":\"white\",\"ticks\":\"\",\"title\":{\"standoff\":15},\"zerolinecolor\":\"white\",\"zerolinewidth\":2}}}},                        {\"responsive\": true}                    ).then(function(){\n",
       "                            \n",
       "var gd = document.getElementById('4d1d9b5c-d60a-448f-bfc6-cc9723d7f7c8');\n",
       "var x = new MutationObserver(function (mutations, observer) {{\n",
       "        var display = window.getComputedStyle(gd).display;\n",
       "        if (!display || display === 'none') {{\n",
       "            console.log([gd, 'removed!']);\n",
       "            Plotly.purge(gd);\n",
       "            observer.disconnect();\n",
       "        }}\n",
       "}});\n",
       "\n",
       "// Listen for the removal of the full notebook cells\n",
       "var notebookContainer = gd.closest('#notebook-container');\n",
       "if (notebookContainer) {{\n",
       "    x.observe(notebookContainer, {childList: true});\n",
       "}}\n",
       "\n",
       "// Listen for the clearing of the current output cell\n",
       "var outputEl = gd.closest('.output');\n",
       "if (outputEl) {{\n",
       "    x.observe(outputEl, {childList: true});\n",
       "}}\n",
       "\n",
       "                        })                };                });            </script>        </div>"
      ]
     },
     "metadata": {},
     "output_type": "display_data"
    }
   ],
   "source": [
    "fig = ff.create_distplot([x1, x2, x3, x4], ['Overall Age', 'Gold Medalist', 'Silver Medalist', 'Bronze Medalist'],show_hist=False, show_rug=False)\n",
    "fig.show()"
   ]
  },
  {
   "cell_type": "code",
   "execution_count": 240,
   "id": "74a9aed0",
   "metadata": {},
   "outputs": [],
   "source": [
    "x = []\n",
    "name = []\n",
    "famous_sports = ['Basketball', 'Judo', 'Football', 'Tug-Of-War', 'Athletics',\n",
    "                'Swimming', 'Badminton', 'Sailing', 'Gymnastics',\n",
    "                'Art Competitions', 'Handball', 'Weightlifting', 'Wrestling',\n",
    "                'Water Polo', 'Hockey', 'Rowing', 'Fencing',\n",
    "                'Shooting', 'Boxing', 'Taekwondo', 'Cycling', 'Diving', 'Canoeing',\n",
    "                'Tennis', 'Golf', 'Softball', 'Archery',\n",
    "                'Volleyball', 'Synchronized Swimming', 'Table Tennis', 'Baseball',\n",
    "                'Rhythmic Gymnastics', 'Rugby Sevens',\n",
    "                'Beach Volleyball', 'Triathlon', 'Rugby', 'Polo', 'Ice Hockey']\n",
    "for sport in famous_sports:\n",
    "    temp_df = athlete_df[athlete_df['Sport'] == sport]\n",
    "    x.append(temp_df[temp_df['Medal'] == 'Gold']['Age'].dropna())\n",
    "    name.append(sport)"
   ]
  },
  {
   "cell_type": "code",
   "execution_count": 241,
   "id": "17286cd5",
   "metadata": {},
   "outputs": [],
   "source": [
    "athlete_df = df.drop_duplicates(subset=['Name', 'region'])\n",
    "athlete_df['Medal'].fillna('No Medal', inplace=True)"
   ]
  },
  {
   "cell_type": "code",
   "execution_count": 242,
   "id": "941b9e5a",
   "metadata": {},
   "outputs": [
    {
     "name": "stderr",
     "output_type": "stream",
     "text": [
      "c:\\python\\python37\\lib\\site-packages\\seaborn\\_decorators.py:43: FutureWarning:\n",
      "\n",
      "Pass the following variables as keyword args: x, y. From version 0.12, the only valid positional argument will be `data`, and passing other arguments without an explicit keyword will result in an error or misinterpretation.\n",
      "\n",
      "c:\\python\\python37\\lib\\site-packages\\ipykernel_launcher.py:3: UserWarning:\n",
      "\n",
      "Matplotlib is currently using module://matplotlib_inline.backend_inline, which is a non-GUI backend, so cannot show the figure.\n",
      "\n"
     ]
    },
    {
     "data": {
      "image/png": "[encoded data removed]",
      "text/plain": [
       "<Figure size 432x288 with 1 Axes>"
      ]
     },
     "metadata": {
      "needs_background": "light"
     },
     "output_type": "display_data"
    }
   ],
   "source": [
    "fig,ax = plt.subplots()\n",
    "ax = sns.scatterplot(temp_df['Weight'],temp_df['Height'],hue=temp_df['Medal'],style=temp_df['Sex'],s=60)\n",
    "fig.show()"
   ]
  },
  {
   "cell_type": "code",
   "execution_count": 243,
   "id": "66409725",
   "metadata": {},
   "outputs": [],
   "source": [
    "athlete_df = df.drop_duplicates(subset=['Name', 'region'])\n",
    "\n",
    "men = athlete_df[athlete_df['Sex'] == 'M'].groupby('Year').count()['Name'].reset_index()\n",
    "women = athlete_df[athlete_df['Sex'] == 'F'].groupby('Year').count()['Name'].reset_index()\n",
    "\n",
    "final = men.merge(women, on='Year', how='left')\n",
    "final.rename(columns={'Name_x': 'Male', 'Name_y': 'Female'}, inplace=True)\n",
    "\n",
    "final.fillna(0, inplace=True)"
   ]
  },
  {
   "cell_type": "code",
   "execution_count": 246,
   "id": "8c3ebfea",
   "metadata": {},
   "outputs": [],
   "source": [
    "fig = px.line(final, x=\"Year\", y=[\"Male\", \"Female\"])"
   ]
  },
  {
   "cell_type": "code",
   "execution_count": 247,
   "id": "34cd8728",
   "metadata": {},
   "outputs": [
    {
     "data": {
      "application/vnd.plotly.v1+json": {
       "config": {
        "plotlyServerURL": "https://plot.ly"
       },
       "data": [
        {
         "hovertemplate": "variable=Male<br>Year=%{x}<br>value=%{y}<extra></extra>",
         "legendgroup": "Male",
         "line": {
          "color": "#636efa",
          "dash": "solid"
         },
         "marker": {
          "symbol": "circle"
         },
         "mode": "lines",
         "name": "Male",
         "orientation": "v",
         "showlegend": true,
         "type": "scatter",
         "x": [
          1896,
          1900,
          1904,
          1908,
          1912,
          1920,
          1924,
          1928,
          1932,
          1936,
          1948,
          1952,
          1956,
          1960,
          1964,
          1968,
          1972,
          1976,
          1980,
          1984,
          1988,
          1992,
          1996,
          2000,
          2004,
          2008,
          2012,
          2016
         ],
         "xaxis": "x",
         "y": [
          174,
          1181,
          629,
          1911,
          1996,
          2286,
          2536,
          2342,
          1382,
          3539,
          3629,
          3468,
          2193,
          3755,
          3290,
          3555,
          4552,
          3320,
          3151,
          4299,
          4704,
          4769,
          4811,
          4294,
          3931,
          3990,
          3679,
          4022
         ],
         "yaxis": "y"
        },
        {
         "hovertemplate": "variable=Female<br>Year=%{x}<br>value=%{y}<extra></extra>",
         "legendgroup": "Female",
         "line": {
          "color": "#EF553B",
          "dash": "solid"
         },
         "marker": {
          "symbol": "circle"
         },
         "mode": "lines",
         "name": "Female",
         "orientation": "v",
         "showlegend": true,
         "type": "scatter",
         "x": [
          1896,
          1900,
          1904,
          1908,
          1912,
          1920,
          1924,
          1928,
          1932,
          1936,
          1948,
          1952,
          1956,
          1960,
          1964,
          1968,
          1972,
          1976,
          1980,
          1984,
          1988,
          1992,
          1996,
          2000,
          2004,
          2008,
          2012,
          2016
         ],
         "xaxis": "x",
         "y": [
          0,
          23,
          6,
          44,
          53,
          73,
          132,
          285,
          162,
          316,
          420,
          409,
          288,
          473,
          507,
          599,
          818,
          1028,
          875,
          1368,
          1734,
          2080,
          2518,
          2790,
          2820,
          2947,
          2919,
          3209
         ],
         "yaxis": "y"
        }
       ],
       "layout": {
        "legend": {
         "title": {
          "text": "variable"
         },
         "tracegroupgap": 0
        },
        "margin": {
         "t": 60
        },
        "template": {
         "data": {
          "bar": [
           {
            "error_x": {
             "color": "#2a3f5f"
            },
            "error_y": {
             "color": "#2a3f5f"
            },
            "marker": {
             "line": {
              "color": "#E5ECF6",
              "width": 0.5
             },
             "pattern": {
              "fillmode": "overlay",
              "size": 10,
              "solidity": 0.2
             }
            },
            "type": "bar"
           }
          ],
          "barpolar": [
           {
            "marker": {
             "line": {
              "color": "#E5ECF6",
              "width": 0.5
             },
             "pattern": {
              "fillmode": "overlay",
              "size": 10,
              "solidity": 0.2
             }
            },
            "type": "barpolar"
           }
          ],
          "carpet": [
           {
            "aaxis": {
             "endlinecolor": "#2a3f5f",
             "gridcolor": "white",
             "linecolor": "white",
             "minorgridcolor": "white",
             "startlinecolor": "#2a3f5f"
            },
            "baxis": {
             "endlinecolor": "#2a3f5f",
             "gridcolor": "white",
             "linecolor": "white",
             "minorgridcolor": "white",
             "startlinecolor": "#2a3f5f"
            },
            "type": "carpet"
           }
          ],
          "choropleth": [
           {
            "colorbar": {
             "outlinewidth": 0,
             "ticks": ""
            },
            "type": "choropleth"
           }
          ],
          "contour": [
           {
            "colorbar": {
             "outlinewidth": 0,
             "ticks": ""
            },
            "colorscale": [
             [
              0,
              "#0d0887"
             ],
             [
              0.1111111111111111,
              "#46039f"
             ],
             [
              0.2222222222222222,
              "#7201a8"
             ],
             [
              0.3333333333333333,
              "#9c179e"
             ],
             [
              0.4444444444444444,
              "#bd3786"
             ],
             [
              0.5555555555555556,
              "#d8576b"
             ],
             [
              0.6666666666666666,
              "#ed7953"
             ],
             [
              0.7777777777777778,
              "#fb9f3a"
             ],
             [
              0.8888888888888888,
              "#fdca26"
             ],
             [
              1,
              "#f0f921"
             ]
            ],
            "type": "contour"
           }
          ],
          "contourcarpet": [
           {
            "colorbar": {
             "outlinewidth": 0,
             "ticks": ""
            },
            "type": "contourcarpet"
           }
          ],
          "heatmap": [
           {
            "colorbar": {
             "outlinewidth": 0,
             "ticks": ""
            },
            "colorscale": [
             [
              0,
              "#0d0887"
             ],
             [
              0.1111111111111111,
              "#46039f"
             ],
             [
              0.2222222222222222,
              "#7201a8"
             ],
             [
              0.3333333333333333,
              "#9c179e"
             ],
             [
              0.4444444444444444,
              "#bd3786"
             ],
             [
              0.5555555555555556,
              "#d8576b"
             ],
             [
              0.6666666666666666,
              "#ed7953"
             ],
             [
              0.7777777777777778,
              "#fb9f3a"
             ],
             [
              0.8888888888888888,
              "#fdca26"
             ],
             [
              1,
              "#f0f921"
             ]
            ],
            "type": "heatmap"
           }
          ],
          "heatmapgl": [
           {
            "colorbar": {
             "outlinewidth": 0,
             "ticks": ""
            },
            "colorscale": [
             [
              0,
              "#0d0887"
             ],
             [
              0.1111111111111111,
              "#46039f"
             ],
             [
              0.2222222222222222,
              "#7201a8"
             ],
             [
              0.3333333333333333,
              "#9c179e"
             ],
             [
              0.4444444444444444,
              "#bd3786"
             ],
             [
              0.5555555555555556,
              "#d8576b"
             ],
             [
              0.6666666666666666,
              "#ed7953"
             ],
             [
              0.7777777777777778,
              "#fb9f3a"
             ],
             [
              0.8888888888888888,
              "#fdca26"
             ],
             [
              1,
              "#f0f921"
             ]
            ],
            "type": "heatmapgl"
           }
          ],
          "histogram": [
           {
            "marker": {
             "pattern": {
              "fillmode": "overlay",
              "size": 10,
              "solidity": 0.2
             }
            },
            "type": "histogram"
           }
          ],
          "histogram2d": [
           {
            "colorbar": {
             "outlinewidth": 0,
             "ticks": ""
            },
            "colorscale": [
             [
              0,
              "#0d0887"
             ],
             [
              0.1111111111111111,
              "#46039f"
             ],
             [
              0.2222222222222222,
              "#7201a8"
             ],
             [
              0.3333333333333333,
              "#9c179e"
             ],
             [
              0.4444444444444444,
              "#bd3786"
             ],
             [
              0.5555555555555556,
              "#d8576b"
             ],
             [
              0.6666666666666666,
              "#ed7953"
             ],
             [
              0.7777777777777778,
              "#fb9f3a"
             ],
             [
              0.8888888888888888,
              "#fdca26"
             ],
             [
              1,
              "#f0f921"
             ]
            ],
            "type": "histogram2d"
           }
          ],
          "histogram2dcontour": [
           {
            "colorbar": {
             "outlinewidth": 0,
             "ticks": ""
            },
            "colorscale": [
             [
              0,
              "#0d0887"
             ],
             [
              0.1111111111111111,
              "#46039f"
             ],
             [
              0.2222222222222222,
              "#7201a8"
             ],
             [
              0.3333333333333333,
              "#9c179e"
             ],
             [
              0.4444444444444444,
              "#bd3786"
             ],
             [
              0.5555555555555556,
              "#d8576b"
             ],
             [
              0.6666666666666666,
              "#ed7953"
             ],
             [
              0.7777777777777778,
              "#fb9f3a"
             ],
             [
              0.8888888888888888,
              "#fdca26"
             ],
             [
              1,
              "#f0f921"
             ]
            ],
            "type": "histogram2dcontour"
           }
          ],
          "mesh3d": [
           {
            "colorbar": {
             "outlinewidth": 0,
             "ticks": ""
            },
            "type": "mesh3d"
           }
          ],
          "parcoords": [
           {
            "line": {
             "colorbar": {
              "outlinewidth": 0,
              "ticks": ""
             }
            },
            "type": "parcoords"
           }
          ],
          "pie": [
           {
            "automargin": true,
            "type": "pie"
           }
          ],
          "scatter": [
           {
            "marker": {
             "colorbar": {
              "outlinewidth": 0,
              "ticks": ""
             }
            },
            "type": "scatter"
           }
          ],
          "scatter3d": [
           {
            "line": {
             "colorbar": {
              "outlinewidth": 0,
              "ticks": ""
             }
            },
            "marker": {
             "colorbar": {
              "outlinewidth": 0,
              "ticks": ""
             }
            },
            "type": "scatter3d"
           }
          ],
          "scattercarpet": [
           {
            "marker": {
             "colorbar": {
              "outlinewidth": 0,
              "ticks": ""
             }
            },
            "type": "scattercarpet"
           }
          ],
          "scattergeo": [
           {
            "marker": {
             "colorbar": {
              "outlinewidth": 0,
              "ticks": ""
             }
            },
            "type": "scattergeo"
           }
          ],
          "scattergl": [
           {
            "marker": {
             "colorbar": {
              "outlinewidth": 0,
              "ticks": ""
             }
            },
            "type": "scattergl"
           }
          ],
          "scattermapbox": [
           {
            "marker": {
             "colorbar": {
              "outlinewidth": 0,
              "ticks": ""
             }
            },
            "type": "scattermapbox"
           }
          ],
          "scatterpolar": [
           {
            "marker": {
             "colorbar": {
              "outlinewidth": 0,
              "ticks": ""
             }
            },
            "type": "scatterpolar"
           }
          ],
          "scatterpolargl": [
           {
            "marker": {
             "colorbar": {
              "outlinewidth": 0,
              "ticks": ""
             }
            },
            "type": "scatterpolargl"
           }
          ],
          "scatterternary": [
           {
            "marker": {
             "colorbar": {
              "outlinewidth": 0,
              "ticks": ""
             }
            },
            "type": "scatterternary"
           }
          ],
          "surface": [
           {
            "colorbar": {
             "outlinewidth": 0,
             "ticks": ""
            },
            "colorscale": [
             [
              0,
              "#0d0887"
             ],
             [
              0.1111111111111111,
              "#46039f"
             ],
             [
              0.2222222222222222,
              "#7201a8"
             ],
             [
              0.3333333333333333,
              "#9c179e"
             ],
             [
              0.4444444444444444,
              "#bd3786"
             ],
             [
              0.5555555555555556,
              "#d8576b"
             ],
             [
              0.6666666666666666,
              "#ed7953"
             ],
             [
              0.7777777777777778,
              "#fb9f3a"
             ],
             [
              0.8888888888888888,
              "#fdca26"
             ],
             [
              1,
              "#f0f921"
             ]
            ],
            "type": "surface"
           }
          ],
          "table": [
           {
            "cells": {
             "fill": {
              "color": "#EBF0F8"
             },
             "line": {
              "color": "white"
             }
            },
            "header": {
             "fill": {
              "color": "#C8D4E3"
             },
             "line": {
              "color": "white"
             }
            },
            "type": "table"
           }
          ]
         },
         "layout": {
          "annotationdefaults": {
           "arrowcolor": "#2a3f5f",
           "arrowhead": 0,
           "arrowwidth": 1
          },
          "autotypenumbers": "strict",
          "coloraxis": {
           "colorbar": {
            "outlinewidth": 0,
            "ticks": ""
           }
          },
          "colorscale": {
           "diverging": [
            [
             0,
             "#8e0152"
            ],
            [
             0.1,
             "#c51b7d"
            ],
            [
             0.2,
             "#de77ae"
            ],
            [
             0.3,
             "#f1b6da"
            ],
            [
             0.4,
             "#fde0ef"
            ],
            [
             0.5,
             "#f7f7f7"
            ],
            [
             0.6,
             "#e6f5d0"
            ],
            [
             0.7,
             "#b8e186"
            ],
            [
             0.8,
             "#7fbc41"
            ],
            [
             0.9,
             "#4d9221"
            ],
            [
             1,
             "#276419"
            ]
           ],
           "sequential": [
            [
             0,
             "#0d0887"
            ],
            [
             0.1111111111111111,
             "#46039f"
            ],
            [
             0.2222222222222222,
             "#7201a8"
            ],
            [
             0.3333333333333333,
             "#9c179e"
            ],
            [
             0.4444444444444444,
             "#bd3786"
            ],
            [
             0.5555555555555556,
             "#d8576b"
            ],
            [
             0.6666666666666666,
             "#ed7953"
            ],
            [
             0.7777777777777778,
             "#fb9f3a"
            ],
            [
             0.8888888888888888,
             "#fdca26"
            ],
            [
             1,
             "#f0f921"
            ]
           ],
           "sequentialminus": [
            [
             0,
             "#0d0887"
            ],
            [
             0.1111111111111111,
             "#46039f"
            ],
            [
             0.2222222222222222,
             "#7201a8"
            ],
            [
             0.3333333333333333,
             "#9c179e"
            ],
            [
             0.4444444444444444,
             "#bd3786"
            ],
            [
             0.5555555555555556,
             "#d8576b"
            ],
            [
             0.6666666666666666,
             "#ed7953"
            ],
            [
             0.7777777777777778,
             "#fb9f3a"
            ],
            [
             0.8888888888888888,
             "#fdca26"
            ],
            [
             1,
             "#f0f921"
            ]
           ]
          },
          "colorway": [
           "#636efa",
           "#EF553B",
           "#00cc96",
           "#ab63fa",
           "#FFA15A",
           "#19d3f3",
           "#FF6692",
           "#B6E880",
           "#FF97FF",
           "#FECB52"
          ],
          "font": {
           "color": "#2a3f5f"
          },
          "geo": {
           "bgcolor": "white",
           "lakecolor": "white",
           "landcolor": "#E5ECF6",
           "showlakes": true,
           "showland": true,
           "subunitcolor": "white"
          },
          "hoverlabel": {
           "align": "left"
          },
          "hovermode": "closest",
          "mapbox": {
           "style": "light"
          },
          "paper_bgcolor": "white",
          "plot_bgcolor": "#E5ECF6",
          "polar": {
           "angularaxis": {
            "gridcolor": "white",
            "linecolor": "white",
            "ticks": ""
           },
           "bgcolor": "#E5ECF6",
           "radialaxis": {
            "gridcolor": "white",
            "linecolor": "white",
            "ticks": ""
           }
          },
          "scene": {
           "xaxis": {
            "backgroundcolor": "#E5ECF6",
            "gridcolor": "white",
            "gridwidth": 2,
            "linecolor": "white",
            "showbackground": true,
            "ticks": "",
            "zerolinecolor": "white"
           },
           "yaxis": {
            "backgroundcolor": "#E5ECF6",
            "gridcolor": "white",
            "gridwidth": 2,
            "linecolor": "white",
            "showbackground": true,
            "ticks": "",
            "zerolinecolor": "white"
           },
           "zaxis": {
            "backgroundcolor": "#E5ECF6",
            "gridcolor": "white",
            "gridwidth": 2,
            "linecolor": "white",
            "showbackground": true,
            "ticks": "",
            "zerolinecolor": "white"
           }
          },
          "shapedefaults": {
           "line": {
            "color": "#2a3f5f"
           }
          },
          "ternary": {
           "aaxis": {
            "gridcolor": "white",
            "linecolor": "white",
            "ticks": ""
           },
           "baxis": {
            "gridcolor": "white",
            "linecolor": "white",
            "ticks": ""
           },
           "bgcolor": "#E5ECF6",
           "caxis": {
            "gridcolor": "white",
            "linecolor": "white",
            "ticks": ""
           }
          },
          "title": {
           "x": 0.05
          },
          "xaxis": {
           "automargin": true,
           "gridcolor": "white",
           "linecolor": "white",
           "ticks": "",
           "title": {
            "standoff": 15
           },
           "zerolinecolor": "white",
           "zerolinewidth": 2
          },
          "yaxis": {
           "automargin": true,
           "gridcolor": "white",
           "linecolor": "white",
           "ticks": "",
           "title": {
            "standoff": 15
           },
           "zerolinecolor": "white",
           "zerolinewidth": 2
          }
         }
        },
        "xaxis": {
         "anchor": "y",
         "domain": [
          0,
          1
         ],
         "title": {
          "text": "Year"
         }
        },
        "yaxis": {
         "anchor": "x",
         "domain": [
          0,
          1
         ],
         "title": {
          "text": "value"
         }
        }
       }
      },
      "text/html": [
       "<div>                            <div id=\"7ae02187-6052-4b50-9ef9-a8073b6fdae2\" class=\"plotly-graph-div\" style=\"height:525px; width:100%;\"></div>            <script type=\"text/javascript\">                require([\"plotly\"], function(Plotly) {                    window.PLOTLYENV=window.PLOTLYENV || {};                                    if (document.getElementById(\"7ae02187-6052-4b50-9ef9-a8073b6fdae2\")) {                    Plotly.newPlot(                        \"7ae02187-6052-4b50-9ef9-a8073b6fdae2\",                        [{\"hovertemplate\":\"variable=Male<br>Year=%{x}<br>value=%{y}<extra></extra>\",\"legendgroup\":\"Male\",\"line\":{\"color\":\"#636efa\",\"dash\":\"solid\"},\"marker\":{\"symbol\":\"circle\"},\"mode\":\"lines\",\"name\":\"Male\",\"orientation\":\"v\",\"showlegend\":true,\"x\":[1896,1900,1904,1908,1912,1920,1924,1928,1932,1936,1948,1952,1956,1960,1964,1968,1972,1976,1980,1984,1988,1992,1996,2000,2004,2008,2012,2016],\"xaxis\":\"x\",\"y\":[174.0,1181.0,629.0,1911.0,1996.0,2286.0,2536.0,2342.0,1382.0,3539.0,3629.0,3468.0,2193.0,3755.0,3290.0,3555.0,4552.0,3320.0,3151.0,4299.0,4704.0,4769.0,4811.0,4294.0,3931.0,3990.0,3679.0,4022.0],\"yaxis\":\"y\",\"type\":\"scatter\"},{\"hovertemplate\":\"variable=Female<br>Year=%{x}<br>value=%{y}<extra></extra>\",\"legendgroup\":\"Female\",\"line\":{\"color\":\"#EF553B\",\"dash\":\"solid\"},\"marker\":{\"symbol\":\"circle\"},\"mode\":\"lines\",\"name\":\"Female\",\"orientation\":\"v\",\"showlegend\":true,\"x\":[1896,1900,1904,1908,1912,1920,1924,1928,1932,1936,1948,1952,1956,1960,1964,1968,1972,1976,1980,1984,1988,1992,1996,2000,2004,2008,2012,2016],\"xaxis\":\"x\",\"y\":[0.0,23.0,6.0,44.0,53.0,73.0,132.0,285.0,162.0,316.0,420.0,409.0,288.0,473.0,507.0,599.0,818.0,1028.0,875.0,1368.0,1734.0,2080.0,2518.0,2790.0,2820.0,2947.0,2919.0,3209.0],\"yaxis\":\"y\",\"type\":\"scatter\"}],                        {\"template\":{\"data\":{\"bar\":[{\"error_x\":{\"color\":\"#2a3f5f\"},\"error_y\":{\"color\":\"#2a3f5f\"},\"marker\":{\"line\":{\"color\":\"#E5ECF6\",\"width\":0.5},\"pattern\":{\"fillmode\":\"overlay\",\"size\":10,\"solidity\":0.2}},\"type\":\"bar\"}],\"barpolar\":[{\"marker\":{\"line\":{\"color\":\"#E5ECF6\",\"width\":0.5},\"pattern\":{\"fillmode\":\"overlay\",\"size\":10,\"solidity\":0.2}},\"type\":\"barpolar\"}],\"carpet\":[{\"aaxis\":{\"endlinecolor\":\"#2a3f5f\",\"gridcolor\":\"white\",\"linecolor\":\"white\",\"minorgridcolor\":\"white\",\"startlinecolor\":\"#2a3f5f\"},\"baxis\":{\"endlinecolor\":\"#2a3f5f\",\"gridcolor\":\"white\",\"linecolor\":\"white\",\"minorgridcolor\":\"white\",\"startlinecolor\":\"#2a3f5f\"},\"type\":\"carpet\"}],\"choropleth\":[{\"colorbar\":{\"outlinewidth\":0,\"ticks\":\"\"},\"type\":\"choropleth\"}],\"contour\":[{\"colorbar\":{\"outlinewidth\":0,\"ticks\":\"\"},\"colorscale\":[[0.0,\"#0d0887\"],[0.1111111111111111,\"#46039f\"],[0.2222222222222222,\"#7201a8\"],[0.3333333333333333,\"#9c179e\"],[0.4444444444444444,\"#bd3786\"],[0.5555555555555556,\"#d8576b\"],[0.6666666666666666,\"#ed7953\"],[0.7777777777777778,\"#fb9f3a\"],[0.8888888888888888,\"#fdca26\"],[1.0,\"#f0f921\"]],\"type\":\"contour\"}],\"contourcarpet\":[{\"colorbar\":{\"outlinewidth\":0,\"ticks\":\"\"},\"type\":\"contourcarpet\"}],\"heatmap\":[{\"colorbar\":{\"outlinewidth\":0,\"ticks\":\"\"},\"colorscale\":[[0.0,\"#0d0887\"],[0.1111111111111111,\"#46039f\"],[0.2222222222222222,\"#7201a8\"],[0.3333333333333333,\"#9c179e\"],[0.4444444444444444,\"#bd3786\"],[0.5555555555555556,\"#d8576b\"],[0.6666666666666666,\"#ed7953\"],[0.7777777777777778,\"#fb9f3a\"],[0.8888888888888888,\"#fdca26\"],[1.0,\"#f0f921\"]],\"type\":\"heatmap\"}],\"heatmapgl\":[{\"colorbar\":{\"outlinewidth\":0,\"ticks\":\"\"},\"colorscale\":[[0.0,\"#0d0887\"],[0.1111111111111111,\"#46039f\"],[0.2222222222222222,\"#7201a8\"],[0.3333333333333333,\"#9c179e\"],[0.4444444444444444,\"#bd3786\"],[0.5555555555555556,\"#d8576b\"],[0.6666666666666666,\"#ed7953\"],[0.7777777777777778,\"#fb9f3a\"],[0.8888888888888888,\"#fdca26\"],[1.0,\"#f0f921\"]],\"type\":\"heatmapgl\"}],\"histogram\":[{\"marker\":{\"pattern\":{\"fillmode\":\"overlay\",\"size\":10,\"solidity\":0.2}},\"type\":\"histogram\"}],\"histogram2d\":[{\"colorbar\":{\"outlinewidth\":0,\"ticks\":\"\"},\"colorscale\":[[0.0,\"#0d0887\"],[0.1111111111111111,\"#46039f\"],[0.2222222222222222,\"#7201a8\"],[0.3333333333333333,\"#9c179e\"],[0.4444444444444444,\"#bd3786\"],[0.5555555555555556,\"#d8576b\"],[0.6666666666666666,\"#ed7953\"],[0.7777777777777778,\"#fb9f3a\"],[0.8888888888888888,\"#fdca26\"],[1.0,\"#f0f921\"]],\"type\":\"histogram2d\"}],\"histogram2dcontour\":[{\"colorbar\":{\"outlinewidth\":0,\"ticks\":\"\"},\"colorscale\":[[0.0,\"#0d0887\"],[0.1111111111111111,\"#46039f\"],[0.2222222222222222,\"#7201a8\"],[0.3333333333333333,\"#9c179e\"],[0.4444444444444444,\"#bd3786\"],[0.5555555555555556,\"#d8576b\"],[0.6666666666666666,\"#ed7953\"],[0.7777777777777778,\"#fb9f3a\"],[0.8888888888888888,\"#fdca26\"],[1.0,\"#f0f921\"]],\"type\":\"histogram2dcontour\"}],\"mesh3d\":[{\"colorbar\":{\"outlinewidth\":0,\"ticks\":\"\"},\"type\":\"mesh3d\"}],\"parcoords\":[{\"line\":{\"colorbar\":{\"outlinewidth\":0,\"ticks\":\"\"}},\"type\":\"parcoords\"}],\"pie\":[{\"automargin\":true,\"type\":\"pie\"}],\"scatter\":[{\"marker\":{\"colorbar\":{\"outlinewidth\":0,\"ticks\":\"\"}},\"type\":\"scatter\"}],\"scatter3d\":[{\"line\":{\"colorbar\":{\"outlinewidth\":0,\"ticks\":\"\"}},\"marker\":{\"colorbar\":{\"outlinewidth\":0,\"ticks\":\"\"}},\"type\":\"scatter3d\"}],\"scattercarpet\":[{\"marker\":{\"colorbar\":{\"outlinewidth\":0,\"ticks\":\"\"}},\"type\":\"scattercarpet\"}],\"scattergeo\":[{\"marker\":{\"colorbar\":{\"outlinewidth\":0,\"ticks\":\"\"}},\"type\":\"scattergeo\"}],\"scattergl\":[{\"marker\":{\"colorbar\":{\"outlinewidth\":0,\"ticks\":\"\"}},\"type\":\"scattergl\"}],\"scattermapbox\":[{\"marker\":{\"colorbar\":{\"outlinewidth\":0,\"ticks\":\"\"}},\"type\":\"scattermapbox\"}],\"scatterpolar\":[{\"marker\":{\"colorbar\":{\"outlinewidth\":0,\"ticks\":\"\"}},\"type\":\"scatterpolar\"}],\"scatterpolargl\":[{\"marker\":{\"colorbar\":{\"outlinewidth\":0,\"ticks\":\"\"}},\"type\":\"scatterpolargl\"}],\"scatterternary\":[{\"marker\":{\"colorbar\":{\"outlinewidth\":0,\"ticks\":\"\"}},\"type\":\"scatterternary\"}],\"surface\":[{\"colorbar\":{\"outlinewidth\":0,\"ticks\":\"\"},\"colorscale\":[[0.0,\"#0d0887\"],[0.1111111111111111,\"#46039f\"],[0.2222222222222222,\"#7201a8\"],[0.3333333333333333,\"#9c179e\"],[0.4444444444444444,\"#bd3786\"],[0.5555555555555556,\"#d8576b\"],[0.6666666666666666,\"#ed7953\"],[0.7777777777777778,\"#fb9f3a\"],[0.8888888888888888,\"#fdca26\"],[1.0,\"#f0f921\"]],\"type\":\"surface\"}],\"table\":[{\"cells\":{\"fill\":{\"color\":\"#EBF0F8\"},\"line\":{\"color\":\"white\"}},\"header\":{\"fill\":{\"color\":\"#C8D4E3\"},\"line\":{\"color\":\"white\"}},\"type\":\"table\"}]},\"layout\":{\"annotationdefaults\":{\"arrowcolor\":\"#2a3f5f\",\"arrowhead\":0,\"arrowwidth\":1},\"autotypenumbers\":\"strict\",\"coloraxis\":{\"colorbar\":{\"outlinewidth\":0,\"ticks\":\"\"}},\"colorscale\":{\"diverging\":[[0,\"#8e0152\"],[0.1,\"#c51b7d\"],[0.2,\"#de77ae\"],[0.3,\"#f1b6da\"],[0.4,\"#fde0ef\"],[0.5,\"#f7f7f7\"],[0.6,\"#e6f5d0\"],[0.7,\"#b8e186\"],[0.8,\"#7fbc41\"],[0.9,\"#4d9221\"],[1,\"#276419\"]],\"sequential\":[[0.0,\"#0d0887\"],[0.1111111111111111,\"#46039f\"],[0.2222222222222222,\"#7201a8\"],[0.3333333333333333,\"#9c179e\"],[0.4444444444444444,\"#bd3786\"],[0.5555555555555556,\"#d8576b\"],[0.6666666666666666,\"#ed7953\"],[0.7777777777777778,\"#fb9f3a\"],[0.8888888888888888,\"#fdca26\"],[1.0,\"#f0f921\"]],\"sequentialminus\":[[0.0,\"#0d0887\"],[0.1111111111111111,\"#46039f\"],[0.2222222222222222,\"#7201a8\"],[0.3333333333333333,\"#9c179e\"],[0.4444444444444444,\"#bd3786\"],[0.5555555555555556,\"#d8576b\"],[0.6666666666666666,\"#ed7953\"],[0.7777777777777778,\"#fb9f3a\"],[0.8888888888888888,\"#fdca26\"],[1.0,\"#f0f921\"]]},\"colorway\":[\"#636efa\",\"#EF553B\",\"#00cc96\",\"#ab63fa\",\"#FFA15A\",\"#19d3f3\",\"#FF6692\",\"#B6E880\",\"#FF97FF\",\"#FECB52\"],\"font\":{\"color\":\"#2a3f5f\"},\"geo\":{\"bgcolor\":\"white\",\"lakecolor\":\"white\",\"landcolor\":\"#E5ECF6\",\"showlakes\":true,\"showland\":true,\"subunitcolor\":\"white\"},\"hoverlabel\":{\"align\":\"left\"},\"hovermode\":\"closest\",\"mapbox\":{\"style\":\"light\"},\"paper_bgcolor\":\"white\",\"plot_bgcolor\":\"#E5ECF6\",\"polar\":{\"angularaxis\":{\"gridcolor\":\"white\",\"linecolor\":\"white\",\"ticks\":\"\"},\"bgcolor\":\"#E5ECF6\",\"radialaxis\":{\"gridcolor\":\"white\",\"linecolor\":\"white\",\"ticks\":\"\"}},\"scene\":{\"xaxis\":{\"backgroundcolor\":\"#E5ECF6\",\"gridcolor\":\"white\",\"gridwidth\":2,\"linecolor\":\"white\",\"showbackground\":true,\"ticks\":\"\",\"zerolinecolor\":\"white\"},\"yaxis\":{\"backgroundcolor\":\"#E5ECF6\",\"gridcolor\":\"white\",\"gridwidth\":2,\"linecolor\":\"white\",\"showbackground\":true,\"ticks\":\"\",\"zerolinecolor\":\"white\"},\"zaxis\":{\"backgroundcolor\":\"#E5ECF6\",\"gridcolor\":\"white\",\"gridwidth\":2,\"linecolor\":\"white\",\"showbackground\":true,\"ticks\":\"\",\"zerolinecolor\":\"white\"}},\"shapedefaults\":{\"line\":{\"color\":\"#2a3f5f\"}},\"ternary\":{\"aaxis\":{\"gridcolor\":\"white\",\"linecolor\":\"white\",\"ticks\":\"\"},\"baxis\":{\"gridcolor\":\"white\",\"linecolor\":\"white\",\"ticks\":\"\"},\"bgcolor\":\"#E5ECF6\",\"caxis\":{\"gridcolor\":\"white\",\"linecolor\":\"white\",\"ticks\":\"\"}},\"title\":{\"x\":0.05},\"xaxis\":{\"automargin\":true,\"gridcolor\":\"white\",\"linecolor\":\"white\",\"ticks\":\"\",\"title\":{\"standoff\":15},\"zerolinecolor\":\"white\",\"zerolinewidth\":2},\"yaxis\":{\"automargin\":true,\"gridcolor\":\"white\",\"linecolor\":\"white\",\"ticks\":\"\",\"title\":{\"standoff\":15},\"zerolinecolor\":\"white\",\"zerolinewidth\":2}}},\"xaxis\":{\"anchor\":\"y\",\"domain\":[0.0,1.0],\"title\":{\"text\":\"Year\"}},\"yaxis\":{\"anchor\":\"x\",\"domain\":[0.0,1.0],\"title\":{\"text\":\"value\"}},\"legend\":{\"title\":{\"text\":\"variable\"},\"tracegroupgap\":0},\"margin\":{\"t\":60}},                        {\"responsive\": true}                    ).then(function(){\n",
       "                            \n",
       "var gd = document.getElementById('7ae02187-6052-4b50-9ef9-a8073b6fdae2');\n",
       "var x = new MutationObserver(function (mutations, observer) {{\n",
       "        var display = window.getComputedStyle(gd).display;\n",
       "        if (!display || display === 'none') {{\n",
       "            console.log([gd, 'removed!']);\n",
       "            Plotly.purge(gd);\n",
       "            observer.disconnect();\n",
       "        }}\n",
       "}});\n",
       "\n",
       "// Listen for the removal of the full notebook cells\n",
       "var notebookContainer = gd.closest('#notebook-container');\n",
       "if (notebookContainer) {{\n",
       "    x.observe(notebookContainer, {childList: true});\n",
       "}}\n",
       "\n",
       "// Listen for the clearing of the current output cell\n",
       "var outputEl = gd.closest('.output');\n",
       "if (outputEl) {{\n",
       "    x.observe(outputEl, {childList: true});\n",
       "}}\n",
       "\n",
       "                        })                };                });            </script>        </div>"
      ]
     },
     "metadata": {},
     "output_type": "display_data"
    }
   ],
   "source": [
    "fig.show()"
   ]
  },
  {
   "cell_type": "code",
   "execution_count": null,
   "id": "2f9d57f6",
   "metadata": {},
   "outputs": [],
   "source": []
  }
 ],
 "metadata": {
  "kernelspec": {
   "display_name": "Python 3 (ipykernel)",
   "language": "python",
   "name": "python3"
  },
  "language_info": {
   "codemirror_mode": {
    "name": "ipython",
    "version": 3
   },
   "file_extension": ".py",
   "mimetype": "text/x-python",
   "name": "python",
   "nbconvert_exporter": "python",
   "pygments_lexer": "ipython3",
   "version": "3.7.9"
  }
 },
 "nbformat": 4,
 "nbformat_minor": 5
}
